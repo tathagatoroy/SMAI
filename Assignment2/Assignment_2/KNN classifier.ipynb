{
 "cells": [
  {
   "cell_type": "markdown",
   "id": "186be3d3",
   "metadata": {},
   "source": [
    "# KNN Classifier"
   ]
  },
  {
   "cell_type": "markdown",
   "id": "edeabff5",
   "metadata": {},
   "source": [
    "### Dataset"
   ]
  },
  {
   "cell_type": "code",
   "execution_count": 9,
   "id": "69cac090",
   "metadata": {},
   "outputs": [],
   "source": [
    "import numpy as np\n",
    "import pandas as pd\n",
    "from sklearn.model_selection import train_test_split"
   ]
  },
  {
   "cell_type": "code",
   "execution_count": 10,
   "id": "e0fa6912",
   "metadata": {},
   "outputs": [],
   "source": [
    "#Load data\n",
    "iris = pd.read_csv('Iris.csv')\n",
    "#data cleaning\n",
    "iris.drop(columns=\"Id\",inplace=True)"
   ]
  },
  {
   "cell_type": "code",
   "execution_count": 11,
   "id": "1ca8135b",
   "metadata": {},
   "outputs": [],
   "source": [
    "#features and labels\n",
    "X=iris.iloc[:,0:4].values\n",
    "y=iris.iloc[:,4].values\n",
    "\n",
    "#Train and Test split\n",
    "X_train,X_test,y_train,y_test=train_test_split(X,y,test_size=0.2,random_state=0)"
   ]
  },
  {
   "cell_type": "code",
   "execution_count": 12,
   "id": "6ca8c19d",
   "metadata": {},
   "outputs": [
    {
     "name": "stdout",
     "output_type": "stream",
     "text": [
      "(120, 4)\n",
      "(120,)\n",
      "(30, 4)\n",
      "(30,)\n"
     ]
    }
   ],
   "source": [
    "print(X_train.shape)\n",
    "print(y_train.shape)\n",
    "print(X_test.shape)\n",
    "print(y_test.shape)\n"
   ]
  },
  {
   "cell_type": "code",
   "execution_count": 13,
   "id": "74296f03",
   "metadata": {},
   "outputs": [],
   "source": [
    "''' using a L2 distance '''\n",
    "def dist(a,b):\n",
    "    return np.linalg.norm(a-b,2)"
   ]
  },
  {
   "cell_type": "code",
   "execution_count": 14,
   "id": "f247b1fc",
   "metadata": {},
   "outputs": [],
   "source": [
    "''' A K nearest Classifier Parameterized by K,X_train,y_train '''\n",
    "''' returns the class with max votes '''\n",
    "def KNN_Classifier(K,X_train  ,y_train,input_x):\n",
    "    count = {}\n",
    "    res = []\n",
    "    for i in range(len(X_train)):\n",
    "        x = X_train[i]\n",
    "        d = dist(x,np.copy(input_x))\n",
    "        res.append([d,y_train[i]])\n",
    "    sorted_res = sorted(res,key = lambda x : x[0])\n",
    "    for i in range(K):\n",
    "        r = sorted_res[i][1]\n",
    "        if r in count.keys():\n",
    "            count[r] += 1\n",
    "        else:\n",
    "            count[r] = 1\n",
    "    final_votes = -1\n",
    "    final_label = \"\"\n",
    "    for s in count.keys():\n",
    "        if(count[s] > final_votes):\n",
    "            final_label = s\n",
    "            final_votes = count[s]\n",
    "    return final_label\n",
    "        "
   ]
  },
  {
   "cell_type": "code",
   "execution_count": 15,
   "id": "e98e4830",
   "metadata": {},
   "outputs": [],
   "source": [
    "K_vals = [1,3,5,7,9,11,13,15]\n",
    "Accuracy = []\n",
    "A = []\n",
    "for i in range(len(K_vals)):\n",
    "    k = K_vals[i]\n",
    "    #print(k)\n",
    "    #print(\"\")\n",
    "    d = len(X_test)\n",
    "    acc = 0\n",
    "    for j in range(d):\n",
    "        input_x = X_test[j]\n",
    "        res_y = KNN_Classifier(k,X_train,y_train,input_x)\n",
    "        #print(res_y)\n",
    "        #print(y_test[j])\n",
    "        if(res_y == y_test[j]): \n",
    "            acc += 1\n",
    "    A.append(acc)\n",
    "    Accuracy.append(acc/d)\n",
    "    #print(acc)\n",
    "    #print(d)\n",
    "    #print(\" \")"
   ]
  },
  {
   "cell_type": "code",
   "execution_count": 16,
   "id": "36aa708d",
   "metadata": {},
   "outputs": [
    {
     "name": "stdout",
     "output_type": "stream",
     "text": [
      "[1.0, 0.9666666666666667, 0.9666666666666667, 1.0, 1.0, 1.0, 1.0, 1.0]\n",
      "[30, 29, 29, 30, 30, 30, 30, 30]\n"
     ]
    }
   ],
   "source": [
    "print(Accuracy)\n",
    "print(A)"
   ]
  },
  {
   "cell_type": "code",
   "execution_count": 17,
   "id": "ab99ff4a",
   "metadata": {},
   "outputs": [
    {
     "data": {
      "text/plain": [
       "Text(0, 0.5, 'Accuracy')"
      ]
     },
     "execution_count": 17,
     "metadata": {},
     "output_type": "execute_result"
    },
    {
     "data": {
      "image/png": "[encoded data removed]",
      "text/plain": [
       "<Figure size 432x288 with 1 Axes>"
      ]
     },
     "metadata": {
      "needs_background": "light"
     },
     "output_type": "display_data"
    }
   ],
   "source": [
    "import matplotlib.pyplot as plt\n",
    "#fig = plt.figure(figsize = (30,30))\n",
    "ax = plt.gca()\n",
    "#ax.set_xlim([xmin, xmax])\n",
    "ax.set_ylim([0, 1.1])\n",
    "plt.scatter(K_vals,Accuracy)\n",
    "plt.xlabel(\"K\")\n",
    "plt.ylabel(\"Accuracy\")\n",
    "\n"
   ]
  },
  {
   "cell_type": "code",
   "execution_count": null,
   "id": "08f30285",
   "metadata": {},
   "outputs": [],
   "source": []
  }
 ],
 "metadata": {
  "kernelspec": {
   "display_name": "Python (myenv)",
   "language": "python",
   "name": "myenv"
  },
  "language_info": {
   "codemirror_mode": {
    "name": "ipython",
    "version": 3
   },
   "file_extension": ".py",
   "mimetype": "text/x-python",
   "name": "python",
   "nbconvert_exporter": "python",
   "pygments_lexer": "ipython3",
   "version": "3.9.4"
  }
 },
 "nbformat": 4,
 "nbformat_minor": 5
}
