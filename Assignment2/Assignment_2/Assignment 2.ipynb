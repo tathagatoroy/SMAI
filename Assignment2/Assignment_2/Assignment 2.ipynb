{
 "cells": [
  {
   "cell_type": "markdown",
   "id": "15ccd309",
   "metadata": {},
   "source": [
    "# Assignment 2 "
   ]
  },
  {
   "cell_type": "markdown",
   "id": "65cfb227",
   "metadata": {},
   "source": [
    "   ## Author : Tathagato Roy "
   ]
  },
  {
   "cell_type": "markdown",
   "id": "6ca4d3ac",
   "metadata": {},
   "source": [
    "## Roll Number : 2019111020"
   ]
  },
  {
   "cell_type": "code",
   "execution_count": 1,
   "id": "69bb3c2a",
   "metadata": {},
   "outputs": [],
   "source": [
    "import numpy as np\n",
    "import matplotlib.pyplot as plt\n",
    "import math\n",
    "import random\n"
   ]
  },
  {
   "cell_type": "markdown",
   "id": "d8cb63d8",
   "metadata": {},
   "source": [
    "## Q1"
   ]
  },
  {
   "cell_type": "markdown",
   "id": "a32cb146",
   "metadata": {},
   "source": [
    "### Subpart A"
   ]
  },
  {
   "cell_type": "markdown",
   "id": "920b66ca",
   "metadata": {},
   "source": [
    "$$\\text{Single Value Decomposition is more generalizable to Matrices than Eigen Value }$$\n",
    "$$\\text{Decomposition as Single Value Decomposition } $$\n",
    "$$\\text{can applied for both square and rectangular matrices,whereas Eigen Value Decomposition }$$\n",
    "$$\\text{is only applicable to Square Matrices,} $$\n",
    "$$\\text{even then it is not applicable to all Square Matrices,just symmetric ones.} $$"
   ]
  },
  {
   "cell_type": "markdown",
   "id": "cc6733b1",
   "metadata": {},
   "source": [
    "### Subpart B"
   ]
  },
  {
   "cell_type": "markdown",
   "id": "4518a814",
   "metadata": {},
   "source": [
    "$$ \\text{We have a matrix M :} $$\n",
    "$$\\begin{bmatrix}\n",
    "4 & 8\\\\\n",
    "11 & 7\\\\\n",
    "14 & -2\\end{bmatrix}\n",
    "$$"
   ]
  },
  {
   "cell_type": "markdown",
   "id": "bf79e3d5",
   "metadata": {},
   "source": [
    "$$\\text{We want to compute U, }\\Sigma \\text{ and V such that :}$$"
   ]
  },
  {
   "cell_type": "markdown",
   "id": "aa4e0959",
   "metadata": {},
   "source": [
    "$$ M = U\\Sigma V^T $$"
   ]
  },
  {
   "cell_type": "markdown",
   "id": "a6c154a6",
   "metadata": {},
   "source": [
    "$$\\text{Where U is 3}\\times 3 \\text{ unitary matrix, } \\Sigma \\text{ is 3}\\times 2 \\text{ rectangular Diagonal Matrix and V is a 2}\\times 2 \\text{ Unitary Matrix}$$"
   ]
  },
  {
   "cell_type": "markdown",
   "id": "93bb005e",
   "metadata": {},
   "source": [
    "$$ C = M^TM = \\begin{bmatrix} 333 & 81 \\\\ 81 & 117 \\end{bmatrix} $$"
   ]
  },
  {
   "cell_type": "markdown",
   "id": "06888d18",
   "metadata": {},
   "source": [
    "$$ det(C - \\lambda  I) = \\begin{bmatrix} {333 - \\lambda} & 81  \\\\ 81 & {117 - \\lambda}  \\end{bmatrix} $$"
   ]
  },
  {
   "cell_type": "markdown",
   "id": "6cac44e0",
   "metadata": {},
   "source": [
    "$$ \\implies det(C - \\lambda I) = (333 - \\lambda)(117 - \\lambda) - 81^2 $$\n",
    "$$ \\implies det(C- \\lambda I) = \\lambda^2 - 450\\lambda + 32400 $$\n",
    "$$ \\implies det(C - \\lambda I) = \\lambda^2  - 360\\lambda - 90\\lambda + 90*360 $$\n",
    "$$ \\implies det(C - \\lambda I) = (\\lambda - 360)(\\lambda - 90) $$\n",
    "$$\\text{ By setting } det(C - \\lambda I) = 0 \\text{ We get } \\lambda = 90,360 $$"
   ]
  },
  {
   "cell_type": "markdown",
   "id": "4bcc24b8",
   "metadata": {},
   "source": [
    "\n",
    "$$\\text{The Eigen Values of C is therefore } \\lambda_1 = 360,\\lambda_2 = 90 $$"
   ]
  },
  {
   "cell_type": "markdown",
   "id": "f13d027e",
   "metadata": {},
   "source": [
    "$$ \\text{The singular Values are given by  }\\sigma_1 = 6\\sqrt{10} \\text{  } \\sigma_2 = 3\\sqrt{10}$$"
   ]
  },
  {
   "cell_type": "markdown",
   "id": "2d3777b2",
   "metadata": {},
   "source": [
    "$$ \\text{Hence we get } \\Sigma = \\begin{bmatrix} {6\\sqrt{10}} & 0 \\\\ 0 & 3\\sqrt{10}  \\\\ 0 & 0  \\end{bmatrix} $$"
   ]
  },
  {
   "cell_type": "markdown",
   "id": "0ef60fd4",
   "metadata": {},
   "source": [
    "$$\\text{The columns of the Matrix V are the orthonormal eigenvectors of the Matrix } C = M^TM $$"
   ]
  },
  {
   "cell_type": "markdown",
   "id": "ffbd07fb",
   "metadata": {},
   "source": [
    "$$ \\text{The eigenvectors } v_1,v_2 \\text{of the Matrix C can be computed by solving the set of Following equations} $$\n",
    "$$ C v_1 = \\sigma_1^2 v_1  \\implies (C - \\sigma_1^2 I)v_1 = 0 $$\n",
    "$$ C v_2 = \\sigma_2^2 v_2  \\implies (C - \\sigma_2^2 I)v_2 = 0 $$\n",
    "\n",
    "$$ \\text{which is equivalent to computing the null space of the matrices } D_i = (C - \\sigma_i^2 I) \\text{ for } i = 1,2 $$\n",
    "\n",
    "\n",
    "\n"
   ]
  },
  {
   "cell_type": "markdown",
   "id": "a0b34ee6",
   "metadata": {},
   "source": [
    "$$ \\text{ while this can done by solving the set of linear equations ,}$$\n",
    "$$ \\text{but it is extremely tedious.We can compute the eigen vector more easily by using a numpy function } $$"
   ]
  },
  {
   "cell_type": "code",
   "execution_count": 2,
   "id": "ed82a7c3",
   "metadata": {},
   "outputs": [
    {
     "name": "stdout",
     "output_type": "stream",
     "text": [
      "[[ 4  8]\n",
      " [11  7]\n",
      " [14 -2]]\n",
      "(3, 2)\n"
     ]
    }
   ],
   "source": [
    "M = np.array([[4,8],[11,7],[14,-2]])\n",
    "print(M)\n",
    "print(M.shape)"
   ]
  },
  {
   "cell_type": "code",
   "execution_count": 3,
   "id": "c3214dca",
   "metadata": {},
   "outputs": [
    {
     "name": "stdout",
     "output_type": "stream",
     "text": [
      "[[ 4 11 14]\n",
      " [ 8  7 -2]]\n",
      "(2, 3)\n"
     ]
    }
   ],
   "source": [
    "M_T = M.T\n",
    "print(M_T)\n",
    "print(M_T.shape)"
   ]
  },
  {
   "cell_type": "code",
   "execution_count": 9,
   "id": "2808e2c2",
   "metadata": {},
   "outputs": [
    {
     "name": "stdout",
     "output_type": "stream",
     "text": [
      "[[333  81]\n",
      " [ 81 117]]\n",
      "(2, 2)\n"
     ]
    }
   ],
   "source": [
    "C = np.matmul(M_T,M)\n",
    "print(C)\n",
    "print(C.shape)"
   ]
  },
  {
   "cell_type": "code",
   "execution_count": 13,
   "id": "deaaa24e",
   "metadata": {},
   "outputs": [
    {
     "name": "stdout",
     "output_type": "stream",
     "text": [
      "EigenValues : \n",
      "[360.  90.]\n",
      "EigenVectors : \n",
      "[[ 0.9486833  -0.31622777]\n",
      " [ 0.31622777  0.9486833 ]]\n"
     ]
    }
   ],
   "source": [
    "w , v = np.linalg.eig(C)\n",
    "print(\"EigenValues : \")\n",
    "print(w)\n",
    "print(\"EigenVectors : \")\n",
    "print(v)"
   ]
  },
  {
   "cell_type": "code",
   "execution_count": 21,
   "id": "4865871e",
   "metadata": {},
   "outputs": [
    {
     "name": "stdout",
     "output_type": "stream",
     "text": [
      "[0.9486833  0.31622777]\n",
      "[-0.31622777  0.9486833 ]\n",
      "[[ 4  8]\n",
      " [11  7]\n",
      " [14 -2]]\n",
      "18.973665961010276\n",
      "9.486832980505138\n",
      "[0.33333333 0.66666667 0.66666667]\n",
      "[ 0.66666667  0.33333333 -0.66666667]\n"
     ]
    }
   ],
   "source": [
    "e1 = v[:,0]\n",
    "e2 = v[:,1]\n",
    "print(e1)\n",
    "print(e2)\n",
    "print(M)\n",
    "s1 = np.sqrt(w[0])\n",
    "s2 = np.sqrt(w[1])\n",
    "print(s1)\n",
    "print(s2)\n",
    "ans1 = np.matmul(M,e1)/s1\n",
    "ans2 = np.matmul(M,e2)/s2\n",
    "print(ans1)\n",
    "print(ans2)\n"
   ]
  },
  {
   "cell_type": "markdown",
   "id": "47b8c025",
   "metadata": {},
   "source": [
    "$$ \\text{The normalized Eigenvectors are : }$$\n"
   ]
  },
  {
   "cell_type": "markdown",
   "id": "76fe3eee",
   "metadata": {},
   "source": [
    "$$ v_1 = \\begin{bmatrix} 0.948 \\\\ 0.316  \\end{bmatrix} $$\n"
   ]
  },
  {
   "cell_type": "markdown",
   "id": "9d40aeef",
   "metadata": {},
   "source": [
    "$$ v_2 = \\begin{bmatrix} -0.316 \\\\ 0.948 \\end{bmatrix} $$\n"
   ]
  },
  {
   "cell_type": "markdown",
   "id": "b2ea73e2",
   "metadata": {},
   "source": [
    "$$ \\text{ Note that this vectors are not unique,given there are 3 other choice of combination(by selectively multiplying } $$\n",
    "$$ v_1,v_2 \\text{ with - 1. Also note that } v_1,v_2 \\text{are ordered according to decreasing order of the modulus }$$\n",
    "$$\\text{their respective Eigenvalue.}$$"
   ]
  },
  {
   "cell_type": "markdown",
   "id": "e33900d3",
   "metadata": {},
   "source": [
    "$$ V = \\begin{bmatrix} v_1 & v_2  \\end{bmatrix} $$\n",
    "$$ \\implies V = \\begin{bmatrix} 0.948 & -0.316 \\\\ 0.316 & 0.948  \\end{bmatrix} $$ "
   ]
  },
  {
   "cell_type": "markdown",
   "id": "374d5c79",
   "metadata": {},
   "source": [
    "$$\\text{Now we want to compute U which a 3X3 Matrix. We know columns of U forms of Orthonormal }$$\n",
    "$$\\text{Basis of the Space Ax.} $$\n",
    "$$ \\text{The singular Values of A is } \\sqrt 90 \\text{ and } \\sqrt 360 $$\n",
    "$$\\text{ hence the rank of A is 2 as there are two singular Values.}$$\n",
    "$$\\text{Therefore the rank of Ax is also 2.The first two columns of U is therefore given by : } $$\n",
    "$$ u_1 = \\frac{Av_1}{\\sigma_1} $$\n",
    "$$ u_2 = \\frac{Av_2}{\\sigma_2} $$"
   ]
  },
  {
   "cell_type": "markdown",
   "id": "d4a7df73",
   "metadata": {},
   "source": [
    "$$ u_1 = \\frac{1}{\\sigma_1}\\begin{bmatrix}4 & 8\\\\11 & 7\\\\14 & -2\\end{bmatrix}\\begin{bmatrix} 0.948 \\\\ 0.316 \\end{bmatrix} $$\n",
    "$$ \\implies u_1 = \\begin{bmatrix} 1/3 \\\\ 2/3 \\\\ 2/3 \\end{bmatrix} $$\n",
    "$$ u_2 = \\frac{1}{\\sigma_1}\\begin{bmatrix}4 & 8\\\\11 & 7\\\\14 & -2\\end{bmatrix}\\begin{bmatrix}  0.316 \\\\ 0.948  \\end{bmatrix} $$\n",
    "$$ \\implies u_2 = \\begin{bmatrix} 2/3 \\\\ 1/3 \\\\ -2/3 \\end{bmatrix} $$\n"
   ]
  },
  {
   "cell_type": "markdown",
   "id": "247b8598",
   "metadata": {},
   "source": [
    "$$ \\text{We need to compute } u_3 \\text{ such that } u_1^T u_3 = 0 \\text{ and } u_2^T u_3 = 0 \\text{ that is } u_3 \\text{ is normal to space spanned by } u_1 \\text{ and } u_2 $$"
   ]
  },
  {
   "cell_type": "markdown",
   "id": "93557d95",
   "metadata": {},
   "source": [
    "$$ \\text{One such example of } u_3 \\text{ is } \\begin{bmatrix} 2/3 \\\\ -2/3 \\\\ 1/3 \\end{bmatrix} $$"
   ]
  },
  {
   "cell_type": "markdown",
   "id": "04b5baf0",
   "metadata": {},
   "source": [
    "$$ U = \\begin{bmatrix} 1/3 & 2/3 & 2/3 \\\\ 2/3 & 1/3 & -2/3 \\\\ 2/3 & -2/3 & 1/3 \\end{bmatrix} $$\n"
   ]
  },
  {
   "cell_type": "markdown",
   "id": "fe863252",
   "metadata": {},
   "source": [
    "$$ \\text{ Hence  } M = \\begin{bmatrix} 1/3 & 2/3 & 2/3 \\\\ 2/3 & 1/3 & -2/3 \\\\ 2/3 & -2/3 & 1/3 \\end{bmatrix}  \\begin{bmatrix} {3\\sqrt{10}} & 0 \\\\ 0 & 6\\sqrt{10}  \\\\ 0 & 0  \\end{bmatrix} \\begin{bmatrix} 0.948 & -0.316 \\\\ 0.316 & 0.948  \\end{bmatrix}^T $$"
   ]
  },
  {
   "cell_type": "markdown",
   "id": "540a28ae",
   "metadata": {},
   "source": [
    "Sanity Check :"
   ]
  },
  {
   "cell_type": "code",
   "execution_count": 25,
   "id": "e951e96e",
   "metadata": {},
   "outputs": [
    {
     "name": "stdout",
     "output_type": "stream",
     "text": [
      "[[ 3.99711896  7.99423792]\n",
      " [10.99207715  6.99495818]\n",
      " [13.98991637 -1.99855948]]\n",
      "Difference\n",
      "[[ 0.00288104  0.00576208]\n",
      " [ 0.00792285  0.00504182]\n",
      " [ 0.01008363 -0.00144052]]\n"
     ]
    }
   ],
   "source": [
    "U = np.array([[1/3,2/3,2/3],[2/3,1/3,-2/3],[2/3,-2/3,1/3]])\n",
    "S = np.array([[np.sqrt(360),0],[0,np.sqrt(90)],[0,0]])\n",
    "V = np.array([[0.948,-0.316],[0.316,0.948]])\n",
    "M_1 = np.matmul(U,np.matmul(S,V.T))\n",
    "print(M_1)\n",
    "print(\"Difference\")\n",
    "print(M - M_1)"
   ]
  },
  {
   "cell_type": "markdown",
   "id": "ed1cf862",
   "metadata": {},
   "source": [
    "## Q2"
   ]
  },
  {
   "cell_type": "markdown",
   "id": "4a2233a2",
   "metadata": {},
   "source": [
    "### Subpart A"
   ]
  },
  {
   "cell_type": "markdown",
   "id": "542baeda",
   "metadata": {},
   "source": [
    "$$ \\text{Assumption : The Decomposition is a SVD Decomposition and hence D is a diagonal Matrix} $$\n",
    "$$ \\text{Option B is correct as one Single Value being larger than the other suggest one is the principle component} $$\n",
    "$$\\text{If both the diagonal values are equal,then there is no way to find the principle component.}$$"
   ]
  },
  {
   "cell_type": "markdown",
   "id": "0b67c9be",
   "metadata": {},
   "source": [
    "$$ \\text{Option C is also Correct.As all the points in X lie in a straight line, therefore the columns of X }$$\n",
    "$$ \\text{which is NX2 Matrix are not linearly Independent and therefore its rank is 1,and as such the number of }$$\n",
    "$$ \\text{nonzero singular value in D is also 1.Hence D is not full rank}$$"
   ]
  },
  {
   "cell_type": "markdown",
   "id": "d7b82e2a",
   "metadata": {},
   "source": [
    "### Subpart B"
   ]
  },
  {
   "cell_type": "markdown",
   "id": "6f64a83f",
   "metadata": {},
   "source": [
    "$$\\text{It is False.It is not neccessary PCA preserves Useful Information for MultiClass Classification,}$$\n",
    "$$\\text{only just that it maximizes the variance} $$"
   ]
  },
  {
   "cell_type": "markdown",
   "id": "5ac18481",
   "metadata": {},
   "source": [
    "### Q3"
   ]
  },
  {
   "cell_type": "markdown",
   "id": "ba7966c0",
   "metadata": {},
   "source": [
    "### Subpart A"
   ]
  },
  {
   "cell_type": "markdown",
   "id": "f57fd781",
   "metadata": {},
   "source": [
    "In Bayesian Statistic The Prior Probability indicates the probability of Random Event / Uncertain Quantity before any data is collected/sampled. \n",
    "It is a expression of our belief about this Random Event / Uncertain Quantity before any evidence is taken into account.\n",
    "\n",
    "The Posterior Probability is the conditional probability of a Random Event / Uncertain Quantity given we have now seen the Evidence/Data X.\n",
    "\n",
    "$$ \\text{Bayes Theorem :}$$\n",
    "$$ P({\\theta}|{X}) = \\frac{P({X}|{\\theta})P(\\theta)}{P(X)} $$"
   ]
  },
  {
   "cell_type": "markdown",
   "id": "5bf38050",
   "metadata": {},
   "source": [
    "$$ \\text{Where : }$$\n",
    "$$ P({\\theta}|{X}) \\text{ is the posterior Probability} $$\n",
    "$$ P({X}|{\\theta}) \\text{is the Likelyhood of seeing X given the parameter } \\theta $$\n",
    "$$ P(\\theta) \\text{ is the prior probability of } \\theta \\text{ or our belief of quantity } \\theta $$\n",
    "$$ P(X) \\text{ is the probability of seeing the evidence/Data X} $$"
   ]
  },
  {
   "cell_type": "markdown",
   "id": "7d2e5236",
   "metadata": {},
   "source": [
    "### Subpart B"
   ]
  },
  {
   "cell_type": "markdown",
   "id": "023535a8",
   "metadata": {},
   "source": [
    "$$\\text{Let E be the event when someone have Sore throat and Headache}$$\n",
    "$$\\text{Let F be the event when someone have the flu}$$\n",
    "$$ P(E) \\text{is the probability of someone having the symptoms Sore Throat and Headache}$$\n",
    "$$ P(F) \\text{ is the probability of someone having the flu} $$\n",
    "$$ P(E|F) \\text{ is the probability someone having the headache and sore throat given they have the flu } $$\n",
    "$$ P(F|E) \\text{ is the probability someone having the flu given they have a headache and sore throat} $$\n",
    "$$ \\text{Given in the problem : } $$\n",
    "$$ P(F) = 0.05 $$\n",
    "$$ P(E) = 0.2 $$\n",
    "$$ P(E|F) = 0.9 $$\n",
    "$$ \\text{We want to now compute P(F|E) ,i.e the probability of having the Flu given someone already has headache and sorethroat}$$\n",
    "$$ \\text{Using Bayes Theorem : } $$\n",
    "$$ P(F|E) = \\frac{P(E|F)*P(F)}{P(E} $$\n",
    "$$ \\implies P(F|E) = \\frac{0.9*0.05}{0.2} $$\n",
    "$$ \\implies P(F|E) = \\frac{9*5*10}{2*100*10} $$\n",
    "$$ \\implies P(F|E) = \\frac{9}{40} $$\n",
    "$$ \\implies P(F|E) = 0.225 $$\n",
    "$$ \\text{Hence there is a 0.225 probability of someone having the Flu given they have headache and sore throat} $$"
   ]
  },
  {
   "cell_type": "code",
   "execution_count": null,
   "id": "22898851",
   "metadata": {},
   "outputs": [],
   "source": []
  }
 ],
 "metadata": {
  "kernelspec": {
   "display_name": "Python (myenv)",
   "language": "python",
   "name": "myenv"
  },
  "language_info": {
   "codemirror_mode": {
    "name": "ipython",
    "version": 3
   },
   "file_extension": ".py",
   "mimetype": "text/x-python",
   "name": "python",
   "nbconvert_exporter": "python",
   "pygments_lexer": "ipython3",
   "version": "3.9.4"
  }
 },
 "nbformat": 4,
 "nbformat_minor": 5
}
