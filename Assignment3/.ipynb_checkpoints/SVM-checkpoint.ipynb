{
 "cells": [
  {
   "cell_type": "markdown",
   "metadata": {
    "id": "KFqwgxfkI9qG"
   },
   "source": [
    "# Support Vector Machines\n",
    "\n",
    "In this section of the assignment, you will get to implement Support Vector Machines which are among the best (and many believe are indeed the best) “off-the-shelf” supervised learning algorithm.\n",
    "\n",
    "This section is further divided into 3 subsections.\n",
    "\n",
    "\n",
    "*   In the first subsection, you will work on a synthetic dataset and visualize the boundary predicted by SVM. You will also vary the value of C-parameter and see how the decision boundary changes. **Please note that you cannot use inbuilt sklearn function for SVM in this sub-section**. You can only use a QCQP (Quadratically Constrained Quadratic Program) solver like CVXPY. \n",
    "\n",
    "  References which you may find helpful for this subsection: \n",
    "  \n",
    "  1.   https://www.cvxpy.org/\n",
    "  2.   https://www.cvxpy.org/examples/basic/quadratic_program.html\n",
    "\n",
    "  Note that in this section you are expected to show how you derived the Quadratically Constrained form(which can be passed into the solver) from the basic principles of SVM algorithm\n",
    "*  In the next subsection you will use be using the famous MNIST dataset to explore various kernels and report the results. **Please note you may use inbuilt sklearn SVM functions in this subsection**\n"
   ]
  },
  {
   "cell_type": "code",
   "execution_count": 97,
   "metadata": {
    "colab": {
     "base_uri": "https://localhost:8080/"
    },
    "executionInfo": {
     "elapsed": 3723,
     "status": "ok",
     "timestamp": 1637950394972,
     "user": {
      "displayName": "Tathagato Roy",
      "photoUrl": "https://lh3.googleusercontent.com/a/default-user=s64",
      "userId": "06999756730187012596"
     },
     "user_tz": -330
    },
    "id": "Ub9ArRIDI9qR",
    "outputId": "a47c5099-0864-463b-d108-771406bdba8c"
   },
   "outputs": [
    {
     "name": "stdout",
     "output_type": "stream",
     "text": [
      "Requirement already satisfied: cvxpy in /usr/local/lib/python3.7/dist-packages (1.0.31)\n",
      "Requirement already satisfied: ecos>=2 in /usr/local/lib/python3.7/dist-packages (from cvxpy) (2.0.7.post1)\n",
      "Requirement already satisfied: multiprocess in /usr/local/lib/python3.7/dist-packages (from cvxpy) (0.70.12.2)\n",
      "Requirement already satisfied: scs>=1.1.3 in /usr/local/lib/python3.7/dist-packages (from cvxpy) (2.1.4)\n",
      "Requirement already satisfied: scipy>=1.1.0 in /usr/local/lib/python3.7/dist-packages (from cvxpy) (1.4.1)\n",
      "Requirement already satisfied: numpy>=1.15 in /usr/local/lib/python3.7/dist-packages (from cvxpy) (1.19.5)\n",
      "Requirement already satisfied: osqp>=0.4.1 in /usr/local/lib/python3.7/dist-packages (from cvxpy) (0.6.2.post0)\n",
      "Requirement already satisfied: qdldl in /usr/local/lib/python3.7/dist-packages (from osqp>=0.4.1->cvxpy) (0.1.5.post0)\n",
      "Requirement already satisfied: dill>=0.3.4 in /usr/local/lib/python3.7/dist-packages (from multiprocess->cvxpy) (0.3.4)\n"
     ]
    }
   ],
   "source": [
    "#!pip install numpy\n",
    "#!pip install matplotlib\n",
    "!pip install cvxpy\n",
    "import numpy as np\n",
    "import cvxpy as cp\n",
    "import matplotlib.pyplot as plt"
   ]
  },
  {
   "cell_type": "code",
   "execution_count": 1,
   "metadata": {},
   "outputs": [],
   "source": [
    "import cv2"
   ]
  },
  {
   "cell_type": "markdown",
   "metadata": {},
   "source": [
    "## Derivation "
   ]
  },
  {
   "cell_type": "markdown",
   "metadata": {
    "id": "GasJBLV5I9qf"
   },
   "source": [
    "### Subsection 1"
   ]
  },
  {
   "cell_type": "code",
   "execution_count": 36,
   "metadata": {
    "executionInfo": {
     "elapsed": 415,
     "status": "ok",
     "timestamp": 1637936179462,
     "user": {
      "displayName": "Tathagato Roy",
      "photoUrl": "https://lh3.googleusercontent.com/a/default-user=s64",
      "userId": "06999756730187012596"
     },
     "user_tz": -330
    },
    "id": "eulkE0pTI9qg"
   },
   "outputs": [],
   "source": [
    "# Feel free to use this helper function to visualize 2D points X with labels +1 or -1\n",
    "def plot_points(X, Y):\n",
    "    reds = []\n",
    "    blues = []\n",
    "    for i in range(Y.shape[0]):\n",
    "        if Y[i] == 1:\n",
    "            reds.append(X[i])\n",
    "        else:\n",
    "            blues.append(X[i])\n",
    "    \n",
    "    reds = np.array(reds)\n",
    "    blues = np.array(blues)\n",
    "    \n",
    "    \n",
    "    plt.scatter(reds[:, 0], reds[:, 1], c = 'r')\n",
    "    plt.scatter(blues[:, 0], blues[:, 1], c = 'b')"
   ]
  },
  {
   "cell_type": "code",
   "execution_count": 39,
   "metadata": {
    "colab": {
     "base_uri": "https://localhost:8080/",
     "height": 265
    },
    "executionInfo": {
     "elapsed": 517,
     "status": "ok",
     "timestamp": 1637936218181,
     "user": {
      "displayName": "Tathagato Roy",
      "photoUrl": "https://lh3.googleusercontent.com/a/default-user=s64",
      "userId": "06999756730187012596"
     },
     "user_tz": -330
    },
    "id": "rpWOqtHjI9qi",
    "outputId": "93c6f7d6-720a-4fbc-8a7f-f76616933a83"
   },
   "outputs": [
    {
     "data": {
      "image/png": "[encoded data removed]",
      "text/plain": [
       "<Figure size 432x288 with 1 Axes>"
      ]
     },
     "metadata": {
      "needs_background": "light"
     },
     "output_type": "display_data"
    }
   ],
   "source": [
    "# Create Synthetic Data and visualize the points\n",
    "X = np.array([[-3.5, -1], [-3, 0], [-3, 1], [-2.7, -1.3], [-2, -1], [-2, -2.7], \n",
    "              [-1, -2.5], [0, -3], [-1.1, 0], [0, 2.5], [1, 2], [0.7, 4], \n",
    "              [2.1, 0.2], [2.3, 1], [2.8, 1.8], [2.2, 2.8]])\n",
    "y = np.array([1, 1, 1, 1, 1, 1, 1, 1, -1, -1, -1, -1, -1, -1, -1, -1])\n",
    "\n",
    "plot_points(X, y)\n",
    "plt.show()"
   ]
  },
  {
   "cell_type": "markdown",
   "metadata": {
    "id": "qkXWnVMuI9qk"
   },
   "source": [
    "In the next cell you are required to derive the Quadratic Constrained Quadratic form of SVM **without soft constraints** from the basic principles. Start with the idea that SVM tries to maximize the margin and then derive the form which you can feed to the solver.\n",
    "\n",
    "Please print the values of w, b. \n",
    "\n",
    "**Note: You are also required to upload a page of the derivation. You may also type it in markdown here.**\n",
    "\n",
    "**Note: You cannot use sklearn SVM functions here.**"
   ]
  },
  {
   "cell_type": "code",
   "execution_count": 13,
   "metadata": {
    "executionInfo": {
     "elapsed": 405,
     "status": "ok",
     "timestamp": 1637935352875,
     "user": {
      "displayName": "Tathagato Roy",
      "photoUrl": "https://lh3.googleusercontent.com/a/default-user=s64",
      "userId": "06999756730187012596"
     },
     "user_tz": -330
    },
    "id": "cL-jVJH8I9ql"
   },
   "outputs": [],
   "source": [
    "# Write your code here\n",
    "def hardmargin_svm(X,y):\n",
    "  w = cp.Variable(X.shape[1])\n",
    "  b = cp.Variable()\n",
    "\n",
    "  #constraints \n",
    "  Constraints = [y[i]*(cp.matmul(w,X[i]) + b) >= 1 for i in range(X.shape[0])]\n",
    "\n",
    "  #Objective\n",
    "  objective = cp.Minimize(0.5 * cp.norm(w,2))\n",
    "\n",
    "  #problem \n",
    "  problem = cp.Problem(objective,Constraints)\n",
    "  problem.solve()\n",
    "  return w.value,b.value\n"
   ]
  },
  {
   "cell_type": "code",
   "execution_count": 14,
   "metadata": {
    "colab": {
     "base_uri": "https://localhost:8080/"
    },
    "executionInfo": {
     "elapsed": 4,
     "status": "ok",
     "timestamp": 1637935353566,
     "user": {
      "displayName": "Tathagato Roy",
      "photoUrl": "https://lh3.googleusercontent.com/a/default-user=s64",
      "userId": "06999756730187012596"
     },
     "user_tz": -330
    },
    "id": "53gzX90ijOl3",
    "outputId": "6be73cdb-600b-4069-f863-969660d02c63"
   },
   "outputs": [
    {
     "name": "stdout",
     "output_type": "stream",
     "text": [
      "Weights : [-1.73913044 -1.30434783]\n",
      "Bias : -2.9130434807856544\n"
     ]
    }
   ],
   "source": [
    "w,b = hardmargin_svm(X,y)\n",
    "print(\"Weights : {0}\".format(w))\n",
    "print(\"Bias : {0}\".format(b))\n"
   ]
  },
  {
   "cell_type": "markdown",
   "metadata": {
    "id": "E1qoXcdDI9qm"
   },
   "source": [
    "In the next cell you are required to visualize the boundary predicted by the solver. You may want to revise up on how to plot the a line given w, b. Please plot w vector as well as the margin lines\n",
    "\n",
    "You may want to create a function to plot the line of separation as you would require this frequently in the subsequent parts of the assignment."
   ]
  },
  {
   "cell_type": "code",
   "execution_count": 40,
   "metadata": {
    "colab": {
     "base_uri": "https://localhost:8080/",
     "height": 621
    },
    "executionInfo": {
     "elapsed": 657,
     "status": "ok",
     "timestamp": 1637936226514,
     "user": {
      "displayName": "Tathagato Roy",
      "photoUrl": "https://lh3.googleusercontent.com/a/default-user=s64",
      "userId": "06999756730187012596"
     },
     "user_tz": -330
    },
    "id": "X3271BtYI9qo",
    "outputId": "cd5115e0-aad6-4e67-b5c0-fc7d69e7c367"
   },
   "outputs": [
    {
     "data": {
      "image/png": "[encoded data removed]",
      "text/plain": [
       "<Figure size 720x720 with 1 Axes>"
      ]
     },
     "metadata": {
      "needs_background": "light"
     },
     "output_type": "display_data"
    }
   ],
   "source": [
    "# Write your code here\n",
    "def draw_line(w,b):\n",
    "    x = np.array([-4,4])\n",
    "    \n",
    "    m = -w[0] / w[1]\n",
    "    c = -b / w[1]\n",
    "    y = m*x + c\n",
    "    y1 = y + 1 / w[1]\n",
    "    y2 = y - 1 / w[1]\n",
    "    return (x,y,y1,y2)\n",
    "\n",
    "x,Y,y1,y2 =  draw_line(w,b)\n",
    "fig = plt.figure(figsize=(10,10))\n",
    "\n",
    "plot_points(X, y)\n",
    "plt.plot(x, Y, 'blue')\n",
    "plt.plot(x, y1, 'r--')\n",
    "plt.plot(x, y2, 'g--')\n",
    "\n",
    "\n",
    "plt.plot(0,0,'go')\n",
    "normx = w[0] \n",
    "normy = w[1]\n",
    "\n",
    "plt.quiver(0, 0 ,normy, normx, color=['black'], scale=25)\n",
    "\n",
    "\n",
    "plt.legend([\"Decision Boundary\",\"margin\",\"w vector\"])\n",
    "plt.title(\"Decision Boundary\")\n",
    "plt.xlabel('X')\n",
    "plt.ylabel('Y')\n",
    "plt.show()"
   ]
  },
  {
   "cell_type": "markdown",
   "metadata": {
    "id": "NnSqBDqqI9qp"
   },
   "source": [
    "In the next cell please plot only the support vectors along with the boundary, w vector, and margins. \n",
    "\n",
    "**Note: You are not supposed to hard-code the points here.**"
   ]
  },
  {
   "cell_type": "code",
   "execution_count": 51,
   "metadata": {
    "colab": {
     "base_uri": "https://localhost:8080/",
     "height": 567
    },
    "executionInfo": {
     "elapsed": 504,
     "status": "ok",
     "timestamp": 1637936808496,
     "user": {
      "displayName": "Tathagato Roy",
      "photoUrl": "https://lh3.googleusercontent.com/a/default-user=s64",
      "userId": "06999756730187012596"
     },
     "user_tz": -330
    },
    "id": "wPBNQB-DI9qq",
    "outputId": "2e38de1a-b6dd-44b0-f5db-8fa79e9fac2b"
   },
   "outputs": [
    {
     "name": "stdout",
     "output_type": "stream",
     "text": [
      "[-3.5 -1. ] 4.478260873404274\n",
      "[-3.  0.] 2.304347827775351\n",
      "[-3.  1.] 1.0000000002399276\n",
      "[-2.7 -1.3] 3.478260872715301\n",
      "[-2. -1.] 1.8695652191237717\n",
      "[-2.  -2.7] 4.086956525933992\n",
      "[-1.  -2.5] 2.086956524239905\n",
      "[ 0. -3.] 1.0000000018206152\n",
      "[-1.1  0. ] 1.0000000009799523\n",
      "[0.  2.5] 6.173913049624213\n",
      "[1. 2.] 7.260869572043502\n",
      "[0.7 4. ] 9.347826096258249\n",
      "[2.1 0.2] 6.8260869622854425\n",
      "[2.3 1. ] 8.21739131155118\n",
      "[2.8 1.8] 10.130434791673022\n",
      "[2.2 2.8] 10.391304357496244\n"
     ]
    },
    {
     "data": {
      "image/png": "[encoded data removed]",
      "text/plain": [
       "<Figure size 432x288 with 1 Axes>"
      ]
     },
     "metadata": {
      "needs_background": "light"
     },
     "output_type": "display_data"
    }
   ],
   "source": [
    "# Write your code here\n",
    "plt.plot(x, Y, 'blue')\n",
    "plt.plot(x, y1, 'r--')\n",
    "plt.plot(x, y2, 'g--')\n",
    "plt.quiver(0, 0 ,normy, normx, color=['black'], scale=25)\n",
    "support_vectors_X = []\n",
    "support_vectors_Y = []\n",
    "mini_distance = np.inf\n",
    "for i in range(X.shape[0]):\n",
    "  distance = y[i]*(np.matmul(w,X[i]) + b)\n",
    "  print(X[i],distance)\n",
    "  mini_distance = min(distance,mini_distance)\n",
    "for i in range(X.shape[0]):\n",
    "  distance = y[i]*(np.matmul(w,X[i]) + b)\n",
    "  if(np.abs(distance - mini_distance) < 0.0001):\n",
    "    support_vectors_X.append(X[i])\n",
    "    support_vectors_Y.append(y[i])\n",
    "support_vectors_Y = np.array(support_vectors_Y)\n",
    "support_vectors_X = np.array(support_vectors_X)\n",
    "#print(support_vectors_Y)\n",
    "#print(support_vectors_X)\n",
    "plot_points(support_vectors_X,support_vectors_Y)\n",
    "\n",
    "\n",
    "\n",
    "\n",
    "plt.legend([\"Decision Boundary\",\"margin\",\"w vector\"])\n",
    "plt.title(\"Decision Boundary\")\n",
    "plt.xlabel('X')\n",
    "plt.ylabel('Y')\n",
    "plt.show()"
   ]
  },
  {
   "cell_type": "markdown",
   "metadata": {
    "id": "x0Kso1FfI9qs"
   },
   "source": [
    "In the next cell add the following points:\n",
    "* (-4, -10) with label 1\n",
    "* (4, 4) with label -1\n",
    "\n",
    "Is the decision boundary changed after adding the points? Explain your observations theoretically."
   ]
  },
  {
   "cell_type": "code",
   "execution_count": 52,
   "metadata": {
    "colab": {
     "base_uri": "https://localhost:8080/",
     "height": 265
    },
    "executionInfo": {
     "elapsed": 427,
     "status": "ok",
     "timestamp": 1637936895439,
     "user": {
      "displayName": "Tathagato Roy",
      "photoUrl": "https://lh3.googleusercontent.com/a/default-user=s64",
      "userId": "06999756730187012596"
     },
     "user_tz": -330
    },
    "id": "m4V4ea1-I9qs",
    "outputId": "acbbf392-7f80-4979-b4b4-e10958efd24e"
   },
   "outputs": [
    {
     "data": {
      "image/png": "[encoded data removed]",
      "text/plain": [
       "<Figure size 432x288 with 1 Axes>"
      ]
     },
     "metadata": {
      "needs_background": "light"
     },
     "output_type": "display_data"
    }
   ],
   "source": [
    "# Re-create the Synthetic Data by adding the points and visualize the points\n",
    "# Create Synthetic Data and visualize the points\n",
    "new_X = np.array([[-3.5, -1], [-3, 0], [-3, 1], [-2.7, -1.3], [-2, -1], [-2, -2.7], \n",
    "              [-1, -2.5], [0, -3], [-1.1, 0], [0, 2.5], [1, 2], [0.7, 4], \n",
    "              [2.1, 0.2], [2.3, 1], [2.8, 1.8], [2.2, 2.8] , [-4, -10] ,[4,4]])\n",
    "new_y = np.array([1, 1, 1, 1, 1, 1, 1, 1, -1, -1, -1, -1, -1, -1, -1, -1, 1, -1])\n",
    "\n",
    "plot_points(new_X, new_y)\n",
    "plt.show()"
   ]
  },
  {
   "cell_type": "code",
   "execution_count": 53,
   "metadata": {
    "colab": {
     "base_uri": "https://localhost:8080/"
    },
    "executionInfo": {
     "elapsed": 392,
     "status": "ok",
     "timestamp": 1637936946603,
     "user": {
      "displayName": "Tathagato Roy",
      "photoUrl": "https://lh3.googleusercontent.com/a/default-user=s64",
      "userId": "06999756730187012596"
     },
     "user_tz": -330
    },
    "id": "sW93Z-FiI9qt",
    "outputId": "c8f71df3-dda3-421b-ed53-52a52e525c5b"
   },
   "outputs": [
    {
     "name": "stdout",
     "output_type": "stream",
     "text": [
      "Weights : [-1.73913044 -1.30434783]\n",
      "Bias : -2.9130434794104367\n"
     ]
    }
   ],
   "source": [
    "# Solve for the decision boundary using this modified dataset\n",
    "w1,b1 = hardmargin_svm(new_X,new_y)\n",
    "print(\"Weights : {0}\".format(w1))\n",
    "print(\"Bias : {0}\".format(b1))"
   ]
  },
  {
   "cell_type": "code",
   "execution_count": 54,
   "metadata": {
    "colab": {
     "base_uri": "https://localhost:8080/",
     "height": 621
    },
    "executionInfo": {
     "elapsed": 730,
     "status": "ok",
     "timestamp": 1637937022305,
     "user": {
      "displayName": "Tathagato Roy",
      "photoUrl": "https://lh3.googleusercontent.com/a/default-user=s64",
      "userId": "06999756730187012596"
     },
     "user_tz": -330
    },
    "id": "IMJoPZyupt7k",
    "outputId": "56f05a43-7a3d-4d40-c321-b4ca4f013db1"
   },
   "outputs": [
    {
     "data": {
      "image/png": "[encoded data removed]",
      "text/plain": [
       "<Figure size 720x720 with 1 Axes>"
      ]
     },
     "metadata": {
      "needs_background": "light"
     },
     "output_type": "display_data"
    }
   ],
   "source": [
    "x2,Y2,y12,y22 =  draw_line(w1,b1)\n",
    "fig = plt.figure(figsize=(10,10))\n",
    "\n",
    "plot_points(new_X, new_y)\n",
    "plt.plot(x2, Y2, 'blue')\n",
    "plt.plot(x2, y12, 'r--')\n",
    "plt.plot(x2, y22, 'g--')\n",
    "\n",
    "\n",
    "plt.plot(0,0,'go')\n",
    "normx = w1[0] \n",
    "normy = w1[1]\n",
    "\n",
    "plt.quiver(0, 0 ,normy, normx, color=['black'], scale=25)\n",
    "\n",
    "\n",
    "plt.legend([\"Decision Boundary\",\"margin\",\"w vector\"])\n",
    "plt.title(\"Decision Boundary\")\n",
    "plt.xlabel('X')\n",
    "plt.ylabel('Y')\n",
    "plt.show()"
   ]
  },
  {
   "cell_type": "markdown",
   "metadata": {
    "id": "I3_hBgOAp92X"
   },
   "source": [
    "The boundary doesn't change as the support vector remains the sames.This is because the two points added are very far from the existing margin in the appropriate direction\n"
   ]
  },
  {
   "cell_type": "markdown",
   "metadata": {
    "id": "AiepQDo3I9qu"
   },
   "source": [
    "In the next cell you are required to modify your framing of optimisation problem to incorporate soft constraints also known as slack. Plot the decision boundary, w and margin lines for various values of C: $0.01$, $0.1$, $3$, $10$, $100$.\n",
    "\n",
    "Explain your results theoretically. How does the boundary change with varying values of C? Why?\n",
    "\n",
    "**Note: Use the modified X and y i.e after adding points in previous cell.**"
   ]
  },
  {
   "cell_type": "markdown",
   "metadata": {
    "id": "cqHM9h3_xyeA"
   },
   "source": [
    "For Higher values of C , the slack variables get too much weight and hence the solver tries to minimize the value cp.sum(Slack) ,trying to make the slack values as close to zero.This makes it similar to Hardmargin Classifier.\n",
    "For low values of C the slack variables can be resonably ignored by the solver hence the slack variables have reasonable magnitude making the margins closer as it supposed to be for soft margin classifier.This is to allow for situations where the data is not always linearly separable."
   ]
  },
  {
   "cell_type": "code",
   "execution_count": 78,
   "metadata": {
    "executionInfo": {
     "elapsed": 440,
     "status": "ok",
     "timestamp": 1637938818410,
     "user": {
      "displayName": "Tathagato Roy",
      "photoUrl": "https://lh3.googleusercontent.com/a/default-user=s64",
      "userId": "06999756730187012596"
     },
     "user_tz": -330
    },
    "id": "5uF4jfZYqUqq"
   },
   "outputs": [],
   "source": [
    "def softmargin_svm(X,y,c):\n",
    "  \n",
    "  w = cp.Variable(X.shape[1])\n",
    "  b = cp.Variable()\n",
    "  slack = cp.Variable(X.shape[0])\n",
    "\n",
    "  #constraints \n",
    "  margin_constraints = [(y[i]*(cp.matmul(w , X[i]) + b)) + slack[i] >= 1  for i in range(X.shape[0])]\n",
    "  slack_constraints = [slack[i] >= 0 for i in range(X.shape[0])]\n",
    "\n",
    "  constraints = margin_constraints + slack_constraints\n",
    "\n",
    "\n",
    "  #Objective\n",
    "  objective = cp.Minimize(0.5*(cp.norm(w,2)) + c*cp.sum(slack))\n",
    "\n",
    "\n",
    "  #problem \n",
    "  problem = cp.Problem(objective, constraints)\n",
    "\n",
    "  problem.solve()\n",
    "  return w.value,b.value\n",
    "    "
   ]
  },
  {
   "cell_type": "code",
   "execution_count": 79,
   "metadata": {
    "colab": {
     "base_uri": "https://localhost:8080/",
     "height": 329
    },
    "executionInfo": {
     "elapsed": 517,
     "status": "ok",
     "timestamp": 1637938822154,
     "user": {
      "displayName": "Tathagato Roy",
      "photoUrl": "https://lh3.googleusercontent.com/a/default-user=s64",
      "userId": "06999756730187012596"
     },
     "user_tz": -330
    },
    "id": "TVEix42nI9qu",
    "outputId": "fdba1dfd-732b-4bcf-bc88-ff1de9b9052b"
   },
   "outputs": [
    {
     "name": "stdout",
     "output_type": "stream",
     "text": [
      "[-0.08655118 -0.09339932]\n",
      "-0.28019797454771356\n"
     ]
    },
    {
     "data": {
      "image/png": "[encoded data removed]",
      "text/plain": [
       "<Figure size 432x288 with 1 Axes>"
      ]
     },
     "metadata": {
      "needs_background": "light"
     },
     "output_type": "display_data"
    }
   ],
   "source": [
    "# Write your code here for C= 0.01\n",
    "c = 0.01\n",
    "w2,b2 =  softmargin_svm(new_X,new_y,c)\n",
    "#w2,b2 =  Softmargin(new_X,new_y,c)\n",
    "\n",
    "print(w2)\n",
    "print(b2)\n",
    "x,y3,y13,y23 =  draw_line(w2,b2)\n",
    "\n",
    "plot_points(new_X, new_y)\n",
    "plt.plot(x, y3, 'blue')\n",
    "plt.plot(x, y13, 'r--')\n",
    "plt.plot(x, y23, 'g--')\n",
    "\n",
    "\n",
    "plt.plot(0,0,'go')\n",
    "normx = w2[0] \n",
    "normy = w2[1]\n",
    "\n",
    "plt.quiver(0, 0 ,normy, normx, color=['black'], scale=25)\n",
    "\n",
    "\n",
    "plt.legend([\"Decision Boundary\",\"margin\",\"w vector\"])\n",
    "plt.title(\"Decision Boundary\")\n",
    "plt.xlabel('X')\n",
    "plt.ylabel('Y')\n",
    "plt.show()"
   ]
  },
  {
   "cell_type": "code",
   "execution_count": 80,
   "metadata": {
    "colab": {
     "base_uri": "https://localhost:8080/",
     "height": 329
    },
    "executionInfo": {
     "elapsed": 514,
     "status": "ok",
     "timestamp": 1637938846538,
     "user": {
      "displayName": "Tathagato Roy",
      "photoUrl": "https://lh3.googleusercontent.com/a/default-user=s64",
      "userId": "06999756730187012596"
     },
     "user_tz": -330
    },
    "id": "f8tdPNMAI9qv",
    "outputId": "c2bf6741-4c12-4646-9342-8291cf9bfca4"
   },
   "outputs": [
    {
     "name": "stdout",
     "output_type": "stream",
     "text": [
      "[-0.38493724 -0.35146444]\n",
      "-0.12133891212648672\n"
     ]
    },
    {
     "data": {
      "image/png": "[encoded data removed]",
      "text/plain": [
       "<Figure size 432x288 with 1 Axes>"
      ]
     },
     "metadata": {
      "needs_background": "light"
     },
     "output_type": "display_data"
    }
   ],
   "source": [
    "# Write your code here for C= 0.1\n",
    "# Write your code here for C= 0.01\n",
    "c = 0.1\n",
    "w2,b2 =  softmargin_svm(new_X,new_y,c)\n",
    "#w2,b2 =  Softmargin(new_X,new_y,c)\n",
    "\n",
    "print(w2)\n",
    "print(b2)\n",
    "x,y3,y13,y23 =  draw_line(w2,b2)\n",
    "\n",
    "plot_points(new_X, new_y)\n",
    "plt.plot(x, y3, 'blue')\n",
    "plt.plot(x, y13, 'r--')\n",
    "plt.plot(x, y23, 'g--')\n",
    "\n",
    "\n",
    "plt.plot(0,0,'go')\n",
    "normx = w2[0] \n",
    "normy = w2[1]\n",
    "\n",
    "plt.quiver(0, 0 ,normy, normx, color=['black'], scale=25)\n",
    "\n",
    "\n",
    "plt.legend([\"Decision Boundary\",\"margin\",\"w vector\"])\n",
    "plt.title(\"Decision Boundary\")\n",
    "plt.xlabel('X')\n",
    "plt.ylabel('Y')\n",
    "plt.show()"
   ]
  },
  {
   "cell_type": "code",
   "execution_count": 81,
   "metadata": {
    "colab": {
     "base_uri": "https://localhost:8080/",
     "height": 329
    },
    "executionInfo": {
     "elapsed": 552,
     "status": "ok",
     "timestamp": 1637938864189,
     "user": {
      "displayName": "Tathagato Roy",
      "photoUrl": "https://lh3.googleusercontent.com/a/default-user=s64",
      "userId": "06999756730187012596"
     },
     "user_tz": -330
    },
    "id": "Xf5hfxRRI9qw",
    "outputId": "9d41529d-eee3-43a6-d573-cb225380f7fe"
   },
   "outputs": [
    {
     "name": "stdout",
     "output_type": "stream",
     "text": [
      "[-1.73913044 -1.30434783]\n",
      "-2.913043480109756\n"
     ]
    },
    {
     "data": {
      "image/png": "[encoded data removed]",
      "text/plain": [
       "<Figure size 432x288 with 1 Axes>"
      ]
     },
     "metadata": {
      "needs_background": "light"
     },
     "output_type": "display_data"
    }
   ],
   "source": [
    "# Write your code here for C= 3\n",
    "c = 3\n",
    "w2,b2 =  softmargin_svm(new_X,new_y,c)\n",
    "#w2,b2 =  Softmargin(new_X,new_y,c)\n",
    "\n",
    "print(w2)\n",
    "print(b2)\n",
    "x,y3,y13,y23 =  draw_line(w2,b2)\n",
    "\n",
    "plot_points(new_X, new_y)\n",
    "plt.plot(x, y3, 'blue')\n",
    "plt.plot(x, y13, 'r--')\n",
    "plt.plot(x, y23, 'g--')\n",
    "\n",
    "\n",
    "plt.plot(0,0,'go')\n",
    "normx = w2[0] \n",
    "normy = w2[1]\n",
    "\n",
    "plt.quiver(0, 0 ,normy, normx, color=['black'], scale=25)\n",
    "\n",
    "\n",
    "plt.legend([\"Decision Boundary\",\"margin\",\"w vector\"])\n",
    "plt.title(\"Decision Boundary\")\n",
    "plt.xlabel('X')\n",
    "plt.ylabel('Y')\n",
    "plt.show()"
   ]
  },
  {
   "cell_type": "code",
   "execution_count": 82,
   "metadata": {
    "colab": {
     "base_uri": "https://localhost:8080/",
     "height": 329
    },
    "executionInfo": {
     "elapsed": 811,
     "status": "ok",
     "timestamp": 1637938878820,
     "user": {
      "displayName": "Tathagato Roy",
      "photoUrl": "https://lh3.googleusercontent.com/a/default-user=s64",
      "userId": "06999756730187012596"
     },
     "user_tz": -330
    },
    "id": "qecGoXdnI9qx",
    "outputId": "19f9a41e-8e26-4b7b-98bc-343e0bf86df8"
   },
   "outputs": [
    {
     "name": "stdout",
     "output_type": "stream",
     "text": [
      "[-1.73913044 -1.30434783]\n",
      "-2.9130434809475867\n"
     ]
    },
    {
     "data": {
      "image/png": "[encoded data removed]",
      "text/plain": [
       "<Figure size 432x288 with 1 Axes>"
      ]
     },
     "metadata": {
      "needs_background": "light"
     },
     "output_type": "display_data"
    }
   ],
   "source": [
    "# Write your code here for C= 10\n",
    "c = 10\n",
    "w2,b2 =  softmargin_svm(new_X,new_y,c)\n",
    "#w2,b2 =  Softmargin(new_X,new_y,c)\n",
    "\n",
    "print(w2)\n",
    "print(b2)\n",
    "x,y3,y13,y23 =  draw_line(w2,b2)\n",
    "\n",
    "plot_points(new_X, new_y)\n",
    "plt.plot(x, y3, 'blue')\n",
    "plt.plot(x, y13, 'r--')\n",
    "plt.plot(x, y23, 'g--')\n",
    "\n",
    "\n",
    "plt.plot(0,0,'go')\n",
    "normx = w2[0] \n",
    "normy = w2[1]\n",
    "\n",
    "plt.quiver(0, 0 ,normy, normx, color=['black'], scale=25)\n",
    "\n",
    "\n",
    "plt.legend([\"Decision Boundary\",\"margin\",\"w vector\"])\n",
    "plt.title(\"Decision Boundary\")\n",
    "plt.xlabel('X')\n",
    "plt.ylabel('Y')\n",
    "plt.show()"
   ]
  },
  {
   "cell_type": "code",
   "execution_count": 84,
   "metadata": {
    "colab": {
     "base_uri": "https://localhost:8080/",
     "height": 329
    },
    "executionInfo": {
     "elapsed": 543,
     "status": "ok",
     "timestamp": 1637938912208,
     "user": {
      "displayName": "Tathagato Roy",
      "photoUrl": "https://lh3.googleusercontent.com/a/default-user=s64",
      "userId": "06999756730187012596"
     },
     "user_tz": -330
    },
    "id": "cO3_kVe9I9qy",
    "outputId": "e4087b4e-46d3-4835-8f9a-e83239a056d5"
   },
   "outputs": [
    {
     "name": "stdout",
     "output_type": "stream",
     "text": [
      "[-1.73913043 -1.30434783]\n",
      "-2.913043478398958\n"
     ]
    },
    {
     "data": {
      "image/png": "[encoded data removed]",
      "text/plain": [
       "<Figure size 432x288 with 1 Axes>"
      ]
     },
     "metadata": {
      "needs_background": "light"
     },
     "output_type": "display_data"
    }
   ],
   "source": [
    "# Write your code here for C= 100\n",
    "# Write your code here for C= 0.01\n",
    "c = 100\n",
    "w2,b2 =  softmargin_svm(new_X,new_y,c)\n",
    "#w2,b2 =  Softmargin(new_X,new_y,c)\n",
    "\n",
    "print(w2)\n",
    "print(b2)\n",
    "x,y3,y13,y23 =  draw_line(w2,b2)\n",
    "\n",
    "plot_points(new_X, new_y)\n",
    "plt.plot(x, y3, 'blue')\n",
    "plt.plot(x, y13, 'r--')\n",
    "plt.plot(x, y23, 'g--')\n",
    "\n",
    "\n",
    "plt.plot(0,0,'go')\n",
    "normx = w2[0] \n",
    "normy = w2[1]\n",
    "\n",
    "plt.quiver(0, 0 ,normy, normx, color=['black'], scale=25)\n",
    "\n",
    "\n",
    "plt.legend([\"Decision Boundary\",\"margin\",\"w vector\"])\n",
    "plt.title(\"Decision Boundary\")\n",
    "plt.xlabel('X')\n",
    "plt.ylabel('Y')\n",
    "plt.show()"
   ]
  },
  {
   "cell_type": "markdown",
   "metadata": {
    "id": "K7crSrYuI9qy"
   },
   "source": [
    "Take the case of C = 100 and remove the support vectors. Does the boundary change after the deletion?\n",
    "Explain why? Show your results by appropriate plots?"
   ]
  },
  {
   "cell_type": "code",
   "execution_count": 92,
   "metadata": {
    "colab": {
     "base_uri": "https://localhost:8080/",
     "height": 329
    },
    "executionInfo": {
     "elapsed": 540,
     "status": "ok",
     "timestamp": 1637939774657,
     "user": {
      "displayName": "Tathagato Roy",
      "photoUrl": "https://lh3.googleusercontent.com/a/default-user=s64",
      "userId": "06999756730187012596"
     },
     "user_tz": -330
    },
    "id": "DxC0xdsEI9qz",
    "outputId": "596d0584-ccc6-46bf-b0e3-90f18e37cab8"
   },
   "outputs": [
    {
     "name": "stdout",
     "output_type": "stream",
     "text": [
      "[-0.38493724 -0.35146444]\n",
      "-0.12133891211966749\n"
     ]
    },
    {
     "data": {
      "image/png": "[encoded data removed]",
      "text/plain": [
       "<Figure size 432x288 with 1 Axes>"
      ]
     },
     "metadata": {
      "needs_background": "light"
     },
     "output_type": "display_data"
    }
   ],
   "source": [
    "# Write your Code here\n",
    "support_vectors_X = []\n",
    "support_vectors_Y = []\n",
    "mini_distance = np.inf\n",
    "for i in range(new_X.shape[0]):\n",
    "  distance = new_y[i]*(np.matmul(w,new_X[i]) + b)\n",
    "  #print(X[i],distance)\n",
    "  mini_distance = min(distance,mini_distance)\n",
    "X1 = []\n",
    "y1 = []\n",
    "for i in range(new_X.shape[0]):\n",
    "  distance = new_y[i]*(np.matmul(w,new_X[i]) + b)\n",
    "  if(np.abs(distance - mini_distance) > 0.0001):\n",
    "    X1.append(new_X[i])\n",
    "    y1.append(new_y[i])\n",
    " \n",
    "X1 = np.array(X1)\n",
    "y1 = np.array(y1)\n",
    "\n",
    "c = 100\n",
    "w2,b2 =  softmargin_svm(X1,y1,c)\n",
    "#w2,b2 =  Softmargin(new_X,new_y,c)\n",
    "\n",
    "print(w2)\n",
    "print(b2)\n",
    "x,y3,y13,y23 =  draw_line(w2,b2)\n",
    "\n",
    "plot_points(new_X, new_y)\n",
    "plt.plot(x, y3, 'blue')\n",
    "plt.plot(x, y13, 'r--')\n",
    "plt.plot(x, y23, 'g--')\n",
    "\n",
    "\n",
    "plt.plot(0,0,'go')\n",
    "normx = w2[0] \n",
    "normy = w2[1]\n",
    "\n",
    "plt.quiver(0, 0 ,normy, normx, color=['black'], scale=25)\n",
    "\n",
    "\n",
    "plt.legend([\"Decision Boundary\",\"margin\",\"w vector\"])\n",
    "plt.title(\"Decision Boundary\")\n",
    "plt.xlabel('X')\n",
    "plt.ylabel('Y')\n",
    "plt.show()\n"
   ]
  },
  {
   "cell_type": "markdown",
   "metadata": {
    "id": "4VpQVEqb0aSk"
   },
   "source": [
    "The support vectors are removed and hence naturally the boundary has changed."
   ]
  },
  {
   "cell_type": "markdown",
   "metadata": {
    "id": "7goMP4wFI9q0"
   },
   "source": [
    "### Subsection 2"
   ]
  },
  {
   "cell_type": "code",
   "execution_count": 93,
   "metadata": {
    "colab": {
     "base_uri": "https://localhost:8080/"
    },
    "executionInfo": {
     "elapsed": 5540,
     "status": "ok",
     "timestamp": 1637939847098,
     "user": {
      "displayName": "Tathagato Roy",
      "photoUrl": "https://lh3.googleusercontent.com/a/default-user=s64",
      "userId": "06999756730187012596"
     },
     "user_tz": -330
    },
    "id": "PZdBRpHuI9q0",
    "outputId": "fc20acf2-7f2e-4a0e-bc71-bd8c91e2bdd7"
   },
   "outputs": [
    {
     "name": "stdout",
     "output_type": "stream",
     "text": [
      "Collecting python-mnist\n",
      "  Downloading python_mnist-0.7-py2.py3-none-any.whl (9.6 kB)\n",
      "Installing collected packages: python-mnist\n",
      "Successfully installed python-mnist-0.7\n",
      "--2021-11-26 15:17:24--  http://yann.lecun.com/exdb/mnist/train-images-idx3-ubyte.gz\n",
      "Resolving yann.lecun.com (yann.lecun.com)... 104.21.29.36, 172.67.171.76, 2606:4700:3036::ac43:ab4c, ...\n",
      "Connecting to yann.lecun.com (yann.lecun.com)|104.21.29.36|:80... connected.\n",
      "HTTP request sent, awaiting response... 200 OK\n",
      "Length: 9912422 (9.5M) [application/x-gzip]\n",
      "Saving to: ‘samples/train-images-idx3-ubyte.gz’\n",
      "\n",
      "train-images-idx3-u 100%[===================>]   9.45M  --.-KB/s    in 0.1s    \n",
      "\n",
      "2021-11-26 15:17:25 (76.7 MB/s) - ‘samples/train-images-idx3-ubyte.gz’ saved [9912422/9912422]\n",
      "\n",
      "--2021-11-26 15:17:25--  http://yann.lecun.com/exdb/mnist/train-labels-idx1-ubyte.gz\n",
      "Resolving yann.lecun.com (yann.lecun.com)... 104.21.29.36, 172.67.171.76, 2606:4700:3036::ac43:ab4c, ...\n",
      "Connecting to yann.lecun.com (yann.lecun.com)|104.21.29.36|:80... connected.\n",
      "HTTP request sent, awaiting response... 200 OK\n",
      "Length: 28881 (28K) [application/x-gzip]\n",
      "Saving to: ‘samples/train-labels-idx1-ubyte.gz’\n",
      "\n",
      "train-labels-idx1-u 100%[===================>]  28.20K  --.-KB/s    in 0s      \n",
      "\n",
      "2021-11-26 15:17:25 (294 MB/s) - ‘samples/train-labels-idx1-ubyte.gz’ saved [28881/28881]\n",
      "\n",
      "--2021-11-26 15:17:25--  http://yann.lecun.com/exdb/mnist/t10k-images-idx3-ubyte.gz\n",
      "Resolving yann.lecun.com (yann.lecun.com)... 104.21.29.36, 172.67.171.76, 2606:4700:3036::ac43:ab4c, ...\n",
      "Connecting to yann.lecun.com (yann.lecun.com)|104.21.29.36|:80... connected.\n",
      "HTTP request sent, awaiting response... 200 OK\n",
      "Length: 1648877 (1.6M) [application/x-gzip]\n",
      "Saving to: ‘samples/t10k-images-idx3-ubyte.gz’\n",
      "\n",
      "t10k-images-idx3-ub 100%[===================>]   1.57M  --.-KB/s    in 0.07s   \n",
      "\n",
      "2021-11-26 15:17:26 (23.1 MB/s) - ‘samples/t10k-images-idx3-ubyte.gz’ saved [1648877/1648877]\n",
      "\n",
      "--2021-11-26 15:17:26--  http://yann.lecun.com/exdb/mnist/t10k-labels-idx1-ubyte.gz\n",
      "Resolving yann.lecun.com (yann.lecun.com)... 104.21.29.36, 172.67.171.76, 2606:4700:3036::ac43:ab4c, ...\n",
      "Connecting to yann.lecun.com (yann.lecun.com)|104.21.29.36|:80... connected.\n",
      "HTTP request sent, awaiting response... 200 OK\n",
      "Length: 4542 (4.4K) [application/x-gzip]\n",
      "Saving to: ‘samples/t10k-labels-idx1-ubyte.gz’\n",
      "\n",
      "t10k-labels-idx1-ub 100%[===================>]   4.44K  --.-KB/s    in 0s      \n",
      "\n",
      "2021-11-26 15:17:26 (289 MB/s) - ‘samples/t10k-labels-idx1-ubyte.gz’ saved [4542/4542]\n",
      "\n"
     ]
    }
   ],
   "source": [
    "!pip install python-mnist\n",
    "!rm -rf samples\n",
    "!mkdir samples\n",
    "!wget http://yann.lecun.com/exdb/mnist/train-images-idx3-ubyte.gz -P samples/\n",
    "!gunzip samples/train-images-idx3-ubyte.gz\n",
    "!wget http://yann.lecun.com/exdb/mnist/train-labels-idx1-ubyte.gz -P samples/\n",
    "!gunzip samples/train-labels-idx1-ubyte.gz\n",
    "!wget http://yann.lecun.com/exdb/mnist/t10k-images-idx3-ubyte.gz -P samples/\n",
    "!gunzip samples/t10k-images-idx3-ubyte.gz\n",
    "!wget http://yann.lecun.com/exdb/mnist/t10k-labels-idx1-ubyte.gz -P samples/\n",
    "!gunzip samples/t10k-labels-idx1-ubyte.gz"
   ]
  },
  {
   "cell_type": "code",
   "execution_count": 20,
   "metadata": {
    "executionInfo": {
     "elapsed": 508,
     "status": "ok",
     "timestamp": 1637953294599,
     "user": {
      "displayName": "Tathagato Roy",
      "photoUrl": "https://lh3.googleusercontent.com/a/default-user=s64",
      "userId": "06999756730187012596"
     },
     "user_tz": -330
    },
    "id": "0XjsnEzVI9q1"
   },
   "outputs": [],
   "source": [
    "# Import Relevant Packages\n",
    "from sklearn.svm import SVC\n",
    "import numpy as np\n",
    "from mnist.loader import MNIST\n",
    "from sklearn.metrics import f1_score\n",
    "from sklearn.metrics import accuracy_score\n",
    "from sklearn.metrics import confusion_matrix\n",
    "from sklearn.preprocessing import StandardScaler"
   ]
  },
  {
   "cell_type": "code",
   "execution_count": 2,
   "metadata": {
    "colab": {
     "base_uri": "https://localhost:8080/"
    },
    "executionInfo": {
     "elapsed": 6078,
     "status": "ok",
     "timestamp": 1637952052683,
     "user": {
      "displayName": "Tathagato Roy",
      "photoUrl": "https://lh3.googleusercontent.com/a/default-user=s64",
      "userId": "06999756730187012596"
     },
     "user_tz": -330
    },
    "id": "WvXDgQXsI9q1",
    "outputId": "f7ca544a-b7e8-4ca7-8c04-ae54b31a8692"
   },
   "outputs": [
    {
     "name": "stdout",
     "output_type": "stream",
     "text": [
      "(60000, 784)\n",
      "(60000,)\n"
     ]
    }
   ],
   "source": [
    "mndata = MNIST('samples')\n",
    "\n",
    "# Load training dataset\n",
    "images, labels = mndata.load_training()\n",
    "l = len(labels)\n",
    "images_train = np.array(images)\n",
    "labels_train = np.array(labels)\n",
    "\n",
    "print(images_train.shape)\n",
    "print(labels_train.shape)"
   ]
  },
  {
   "cell_type": "code",
   "execution_count": null,
   "metadata": {
    "id": "cxjuRXkflRYj"
   },
   "outputs": [],
   "source": [
    "indices = np.random.ran"
   ]
  },
  {
   "cell_type": "code",
   "execution_count": 3,
   "metadata": {
    "colab": {
     "base_uri": "https://localhost:8080/"
    },
    "executionInfo": {
     "elapsed": 1167,
     "status": "ok",
     "timestamp": 1637952056589,
     "user": {
      "displayName": "Tathagato Roy",
      "photoUrl": "https://lh3.googleusercontent.com/a/default-user=s64",
      "userId": "06999756730187012596"
     },
     "user_tz": -330
    },
    "id": "pqZ5EG36I9q2",
    "outputId": "b681db99-567e-49a9-e790-23f682874cff"
   },
   "outputs": [
    {
     "name": "stdout",
     "output_type": "stream",
     "text": [
      "(10000, 784)\n",
      "(10000,)\n"
     ]
    }
   ],
   "source": [
    "# Load testing dataset\n",
    "images, labels = mndata.load_testing()\n",
    "l = len(labels)\n",
    "images_test = np.array(images)\n",
    "labels_test = np.array(labels)\n",
    "\n",
    "print(images_test.shape)\n",
    "print(labels_test.shape)"
   ]
  },
  {
   "cell_type": "code",
   "execution_count": 36,
   "metadata": {
    "colab": {
     "base_uri": "https://localhost:8080/"
    },
    "executionInfo": {
     "elapsed": 476,
     "status": "ok",
     "timestamp": 1637953601010,
     "user": {
      "displayName": "Tathagato Roy",
      "photoUrl": "https://lh3.googleusercontent.com/a/default-user=s64",
      "userId": "06999756730187012596"
     },
     "user_tz": -330
    },
    "id": "IacCyj5Fmxbz",
    "outputId": "de8c3ef9-1f25-4f87-91c8-0e12079d92fc"
   },
   "outputs": [
    {
     "name": "stdout",
     "output_type": "stream",
     "text": [
      "(1000,)\n"
     ]
    }
   ],
   "source": [
    "sz = len(images_test)\n",
    "indices = [i for i in range(sz)]\n",
    "selected_indices = np.random.choice(indices,size = 1000,replace = False)\n",
    "print(selected_indices.shape)\n",
    "#print(selected_indices)"
   ]
  },
  {
   "cell_type": "code",
   "execution_count": 37,
   "metadata": {
    "colab": {
     "base_uri": "https://localhost:8080/"
    },
    "executionInfo": {
     "elapsed": 416,
     "status": "ok",
     "timestamp": 1637953604467,
     "user": {
      "displayName": "Tathagato Roy",
      "photoUrl": "https://lh3.googleusercontent.com/a/default-user=s64",
      "userId": "06999756730187012596"
     },
     "user_tz": -330
    },
    "id": "8aJkYyi8nYP4",
    "outputId": "e7a04862-8b5d-4e90-a6f2-3501f9d93c91"
   },
   "outputs": [
    {
     "name": "stdout",
     "output_type": "stream",
     "text": [
      "(1000, 784)\n",
      "(1000,)\n"
     ]
    }
   ],
   "source": [
    "''' Using a smaller set for faster performance '''\n",
    "Xtrain_set = images_train[selected_indices]\n",
    "Ytrain_set = labels_train[selected_indices]\n",
    "print(Xtrain_set.shape)\n",
    "print(Ytrain_set.shape)"
   ]
  },
  {
   "cell_type": "code",
   "execution_count": 38,
   "metadata": {
    "colab": {
     "base_uri": "https://localhost:8080/"
    },
    "executionInfo": {
     "elapsed": 7,
     "status": "ok",
     "timestamp": 1637953605125,
     "user": {
      "displayName": "Tathagato Roy",
      "photoUrl": "https://lh3.googleusercontent.com/a/default-user=s64",
      "userId": "06999756730187012596"
     },
     "user_tz": -330
    },
    "id": "uZM1sBMyoHQS",
    "outputId": "b99fc073-588c-49b7-9d28-5899dace9c5e"
   },
   "outputs": [
    {
     "name": "stdout",
     "output_type": "stream",
     "text": [
      "26234.393000000004\n",
      "(784,)\n"
     ]
    }
   ],
   "source": [
    "print(np.sum(np.mean(Xtrain_set,axis = 0)))\n",
    "print(np.mean(Xtrain_set,axis = 0).shape)"
   ]
  },
  {
   "cell_type": "code",
   "execution_count": 39,
   "metadata": {
    "colab": {
     "base_uri": "https://localhost:8080/"
    },
    "executionInfo": {
     "elapsed": 525,
     "status": "ok",
     "timestamp": 1637953612368,
     "user": {
      "displayName": "Tathagato Roy",
      "photoUrl": "https://lh3.googleusercontent.com/a/default-user=s64",
      "userId": "06999756730187012596"
     },
     "user_tz": -330
    },
    "id": "dTArl-xqnxhr",
    "outputId": "1225896f-9a60-45ca-909d-2d2688bb3963"
   },
   "outputs": [
    {
     "name": "stdout",
     "output_type": "stream",
     "text": [
      "(1000, 784)\n",
      "-7.500862778120342e-15\n",
      "()\n"
     ]
    }
   ],
   "source": [
    "''' scale the train set and test set '''\n",
    "scaler = StandardScaler()\n",
    "scaler.fit(Xtrain_set)\n",
    "Xtrain_set = scaler.transform(Xtrain_set)\n",
    "print(Xtrain_set.shape)\n",
    "print(np.sum(np.mean(Xtrain_set,axis = 0)))\n",
    "print(np.mean(Xtrain_set).shape)\n"
   ]
  },
  {
   "cell_type": "code",
   "execution_count": 40,
   "metadata": {
    "executionInfo": {
     "elapsed": 514,
     "status": "ok",
     "timestamp": 1637953651175,
     "user": {
      "displayName": "Tathagato Roy",
      "photoUrl": "https://lh3.googleusercontent.com/a/default-user=s64",
      "userId": "06999756730187012596"
     },
     "user_tz": -330
    },
    "id": "iFr1x33CpMqK"
   },
   "outputs": [],
   "source": [
    "Xtest_set = scaler.transform(images_test)"
   ]
  },
  {
   "cell_type": "code",
   "execution_count": 42,
   "metadata": {
    "colab": {
     "base_uri": "https://localhost:8080/"
    },
    "executionInfo": {
     "elapsed": 567,
     "status": "ok",
     "timestamp": 1637953740987,
     "user": {
      "displayName": "Tathagato Roy",
      "photoUrl": "https://lh3.googleusercontent.com/a/default-user=s64",
      "userId": "06999756730187012596"
     },
     "user_tz": -330
    },
    "id": "WTyzFub5pVZV",
    "outputId": "dd5b969a-1924-4f43-c111-9134d88b6a97"
   },
   "outputs": [
    {
     "name": "stdout",
     "output_type": "stream",
     "text": [
      "0.14588356018066406\n"
     ]
    },
    {
     "name": "stderr",
     "output_type": "stream",
     "text": [
      "/usr/local/lib/python3.7/dist-packages/sklearn/svm/_base.py:289: ConvergenceWarning: Solver terminated early (max_iter=300).  Consider pre-processing your data with StandardScaler or MinMaxScaler.\n",
      "  ConvergenceWarning,\n"
     ]
    }
   ],
   "source": [
    "import time\n",
    "t = time.time()\n",
    "model = SVC(C = 1,kernel = 'linear' , gamma = 'auto',max_iter = 300)\n",
    "model.fit(Xtrain_set,Ytrain_set)\n",
    "print(time.time() - t)"
   ]
  },
  {
   "cell_type": "code",
   "execution_count": 50,
   "metadata": {
    "colab": {
     "base_uri": "https://localhost:8080/"
    },
    "executionInfo": {
     "elapsed": 2130,
     "status": "ok",
     "timestamp": 1637953915785,
     "user": {
      "displayName": "Tathagato Roy",
      "photoUrl": "https://lh3.googleusercontent.com/a/default-user=s64",
      "userId": "06999756730187012596"
     },
     "user_tz": -330
    },
    "id": "eb43Mv4Vptfb",
    "outputId": "c1024a24-cd99-425d-baa2-02a5e80dccaf"
   },
   "outputs": [
    {
     "name": "stdout",
     "output_type": "stream",
     "text": [
      "(10000,)\n",
      "(10000,)\n",
      "The accuracy score of the model is : 0.8688\n",
      "The F1 score of the model is : 0.8680161665821415\n",
      "The confusion matrix is : [[ 944    0    2    2    2    6   17    5    1    1]\n",
      " [   0 1110    2    4    1    0    2    0   15    1]\n",
      " [  29   33  821   33   15    2   14   13   68    4]\n",
      " [   6    7   38  863    1   34    1   18   33    9]\n",
      " [   2    6   10    2  895    0    7    1    5   54]\n",
      " [  13   16   14   47   36  693    9   16   39    9]\n",
      " [  17    9   48    4   21   26  809    2   22    0]\n",
      " [   1   26   16   19   15    0    1  905    3   42]\n",
      " [  20    8   13   28   17   51    9   15  793   20]\n",
      " [  13    4    2   16   68    5    2   36    8  855]]\n"
     ]
    }
   ],
   "source": [
    "prediction = model.predict(Xtest_set)\n",
    "print(prediction.shape)\n",
    "print(labels_test.shape)\n",
    "print(\"The accuracy score of the model is : {0}\".format(accuracy_score(labels_test,prediction)))\n",
    "print(\"The F1 score of the model is : {0}\".format(f1_score(labels_test,prediction,average = \"weighted\")))\n",
    "print(\"The confusion matrix is : {0}\".format(confusion_matrix(labels_test,prediction)))"
   ]
  },
  {
   "cell_type": "markdown",
   "metadata": {
    "id": "N8F6VkaLI9q3"
   },
   "source": [
    "- Tweak different parameters like the C Parameter and gamma parameter of the Linear SVM and report the results.\n",
    "- Experiment different kernels for classification and report the results.\n",
    "\n",
    "Report accuracy score, F1-score, Confusion matrix and any other metrics you feel useful."
   ]
  },
  {
   "cell_type": "code",
   "execution_count": 54,
   "metadata": {
    "executionInfo": {
     "elapsed": 516,
     "status": "ok",
     "timestamp": 1637954043577,
     "user": {
      "displayName": "Tathagato Roy",
      "photoUrl": "https://lh3.googleusercontent.com/a/default-user=s64",
      "userId": "06999756730187012596"
     },
     "user_tz": -330
    },
    "id": "CztJyLokI9q3"
   },
   "outputs": [],
   "source": [
    "def display_accuracy_metrics(model,labels,test_x):\n",
    "  prediction = model.predict(test_x)\n",
    "  print(\"The accuracy score of the model is : {0}\".format(accuracy_score(labels,prediction)))\n",
    "  print(\"The F1 score of the model is : {0}\".format(f1_score(labels,prediction,average = \"weighted\")))\n",
    "  print(\"The confusion matrix is : {0}\".format(confusion_matrix(labels,prediction)))\n",
    "\n"
   ]
  },
  {
   "cell_type": "code",
   "execution_count": null,
   "metadata": {
    "id": "tdGOY-97gD3S"
   },
   "outputs": [],
   "source": []
  },
  {
   "cell_type": "code",
   "execution_count": 60,
   "metadata": {
    "executionInfo": {
     "elapsed": 546,
     "status": "ok",
     "timestamp": 1637954957359,
     "user": {
      "displayName": "Tathagato Roy",
      "photoUrl": "https://lh3.googleusercontent.com/a/default-user=s64",
      "userId": "06999756730187012596"
     },
     "user_tz": -330
    },
    "id": "jMx8rIT5fEBx"
   },
   "outputs": [],
   "source": [
    "def train_and_test_model(c,kernel_val = 'linear',gamma_val = \"auto\"):\n",
    "  print(\"The model is a SVM with kernel : {0} , C : {1} and gamma : {2}\".format(kernel_val,c,gamma_val))\n",
    "  model = SVC(C = c, kernel = kernel_val, gamma = gamma_val)\n",
    "  model.fit(Xtrain_set,Ytrain_set)\n",
    "  print(\"Training done\")\n",
    "  display_accuracy_metrics(model,labels_test,Xtest_set)\n"
   ]
  },
  {
   "cell_type": "code",
   "execution_count": 56,
   "metadata": {
    "colab": {
     "base_uri": "https://localhost:8080/"
    },
    "executionInfo": {
     "elapsed": 2366,
     "status": "ok",
     "timestamp": 1637954053934,
     "user": {
      "displayName": "Tathagato Roy",
      "photoUrl": "https://lh3.googleusercontent.com/a/default-user=s64",
      "userId": "06999756730187012596"
     },
     "user_tz": -330
    },
    "id": "IgOqTu0EhBuO",
    "outputId": "be19b854-7ba2-4078-9084-1c9c34067701"
   },
   "outputs": [
    {
     "name": "stdout",
     "output_type": "stream",
     "text": [
      "The model is a SVM with kernel : linear , C : 1 and gamma : scale\n",
      "Training done\n"
     ]
    },
    {
     "name": "stderr",
     "output_type": "stream",
     "text": [
      "/usr/local/lib/python3.7/dist-packages/sklearn/svm/_base.py:289: ConvergenceWarning: Solver terminated early (max_iter=300).  Consider pre-processing your data with StandardScaler or MinMaxScaler.\n",
      "  ConvergenceWarning,\n"
     ]
    },
    {
     "name": "stdout",
     "output_type": "stream",
     "text": [
      "The accuracy score of the model is : 0.8688\n",
      "The F1 score of the model is : 0.8680161665821415\n",
      "The confusion matrix is : [[ 944    0    2    2    2    6   17    5    1    1]\n",
      " [   0 1110    2    4    1    0    2    0   15    1]\n",
      " [  29   33  821   33   15    2   14   13   68    4]\n",
      " [   6    7   38  863    1   34    1   18   33    9]\n",
      " [   2    6   10    2  895    0    7    1    5   54]\n",
      " [  13   16   14   47   36  693    9   16   39    9]\n",
      " [  17    9   48    4   21   26  809    2   22    0]\n",
      " [   1   26   16   19   15    0    1  905    3   42]\n",
      " [  20    8   13   28   17   51    9   15  793   20]\n",
      " [  13    4    2   16   68    5    2   36    8  855]]\n"
     ]
    }
   ],
   "source": [
    "train_and_test_model(1,kernel_val = \"linear\",gamma_val = \"scale\")"
   ]
  },
  {
   "cell_type": "code",
   "execution_count": 62,
   "metadata": {
    "executionInfo": {
     "elapsed": 410,
     "status": "ok",
     "timestamp": 1637955152706,
     "user": {
      "displayName": "Tathagato Roy",
      "photoUrl": "https://lh3.googleusercontent.com/a/default-user=s64",
      "userId": "06999756730187012596"
     },
     "user_tz": -330
    },
    "id": "fA7X4p5Wq6Lu"
   },
   "outputs": [],
   "source": [
    "parameters = [\n",
    "              [0.01,\"linear\",\"auto\"],\n",
    "              [0.1,\"linear\",\"auto\"],\n",
    "              [1,\"linear\",\"auto\"],\n",
    "              [10,\"linear\",\"auto\"],\n",
    "              [100,\"linear\",\"auto\"],\n",
    "              \n",
    "              [0.01,\"linear\",\"scale\"],\n",
    "              [0.1,\"linear\",\"scale\"],\n",
    "              [1,\"linear\",\"scale\"],\n",
    "              [10,\"linear\",\"scale\"],\n",
    "              [100,\"linear\",\"scale\"],\n",
    "              \n",
    "              [10,\"linear\",100],\n",
    "              [0.01,\"linear\",100],\n",
    "              \n",
    "              [10,\"poly\",100],\n",
    "              [0.01,\"poly\",100],\n",
    "              [10,\"poly\",10],\n",
    "              [1,\"poly\",10],\n",
    "              [0.01,\"poly\",'scale'],\n",
    "              \n",
    "              [10,\"rbf\",100],\n",
    "              [0.01,\"rbf\",100],\n",
    "              [10,\"rbf\",10],\n",
    "              [0.01,\"rbf\",10],\n",
    "              [1,\"rbf\",'scale'],\n",
    "\n",
    "              [10,\"sigmoid\",100],\n",
    "              [0.01,\"sigmoid\",100],\n",
    "              [10,\"sigmoid\",10],\n",
    "              [0.01,\"sigmoid\",10],\n",
    "              [1,\"sigmoid\",\"scale\"]\n",
    "\n",
    "            \n",
    "              \n",
    "              ]"
   ]
  },
  {
   "cell_type": "markdown",
   "metadata": {},
   "source": [
    "The outputs for scores of different parameters is presented below."
   ]
  },
  {
   "cell_type": "code",
   "execution_count": 63,
   "metadata": {
    "colab": {
     "base_uri": "https://localhost:8080/"
    },
    "executionInfo": {
     "elapsed": 75285,
     "status": "ok",
     "timestamp": 1637955232600,
     "user": {
      "displayName": "Tathagato Roy",
      "photoUrl": "https://lh3.googleusercontent.com/a/default-user=s64",
      "userId": "06999756730187012596"
     },
     "user_tz": -330
    },
    "id": "s12iPNoltJjW",
    "outputId": "c7a12e79-aba6-4189-dade-13f5394de429"
   },
   "outputs": [
    {
     "name": "stdout",
     "output_type": "stream",
     "text": [
      "The model is a SVM with kernel : linear , C : 0.01 and gamma : auto\n",
      "Training done\n",
      "The accuracy score of the model is : 0.8726\n",
      "The F1 score of the model is : 0.8717642476845849\n",
      "The confusion matrix is : [[ 946    0    1    2    2    5   15    6    3    0]\n",
      " [   0 1111    2    5    1    0    2    0   13    1]\n",
      " [  27   32  820   30   14    1   14   14   74    6]\n",
      " [   6    6   30  878    1   29    1   19   35    5]\n",
      " [   2    8    9    2  895    0    7    2    6   51]\n",
      " [  14   18   13   48   37  687   10   16   40    9]\n",
      " [  18    9   49    4   21   28  806    2   21    0]\n",
      " [   2   28   15   13   12    0    1  923    3   31]\n",
      " [  16    6   12   24   16   51    8   14  804   23]\n",
      " [  13    5    2   12   65    5    3   38   10  856]]\n",
      "\n",
      "\n",
      "The model is a SVM with kernel : linear , C : 0.1 and gamma : auto\n",
      "Training done\n",
      "The accuracy score of the model is : 0.8688\n",
      "The F1 score of the model is : 0.8680161665821415\n",
      "The confusion matrix is : [[ 944    0    2    2    2    6   17    5    1    1]\n",
      " [   0 1110    2    4    1    0    2    0   15    1]\n",
      " [  29   33  821   33   15    2   14   13   68    4]\n",
      " [   6    7   38  863    1   34    1   18   33    9]\n",
      " [   2    6   10    2  895    0    7    1    5   54]\n",
      " [  13   16   14   47   36  693    9   16   39    9]\n",
      " [  17    9   48    4   21   26  809    2   22    0]\n",
      " [   1   26   16   19   15    0    1  905    3   42]\n",
      " [  20    8   13   28   17   51    9   15  793   20]\n",
      " [  13    4    2   16   68    5    2   36    8  855]]\n",
      "\n",
      "\n",
      "The model is a SVM with kernel : linear , C : 1 and gamma : auto\n",
      "Training done\n",
      "The accuracy score of the model is : 0.8688\n",
      "The F1 score of the model is : 0.8680161665821415\n",
      "The confusion matrix is : [[ 944    0    2    2    2    6   17    5    1    1]\n",
      " [   0 1110    2    4    1    0    2    0   15    1]\n",
      " [  29   33  821   33   15    2   14   13   68    4]\n",
      " [   6    7   38  863    1   34    1   18   33    9]\n",
      " [   2    6   10    2  895    0    7    1    5   54]\n",
      " [  13   16   14   47   36  693    9   16   39    9]\n",
      " [  17    9   48    4   21   26  809    2   22    0]\n",
      " [   1   26   16   19   15    0    1  905    3   42]\n",
      " [  20    8   13   28   17   51    9   15  793   20]\n",
      " [  13    4    2   16   68    5    2   36    8  855]]\n",
      "\n",
      "\n",
      "The model is a SVM with kernel : linear , C : 10 and gamma : auto\n",
      "Training done\n",
      "The accuracy score of the model is : 0.8688\n",
      "The F1 score of the model is : 0.8680161665821415\n",
      "The confusion matrix is : [[ 944    0    2    2    2    6   17    5    1    1]\n",
      " [   0 1110    2    4    1    0    2    0   15    1]\n",
      " [  29   33  821   33   15    2   14   13   68    4]\n",
      " [   6    7   38  863    1   34    1   18   33    9]\n",
      " [   2    6   10    2  895    0    7    1    5   54]\n",
      " [  13   16   14   47   36  693    9   16   39    9]\n",
      " [  17    9   48    4   21   26  809    2   22    0]\n",
      " [   1   26   16   19   15    0    1  905    3   42]\n",
      " [  20    8   13   28   17   51    9   15  793   20]\n",
      " [  13    4    2   16   68    5    2   36    8  855]]\n",
      "\n",
      "\n",
      "The model is a SVM with kernel : linear , C : 100 and gamma : auto\n",
      "Training done\n",
      "The accuracy score of the model is : 0.8688\n",
      "The F1 score of the model is : 0.8680161665821415\n",
      "The confusion matrix is : [[ 944    0    2    2    2    6   17    5    1    1]\n",
      " [   0 1110    2    4    1    0    2    0   15    1]\n",
      " [  29   33  821   33   15    2   14   13   68    4]\n",
      " [   6    7   38  863    1   34    1   18   33    9]\n",
      " [   2    6   10    2  895    0    7    1    5   54]\n",
      " [  13   16   14   47   36  693    9   16   39    9]\n",
      " [  17    9   48    4   21   26  809    2   22    0]\n",
      " [   1   26   16   19   15    0    1  905    3   42]\n",
      " [  20    8   13   28   17   51    9   15  793   20]\n",
      " [  13    4    2   16   68    5    2   36    8  855]]\n",
      "\n",
      "\n",
      "The model is a SVM with kernel : linear , C : 0.01 and gamma : scale\n",
      "Training done\n",
      "The accuracy score of the model is : 0.8726\n",
      "The F1 score of the model is : 0.8717642476845849\n",
      "The confusion matrix is : [[ 946    0    1    2    2    5   15    6    3    0]\n",
      " [   0 1111    2    5    1    0    2    0   13    1]\n",
      " [  27   32  820   30   14    1   14   14   74    6]\n",
      " [   6    6   30  878    1   29    1   19   35    5]\n",
      " [   2    8    9    2  895    0    7    2    6   51]\n",
      " [  14   18   13   48   37  687   10   16   40    9]\n",
      " [  18    9   49    4   21   28  806    2   21    0]\n",
      " [   2   28   15   13   12    0    1  923    3   31]\n",
      " [  16    6   12   24   16   51    8   14  804   23]\n",
      " [  13    5    2   12   65    5    3   38   10  856]]\n",
      "\n",
      "\n",
      "The model is a SVM with kernel : linear , C : 0.1 and gamma : scale\n",
      "Training done\n",
      "The accuracy score of the model is : 0.8688\n",
      "The F1 score of the model is : 0.8680161665821415\n",
      "The confusion matrix is : [[ 944    0    2    2    2    6   17    5    1    1]\n",
      " [   0 1110    2    4    1    0    2    0   15    1]\n",
      " [  29   33  821   33   15    2   14   13   68    4]\n",
      " [   6    7   38  863    1   34    1   18   33    9]\n",
      " [   2    6   10    2  895    0    7    1    5   54]\n",
      " [  13   16   14   47   36  693    9   16   39    9]\n",
      " [  17    9   48    4   21   26  809    2   22    0]\n",
      " [   1   26   16   19   15    0    1  905    3   42]\n",
      " [  20    8   13   28   17   51    9   15  793   20]\n",
      " [  13    4    2   16   68    5    2   36    8  855]]\n",
      "\n",
      "\n",
      "The model is a SVM with kernel : linear , C : 1 and gamma : scale\n",
      "Training done\n",
      "The accuracy score of the model is : 0.8688\n",
      "The F1 score of the model is : 0.8680161665821415\n",
      "The confusion matrix is : [[ 944    0    2    2    2    6   17    5    1    1]\n",
      " [   0 1110    2    4    1    0    2    0   15    1]\n",
      " [  29   33  821   33   15    2   14   13   68    4]\n",
      " [   6    7   38  863    1   34    1   18   33    9]\n",
      " [   2    6   10    2  895    0    7    1    5   54]\n",
      " [  13   16   14   47   36  693    9   16   39    9]\n",
      " [  17    9   48    4   21   26  809    2   22    0]\n",
      " [   1   26   16   19   15    0    1  905    3   42]\n",
      " [  20    8   13   28   17   51    9   15  793   20]\n",
      " [  13    4    2   16   68    5    2   36    8  855]]\n",
      "\n",
      "\n",
      "The model is a SVM with kernel : linear , C : 10 and gamma : scale\n",
      "Training done\n",
      "The accuracy score of the model is : 0.8688\n",
      "The F1 score of the model is : 0.8680161665821415\n",
      "The confusion matrix is : [[ 944    0    2    2    2    6   17    5    1    1]\n",
      " [   0 1110    2    4    1    0    2    0   15    1]\n",
      " [  29   33  821   33   15    2   14   13   68    4]\n",
      " [   6    7   38  863    1   34    1   18   33    9]\n",
      " [   2    6   10    2  895    0    7    1    5   54]\n",
      " [  13   16   14   47   36  693    9   16   39    9]\n",
      " [  17    9   48    4   21   26  809    2   22    0]\n",
      " [   1   26   16   19   15    0    1  905    3   42]\n",
      " [  20    8   13   28   17   51    9   15  793   20]\n",
      " [  13    4    2   16   68    5    2   36    8  855]]\n",
      "\n",
      "\n",
      "The model is a SVM with kernel : linear , C : 100 and gamma : scale\n",
      "Training done\n",
      "The accuracy score of the model is : 0.8688\n",
      "The F1 score of the model is : 0.8680161665821415\n",
      "The confusion matrix is : [[ 944    0    2    2    2    6   17    5    1    1]\n",
      " [   0 1110    2    4    1    0    2    0   15    1]\n",
      " [  29   33  821   33   15    2   14   13   68    4]\n",
      " [   6    7   38  863    1   34    1   18   33    9]\n",
      " [   2    6   10    2  895    0    7    1    5   54]\n",
      " [  13   16   14   47   36  693    9   16   39    9]\n",
      " [  17    9   48    4   21   26  809    2   22    0]\n",
      " [   1   26   16   19   15    0    1  905    3   42]\n",
      " [  20    8   13   28   17   51    9   15  793   20]\n",
      " [  13    4    2   16   68    5    2   36    8  855]]\n",
      "\n",
      "\n",
      "The model is a SVM with kernel : linear , C : 10 and gamma : 100\n",
      "Training done\n",
      "The accuracy score of the model is : 0.8688\n",
      "The F1 score of the model is : 0.8680161665821415\n",
      "The confusion matrix is : [[ 944    0    2    2    2    6   17    5    1    1]\n",
      " [   0 1110    2    4    1    0    2    0   15    1]\n",
      " [  29   33  821   33   15    2   14   13   68    4]\n",
      " [   6    7   38  863    1   34    1   18   33    9]\n",
      " [   2    6   10    2  895    0    7    1    5   54]\n",
      " [  13   16   14   47   36  693    9   16   39    9]\n",
      " [  17    9   48    4   21   26  809    2   22    0]\n",
      " [   1   26   16   19   15    0    1  905    3   42]\n",
      " [  20    8   13   28   17   51    9   15  793   20]\n",
      " [  13    4    2   16   68    5    2   36    8  855]]\n",
      "\n",
      "\n",
      "The model is a SVM with kernel : linear , C : 0.01 and gamma : 100\n",
      "Training done\n",
      "The accuracy score of the model is : 0.8726\n",
      "The F1 score of the model is : 0.8717642476845849\n",
      "The confusion matrix is : [[ 946    0    1    2    2    5   15    6    3    0]\n",
      " [   0 1111    2    5    1    0    2    0   13    1]\n",
      " [  27   32  820   30   14    1   14   14   74    6]\n",
      " [   6    6   30  878    1   29    1   19   35    5]\n",
      " [   2    8    9    2  895    0    7    2    6   51]\n",
      " [  14   18   13   48   37  687   10   16   40    9]\n",
      " [  18    9   49    4   21   28  806    2   21    0]\n",
      " [   2   28   15   13   12    0    1  923    3   31]\n",
      " [  16    6   12   24   16   51    8   14  804   23]\n",
      " [  13    5    2   12   65    5    3   38   10  856]]\n",
      "\n",
      "\n",
      "The model is a SVM with kernel : poly , C : 10 and gamma : 100\n",
      "Training done\n",
      "The accuracy score of the model is : 0.8401\n",
      "The F1 score of the model is : 0.8464024480480468\n",
      "The confusion matrix is : [[ 896    0    2    1   15    2    9    1   47    7]\n",
      " [   0 1113    1    2    0    0    1    0   17    1]\n",
      " [   6    1  662   35   24    1    2    7  291    3]\n",
      " [   0    1   17  872    2    9    0   12   86   11]\n",
      " [   0    2    3    3  864    0    5    3   30   72]\n",
      " [   7    1    2   37   12  610    3    6  184   30]\n",
      " [   5    4    5    4   33   15  742    2  144    4]\n",
      " [   2   14    2    4   11    1    0  833   51  110]\n",
      " [  10    0    3    5   16   21    1    2  902   14]\n",
      " [   1    5    3    8   26    1    0   28   30  907]]\n",
      "\n",
      "\n",
      "The model is a SVM with kernel : poly , C : 0.01 and gamma : 100\n",
      "Training done\n",
      "The accuracy score of the model is : 0.8401\n",
      "The F1 score of the model is : 0.8464024480480468\n",
      "The confusion matrix is : [[ 896    0    2    1   15    2    9    1   47    7]\n",
      " [   0 1113    1    2    0    0    1    0   17    1]\n",
      " [   6    1  662   35   24    1    2    7  291    3]\n",
      " [   0    1   17  872    2    9    0   12   86   11]\n",
      " [   0    2    3    3  864    0    5    3   30   72]\n",
      " [   7    1    2   37   12  610    3    6  184   30]\n",
      " [   5    4    5    4   33   15  742    2  144    4]\n",
      " [   2   14    2    4   11    1    0  833   51  110]\n",
      " [  10    0    3    5   16   21    1    2  902   14]\n",
      " [   1    5    3    8   26    1    0   28   30  907]]\n",
      "\n",
      "\n",
      "The model is a SVM with kernel : poly , C : 10 and gamma : 10\n",
      "Training done\n",
      "The accuracy score of the model is : 0.8401\n",
      "The F1 score of the model is : 0.8464024480480468\n",
      "The confusion matrix is : [[ 896    0    2    1   15    2    9    1   47    7]\n",
      " [   0 1113    1    2    0    0    1    0   17    1]\n",
      " [   6    1  662   35   24    1    2    7  291    3]\n",
      " [   0    1   17  872    2    9    0   12   86   11]\n",
      " [   0    2    3    3  864    0    5    3   30   72]\n",
      " [   7    1    2   37   12  610    3    6  184   30]\n",
      " [   5    4    5    4   33   15  742    2  144    4]\n",
      " [   2   14    2    4   11    1    0  833   51  110]\n",
      " [  10    0    3    5   16   21    1    2  902   14]\n",
      " [   1    5    3    8   26    1    0   28   30  907]]\n",
      "\n",
      "\n",
      "The model is a SVM with kernel : poly , C : 1 and gamma : 10\n",
      "Training done\n",
      "The accuracy score of the model is : 0.8401\n",
      "The F1 score of the model is : 0.8464024480480468\n",
      "The confusion matrix is : [[ 896    0    2    1   15    2    9    1   47    7]\n",
      " [   0 1113    1    2    0    0    1    0   17    1]\n",
      " [   6    1  662   35   24    1    2    7  291    3]\n",
      " [   0    1   17  872    2    9    0   12   86   11]\n",
      " [   0    2    3    3  864    0    5    3   30   72]\n",
      " [   7    1    2   37   12  610    3    6  184   30]\n",
      " [   5    4    5    4   33   15  742    2  144    4]\n",
      " [   2   14    2    4   11    1    0  833   51  110]\n",
      " [  10    0    3    5   16   21    1    2  902   14]\n",
      " [   1    5    3    8   26    1    0   28   30  907]]\n",
      "\n",
      "\n",
      "The model is a SVM with kernel : poly , C : 0.01 and gamma : scale\n",
      "Training done\n",
      "The accuracy score of the model is : 0.1305\n",
      "The F1 score of the model is : 0.05626405593778303\n",
      "The confusion matrix is : [[   2  967    0    0   11    0    0    0    0    0]\n",
      " [   0 1135    0    0    0    0    0    0    0    0]\n",
      " [   0  987   25   13    7    0    0    0    0    0]\n",
      " [   0  979    4   19    0    0    0    8    0    0]\n",
      " [   0  973    1    3    1    0    0    3    0    1]\n",
      " [   0  853    0    2    2   26    0    0    9    0]\n",
      " [   0  901    0    4   18    0   35    0    0    0]\n",
      " [   0  973    1    2    1    0    0   51    0    0]\n",
      " [   0  953    0    0    5    8    0    1    7    0]\n",
      " [   0  988    4    0    0    0    0   13    0    4]]\n",
      "\n",
      "\n",
      "The model is a SVM with kernel : rbf , C : 10 and gamma : 100\n",
      "Training done\n",
      "The accuracy score of the model is : 0.1135\n",
      "The F1 score of the model is : 0.023138302649304\n",
      "The confusion matrix is : [[   0  980    0    0    0    0    0    0    0    0]\n",
      " [   0 1135    0    0    0    0    0    0    0    0]\n",
      " [   0 1032    0    0    0    0    0    0    0    0]\n",
      " [   0 1010    0    0    0    0    0    0    0    0]\n",
      " [   0  982    0    0    0    0    0    0    0    0]\n",
      " [   0  892    0    0    0    0    0    0    0    0]\n",
      " [   0  958    0    0    0    0    0    0    0    0]\n",
      " [   0 1028    0    0    0    0    0    0    0    0]\n",
      " [   0  974    0    0    0    0    0    0    0    0]\n",
      " [   0 1009    0    0    0    0    0    0    0    0]]\n",
      "\n",
      "\n",
      "The model is a SVM with kernel : rbf , C : 0.01 and gamma : 100\n",
      "Training done\n",
      "The accuracy score of the model is : 0.1135\n",
      "The F1 score of the model is : 0.023138302649304\n",
      "The confusion matrix is : [[   0  980    0    0    0    0    0    0    0    0]\n",
      " [   0 1135    0    0    0    0    0    0    0    0]\n",
      " [   0 1032    0    0    0    0    0    0    0    0]\n",
      " [   0 1010    0    0    0    0    0    0    0    0]\n",
      " [   0  982    0    0    0    0    0    0    0    0]\n",
      " [   0  892    0    0    0    0    0    0    0    0]\n",
      " [   0  958    0    0    0    0    0    0    0    0]\n",
      " [   0 1028    0    0    0    0    0    0    0    0]\n",
      " [   0  974    0    0    0    0    0    0    0    0]\n",
      " [   0 1009    0    0    0    0    0    0    0    0]]\n",
      "\n",
      "\n",
      "The model is a SVM with kernel : rbf , C : 10 and gamma : 10\n",
      "Training done\n",
      "The accuracy score of the model is : 0.1135\n",
      "The F1 score of the model is : 0.023138302649304\n",
      "The confusion matrix is : [[   0  980    0    0    0    0    0    0    0    0]\n",
      " [   0 1135    0    0    0    0    0    0    0    0]\n",
      " [   0 1032    0    0    0    0    0    0    0    0]\n",
      " [   0 1010    0    0    0    0    0    0    0    0]\n",
      " [   0  982    0    0    0    0    0    0    0    0]\n",
      " [   0  892    0    0    0    0    0    0    0    0]\n",
      " [   0  958    0    0    0    0    0    0    0    0]\n",
      " [   0 1028    0    0    0    0    0    0    0    0]\n",
      " [   0  974    0    0    0    0    0    0    0    0]\n",
      " [   0 1009    0    0    0    0    0    0    0    0]]\n",
      "\n",
      "\n",
      "The model is a SVM with kernel : rbf , C : 0.01 and gamma : 10\n",
      "Training done\n",
      "The accuracy score of the model is : 0.1135\n",
      "The F1 score of the model is : 0.023138302649304\n",
      "The confusion matrix is : [[   0  980    0    0    0    0    0    0    0    0]\n",
      " [   0 1135    0    0    0    0    0    0    0    0]\n",
      " [   0 1032    0    0    0    0    0    0    0    0]\n",
      " [   0 1010    0    0    0    0    0    0    0    0]\n",
      " [   0  982    0    0    0    0    0    0    0    0]\n",
      " [   0  892    0    0    0    0    0    0    0    0]\n",
      " [   0  958    0    0    0    0    0    0    0    0]\n",
      " [   0 1028    0    0    0    0    0    0    0    0]\n",
      " [   0  974    0    0    0    0    0    0    0    0]\n",
      " [   0 1009    0    0    0    0    0    0    0    0]]\n",
      "\n",
      "\n",
      "The model is a SVM with kernel : rbf , C : 1 and gamma : scale\n",
      "Training done\n",
      "The accuracy score of the model is : 0.8485\n",
      "The F1 score of the model is : 0.8528718571180071\n",
      "The confusion matrix is : [[ 922    0   38    0    0    8    6    3    3    0]\n",
      " [   0 1102   15    3    1    0    2    0   11    1]\n",
      " [  15    6  905   13    9    0    2   12   70    0]\n",
      " [   2    4   92  842    0   13    0   16   31   10]\n",
      " [   0    6   48    0  846    4    9    6    6   57]\n",
      " [  11    3   94   40   22  663   10   12   29    8]\n",
      " [  12    6  217    0    7   14  685    0   17    0]\n",
      " [   0   20  108    3    4    1    1  848    9   34]\n",
      " [  16    4   60   14    8   37    3   10  804   18]\n",
      " [   9    8   45   10   31    3    0   32    3  868]]\n",
      "\n",
      "\n",
      "The model is a SVM with kernel : sigmoid , C : 10 and gamma : 100\n",
      "Training done\n",
      "The accuracy score of the model is : 0.3673\n",
      "The F1 score of the model is : 0.36225729119275446\n",
      "The confusion matrix is : [[608   5  20  22   4 221  88   5   5   2]\n",
      " [  0 606 188  28   1  57  24  61 164   6]\n",
      " [141 236 300  39  12  21 199  19  54  11]\n",
      " [137 239  28 309   9 120  47  30  65  26]\n",
      " [ 45  97  56  15 383  37  58  44  11 236]\n",
      " [133 206  30 116  37 216  35  25  61  33]\n",
      " [136  88 270   2  30  27 382   0  22   1]\n",
      " [ 45 110  20  25  65  52   8 432  26 245]\n",
      " [ 96 327  32  51  33  93  45  47 191  59]\n",
      " [ 47 122  21  54 267  62  24 136  30 246]]\n",
      "\n",
      "\n",
      "The model is a SVM with kernel : sigmoid , C : 0.01 and gamma : 100\n",
      "Training done\n",
      "The accuracy score of the model is : 0.458\n",
      "The F1 score of the model is : 0.40188844261845214\n",
      "The confusion matrix is : [[ 930   10    6    5    0    0   19    4    5    1]\n",
      " [   0 1124    0   10    0    0    1    0    0    0]\n",
      " [ 159  382  236   31    2    0  162   18   36    6]\n",
      " [ 114  365   13  446    0    0   13   13   12   34]\n",
      " [  89  212   17    2   29    0   45   12    1  575]\n",
      " [ 208  296    8  187    9    1   17   12   31  123]\n",
      " [ 147  189   78    1    4    0  532    1    4    2]\n",
      " [  42  319    5    2    1    0    3  467    3  186]\n",
      " [  88  443   11   82    1    0   19   17  183  130]\n",
      " [  67  234   14    9    2    0   11   39    1  632]]\n",
      "\n",
      "\n",
      "The model is a SVM with kernel : sigmoid , C : 10 and gamma : 10\n",
      "Training done\n",
      "The accuracy score of the model is : 0.3579\n",
      "The F1 score of the model is : 0.3515086366473498\n",
      "The confusion matrix is : [[623   7  33  35   3 201  68   4   3   3]\n",
      " [  0 568 205  32   4  40  38  81 157  10]\n",
      " [139 240 309  64  10  13 183  17  48   9]\n",
      " [147 244  32 317  17  81  41  34  75  22]\n",
      " [ 48 101  73  22 412  23  64  45  13 181]\n",
      " [143 203  32 135  41 179  35  26  55  43]\n",
      " [140  89 278   4  31  28 371   1  15   1]\n",
      " [ 43 127  26  30  75  37   6 398  31 255]\n",
      " [ 98 326  33  60  40  76  40  40 207  54]\n",
      " [ 33 117  26  59 316  69  21 119  54 195]]\n",
      "\n",
      "\n",
      "The model is a SVM with kernel : sigmoid , C : 0.01 and gamma : 10\n",
      "Training done\n",
      "The accuracy score of the model is : 0.4569\n",
      "The F1 score of the model is : 0.4004326485959351\n",
      "The confusion matrix is : [[ 929   13    5    5    0    0   18    4    5    1]\n",
      " [   0 1124    0   10    0    0    1    0    0    0]\n",
      " [ 166  380  230   31    2    0  162   18   37    6]\n",
      " [ 114  367   12  447    0    0   13   13   11   33]\n",
      " [  90  210   19    2   32    0   45   11    1  572]\n",
      " [ 208  295    8  189    9    1   18   13   27  124]\n",
      " [ 151  190   73    1    4    0  533    1    3    2]\n",
      " [  43  320    6    2    1    0    3  462    3  188]\n",
      " [  89  442   11   83    2    0   19   17  177  134]\n",
      " [  66  231   14    9    3    0   11   40    1  634]]\n",
      "\n",
      "\n",
      "The model is a SVM with kernel : sigmoid , C : 1 and gamma : scale\n",
      "Training done\n",
      "The accuracy score of the model is : 0.8789\n",
      "The F1 score of the model is : 0.878414182077672\n",
      "The confusion matrix is : [[ 946    0    2    1    3   12    9    1    5    1]\n",
      " [   0 1103    1    4    0    0    2    0   24    1]\n",
      " [  17   22  823   27   12    3   14   18   93    3]\n",
      " [   5    7   18  891    0   18    3   23   33   12]\n",
      " [   0    7    8    0  862    1    9    4    5   86]\n",
      " [  13   20    9   46   32  696   13   11   36   16]\n",
      " [  16   11   49    1   12   21  832    0   16    0]\n",
      " [   3   35   14    5    9    1    1  915   12   33]\n",
      " [  23   15    6   19   10   35    7   11  826   22]\n",
      " [  16    9    2   13   37    2    1   28    6  895]]\n",
      "\n",
      "\n"
     ]
    }
   ],
   "source": [
    "for p in parameters:\n",
    "  train_and_test_model(p[0],kernel_val = p[1],gamma_val = p[2])\n",
    "  print(\"\")\n",
    "  print(\"\")\n"
   ]
  },
  {
   "cell_type": "markdown",
   "metadata": {
    "id": "e_gt4cpqvX9M"
   },
   "source": [
    "Linear gives consistently good results accross many values of c and gamma whereas the best result is given by sigmoid for c = 1 and gamma = 'scale'"
   ]
  },
  {
   "cell_type": "markdown",
   "metadata": {
    "id": "I4yU735dvX6L"
   },
   "source": []
  }
 ],
 "metadata": {
  "colab": {
   "collapsed_sections": [],
   "name": "SVM.ipynb",
   "provenance": []
  },
  "kernelspec": {
   "display_name": "Python 3",
   "language": "python",
   "name": "python3"
  },
  "language_info": {
   "codemirror_mode": {
    "name": "ipython",
    "version": 3
   },
   "file_extension": ".py",
   "mimetype": "text/x-python",
   "name": "python",
   "nbconvert_exporter": "python",
   "pygments_lexer": "ipython3",
   "version": "3.9.4"
  }
 },
 "nbformat": 4,
 "nbformat_minor": 1
}
