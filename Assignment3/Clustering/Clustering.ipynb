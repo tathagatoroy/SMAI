{
  "nbformat": 4,
  "nbformat_minor": 0,
  "metadata": {
    "colab": {
      "name": "Clustering.ipynb",
      "provenance": [],
      "collapsed_sections": []
    },
    "kernelspec": {
      "display_name": "Python 3",
      "language": "python",
      "name": "python3"
    },
    "language_info": {
      "codemirror_mode": {
        "name": "ipython",
        "version": 3
      },
      "file_extension": ".py",
      "mimetype": "text/x-python",
      "name": "python",
      "nbconvert_exporter": "python",
      "pygments_lexer": "ipython3",
      "version": "3.9.4"
    }
  },
  "cells": [
    {
      "cell_type": "markdown",
      "metadata": {
        "id": "vpWQigP0msj9"
      },
      "source": [
        "**Part 1:** \n",
        "\n",
        "Use the **Fashion-MNIST** dataset for this question.\n",
        "\n",
        "1a) Load the dataset and implement the K Means algorithm. You need to find the optimal number of clusters using the\n",
        "> i) elbow method\n",
        "\n",
        "> ii) silhoette method\n",
        "\n",
        "\n",
        "\n",
        "1b) Define the initial clusters’ centroids using:</br>\n",
        "> i) Forgy</br>\n",
        "\n",
        "> ii) Random Partition\n",
        "\n",
        "1c) Experiment with different distance measures [Euclidean distance, Manhattan distance].\n",
        "\n",
        "1d) Plot the error vs number of clusters graph while using the elbow method and silhouette \n",
        "    method. Report the optimal number of clusters found.\n",
        "\n",
        "\n",
        "1e) Visualize the dataset to depict the clusters formed. (prefer T-SNE)\n",
        "\n",
        "</br>\n",
        "</br>\n",
        "</br>\n",
        "</br>\n",
        "\n",
        "\n",
        "**Part 2:**\n",
        "</br>\n",
        "In this task, you need to implement Hierarchical clustering (agglomerative) on the same dataset.\n",
        "\n",
        "2a) visualize a dendogram and find out the optimal number of clusters with the help of Dendogram. Explain the procedure.\n",
        "\n",
        "\n",
        "2b) Implement Hierarchical clustering using: </br>\n",
        "> i) single linkage\n",
        "\n",
        "> ii) Complete linkage\n",
        "\n",
        ">Visualize the clusters obtained using these linkages and compare. \n",
        "\n"
      ]
    },
    {
      "cell_type": "code",
      "metadata": {
        "id": "RoBr6-sqt2A8"
      },
      "source": [
        "import numpy as np\n",
        "import matplotlib.pyplot as plt\n",
        "import math\n",
        "import random\n"
      ],
      "execution_count": 1,
      "outputs": []
    },
    {
      "cell_type": "code",
      "metadata": {
        "id": "6j7nYmipmrC6",
        "colab": {
          "base_uri": "https://localhost:8080/"
        },
        "outputId": "54723bc1-a669-46a7-9579-44e36649ec22"
      },
      "source": [
        "from keras.datasets import fashion_mnist\n",
        "(trainX, trainy), (testX, testy) = fashion_mnist.load_data()\n",
        "\n",
        "\n",
        "\n",
        "\n",
        "# you can performs your training on train/test dataset alone if there are computational issues"
      ],
      "execution_count": 2,
      "outputs": [
        {
          "output_type": "stream",
          "name": "stdout",
          "text": [
            "Downloading data from https://storage.googleapis.com/tensorflow/tf-keras-datasets/train-labels-idx1-ubyte.gz\n",
            "32768/29515 [=================================] - 0s 0us/step\n",
            "40960/29515 [=========================================] - 0s 0us/step\n",
            "Downloading data from https://storage.googleapis.com/tensorflow/tf-keras-datasets/train-images-idx3-ubyte.gz\n",
            "26427392/26421880 [==============================] - 0s 0us/step\n",
            "26435584/26421880 [==============================] - 0s 0us/step\n",
            "Downloading data from https://storage.googleapis.com/tensorflow/tf-keras-datasets/t10k-labels-idx1-ubyte.gz\n",
            "16384/5148 [===============================================================================================] - 0s 0us/step\n",
            "Downloading data from https://storage.googleapis.com/tensorflow/tf-keras-datasets/t10k-images-idx3-ubyte.gz\n",
            "4423680/4422102 [==============================] - 0s 0us/step\n",
            "4431872/4422102 [==============================] - 0s 0us/step\n"
          ]
        }
      ]
    },
    {
      "cell_type": "code",
      "metadata": {
        "colab": {
          "base_uri": "https://localhost:8080/"
        },
        "id": "GqvUP13ut2A_",
        "outputId": "bab02791-b884-4219-914f-e0a72f3c0e13"
      },
      "source": [
        "print(\"The shape of the train set : {0}\".format(trainX.shape))\n",
        "print(\"The shape of the test set : {0}\".format(testX.shape))\n"
      ],
      "execution_count": null,
      "outputs": [
        {
          "output_type": "stream",
          "name": "stdout",
          "text": [
            "The shape of the train set : (60000, 28, 28)\n",
            "The shape of the test set : (10000, 28, 28)\n"
          ]
        }
      ]
    },
    {
      "cell_type": "markdown",
      "metadata": {
        "id": "rzHCkGiat2BA"
      },
      "source": [
        "$$ \\text{In Clustering you typically do not need a test set,so merge the two set} $$"
      ]
    },
    {
      "cell_type": "code",
      "metadata": {
        "colab": {
          "base_uri": "https://localhost:8080/"
        },
        "id": "bWv-VxFft2BA",
        "outputId": "73d619c9-4228-41b9-ea42-091ef0dc49c0"
      },
      "source": [
        "dataset = np.zeros((trainX.shape[0] + testX.shape[0],trainX.shape[1],trainX.shape[2]))\n",
        "dataset[0:trainX.shape[0],:,:] = trainX\n",
        "dataset[trainX.shape[0]:,:,:] = testX\n",
        "print(dataset.shape)"
      ],
      "execution_count": 4,
      "outputs": [
        {
          "output_type": "stream",
          "name": "stdout",
          "text": [
            "(70000, 28, 28)\n"
          ]
        }
      ]
    },
    {
      "cell_type": "code",
      "metadata": {
        "colab": {
          "base_uri": "https://localhost:8080/"
        },
        "id": "tL0VZhRzt2BH",
        "outputId": "ebab0c9d-b7ee-466f-e207-a51de2931b1c"
      },
      "source": [
        "flattened_data = dataset.reshape(dataset.shape[0],dataset.shape[1]*dataset.shape[2])\n",
        "print(flattened_data.shape)"
      ],
      "execution_count": 5,
      "outputs": [
        {
          "output_type": "stream",
          "name": "stdout",
          "text": [
            "(70000, 784)\n"
          ]
        }
      ]
    },
    {
      "cell_type": "code",
      "metadata": {
        "id": "Z03CtHIMt2BB"
      },
      "source": [
        "#Data is (N,F)\n",
        "def Forgy(data,K):\n",
        "    indices = np.random.randint(0,data.shape[0],K)\n",
        "    centroids = np.zeros((K,data.shape[1]))\n",
        "    for i in range(K):\n",
        "        centroids[i] = data[indices[i]]\n",
        "    #print(centroids.shape)\n",
        "    return centroids"
      ],
      "execution_count": null,
      "outputs": []
    },
    {
      "cell_type": "code",
      "metadata": {
        "id": "OPgCaE2Y2Gwn"
      },
      "source": [
        "def Random_Partition(data,K):\n",
        "  N = data.shape[0]\n",
        "  #print(N)\n",
        "  #print(K)\n",
        "  #print(data.shape)\n",
        "  centroids = np.zeros((K,data.shape[1]))\n",
        "  #print(\"Centroids\")\n",
        "  #print(centroids.shape)\n",
        "  labels = np.random.randint(0,K,N)\n",
        "  for i in range(K):\n",
        "    ind = np.where(labels == i)[0]\n",
        "    #print(\"inds shape\")\n",
        "    #print(ind.shape)\n",
        "    clusters = data[ind]\n",
        "    #print(\"Cluster shape\")\n",
        "    #print(clusters.shape)\n",
        "    mean = np.mean(clusters,axis = 0)\n",
        "    #print(\"mean.shape\")\n",
        "    #print(mean.shape)\n",
        "    centroids[i] = mean\n",
        "  return centroids\n"
      ],
      "execution_count": null,
      "outputs": []
    },
    {
      "cell_type": "code",
      "metadata": {
        "id": "-UORGuoft2BB"
      },
      "source": [
        "def Euclidean(a,b):\n",
        "    return np.linalg.norm((a-b),2)\n"
      ],
      "execution_count": null,
      "outputs": []
    },
    {
      "cell_type": "code",
      "metadata": {
        "id": "1PuhrBFYt2BB"
      },
      "source": [
        "def Manhattan(a,b):\n",
        "    return np.linalg.norm((a-b),1)"
      ],
      "execution_count": null,
      "outputs": []
    },
    {
      "cell_type": "code",
      "metadata": {
        "id": "yY8uMDe9quTE"
      },
      "source": [
        "#implement elbow method from scratch\n",
        "K_vals = [2,4,6,8,10,12]\n",
        "def elbow(K_vals,initialisation,num_iter,eta,distance):\n",
        "  Cost = []\n",
        "  for k in K_vals:\n",
        "    Cluster = Kmeans(flattened_data,k,initialisation,distance,num_iter,eta)\n",
        "    cost = Cluster.Cost\n",
        "    Cost.append(cost)\n",
        "    print(\"Cost with respect to K = {0} is {1}\".format(k,cost))\n",
        "  plt.plot(K_vals,Cost)\n",
        "  plt.xlabel(\"Value of K\")\n",
        "  plt.ylabel(\"SSE COST\")\n",
        "  \n"
      ],
      "execution_count": null,
      "outputs": []
    },
    {
      "cell_type": "markdown",
      "metadata": {
        "id": "NShb7dRcwGHs"
      },
      "source": [
        "**1 A (i)> Elbow Method (Scroll down to the end of the output cell to see the graph)**"
      ]
    },
    {
      "cell_type": "code",
      "metadata": {
        "colab": {
          "base_uri": "https://localhost:8080/",
          "height": 1000
        },
        "id": "qVvTHACfxPWq",
        "outputId": "0e75a0f4-bb79-49fe-f860-c16f6ef8b8b4"
      },
      "source": [
        "elbow(K_vals,Forgy,30,1,\"Euclidean\")"
      ],
      "execution_count": null,
      "outputs": [
        {
          "output_type": "stream",
          "name": "stdout",
          "text": [
            "Iteration : 1 , Cost : 3589289.3854685547 and delta : 3589289.3854685547\n",
            "Iteration : 2 , Cost : 3519651.06995306 and delta : -69638.3155154949\n",
            "Iteration : 3 , Cost : 3507852.401266508 and delta : -11798.668686551973\n",
            "Iteration : 4 , Cost : 3503997.8306457694 and delta : -3854.5706207384355\n",
            "Iteration : 5 , Cost : 3502359.65483262 and delta : -1638.1758131491952\n",
            "Iteration : 6 , Cost : 3501543.052636238 and delta : -816.6021963823587\n",
            "Iteration : 7 , Cost : 3501068.6379753686 and delta : -474.41466086916625\n",
            "Iteration : 8 , Cost : 3500815.6555134193 and delta : -252.98246194934472\n",
            "Iteration : 9 , Cost : 3500643.3479575035 and delta : -172.30755591578782\n",
            "Iteration : 10 , Cost : 3500557.70597678 and delta : -85.6419807234779\n",
            "Iteration : 11 , Cost : 3500519.939805563 and delta : -37.76617121696472\n",
            "Iteration : 12 , Cost : 3500488.422008845 and delta : -31.517796718049794\n",
            "Iteration : 13 , Cost : 3500468.1674996032 and delta : -20.254509241785854\n",
            "Iteration : 14 , Cost : 3500456.839038707 and delta : -11.328460896387696\n",
            "Iteration : 15 , Cost : 3500452.4942555088 and delta : -4.3447831980884075\n",
            "Iteration : 16 , Cost : 3500449.7149423813 and delta : -2.7793131275102496\n",
            "Iteration : 17 , Cost : 3500447.910307134 and delta : -1.8046352472156286\n",
            "Iteration : 18 , Cost : 3500446.394126252 and delta : -1.516180882230401\n",
            "Iteration : 19 , Cost : 3500445.514683874 and delta : -0.8794423779472709\n",
            "Iteration : 20 , Cost : 3500444.9289547103 and delta : -0.5857291636057198\n",
            "Iteration : 21 , Cost : 3500444.81193915 and delta : -0.11701556015759706\n",
            "Iteration : 22 , Cost : 3500444.781619366 and delta : -0.030319784302264452\n",
            "Iteration : 23 , Cost : 3500444.7388477838 and delta : -0.042771582026034594\n",
            "Iteration : 24 , Cost : 3500444.707888145 and delta : -0.03095963876694441\n",
            "Iteration : 25 , Cost : 3500444.6806058367 and delta : -0.02728230832144618\n",
            "Iteration : 26 , Cost : 3500444.6177054453 and delta : -0.06290039140731096\n",
            "Iteration : 27 , Cost : 3500444.572525374 and delta : -0.0451800711452961\n",
            "No change in centroids,stopping at iteration : 27 with cost 3500444.572525374 and delta 0.0 \n",
            "Iteration : 28 , Cost : 3500444.572525374 and delta : 0.0\n",
            "No change in centroids,stopping at iteration : 28 with cost 3500444.572525374 and delta 0.0 \n",
            "Iteration : 29 , Cost : 3500444.572525374 and delta : 0.0\n",
            "No change in centroids,stopping at iteration : 29 with cost 3500444.572525374 and delta 0.0 \n",
            "All Iterations done,Final Cost : 3500444.572525374\n",
            "Cost with respect to K = 2 is 3500444.572525374\n",
            "Iteration : 1 , Cost : 3125348.374640775 and delta : 3125348.374640775\n",
            "Iteration : 2 , Cost : 3052838.231501191 and delta : -72510.14313958399\n",
            "Iteration : 3 , Cost : 2904588.9106560745 and delta : -148249.3208451164\n",
            "Iteration : 4 , Cost : 2785134.0665473933 and delta : -119454.8441086812\n",
            "Iteration : 5 , Cost : 2747325.2421547268 and delta : -37808.824392666575\n",
            "Iteration : 6 , Cost : 2730020.723342042 and delta : -17304.518812684808\n",
            "Iteration : 7 , Cost : 2722193.7455608747 and delta : -7826.977781167254\n",
            "Iteration : 8 , Cost : 2719662.2564166044 and delta : -2531.4891442703083\n",
            "Iteration : 9 , Cost : 2718713.811308116 and delta : -948.4451084882021\n",
            "Iteration : 10 , Cost : 2718138.987042143 and delta : -574.8242659731768\n",
            "Iteration : 11 , Cost : 2717693.7849041144 and delta : -445.20213802857324\n",
            "Iteration : 12 , Cost : 2717262.599629437 and delta : -431.1852746773511\n",
            "Iteration : 13 , Cost : 2716919.037334413 and delta : -343.56229502428323\n",
            "Iteration : 14 , Cost : 2716622.2623720737 and delta : -296.7749623390846\n",
            "Iteration : 15 , Cost : 2716355.1971779233 and delta : -267.06519415043294\n",
            "Iteration : 16 , Cost : 2716096.5941157653 and delta : -258.6030621579848\n",
            "Iteration : 17 , Cost : 2715811.3535265783 and delta : -285.24058918701485\n",
            "Iteration : 18 , Cost : 2715557.150222599 and delta : -254.20330397924408\n",
            "Iteration : 19 , Cost : 2715318.897134984 and delta : -238.2530876151286\n",
            "Iteration : 20 , Cost : 2715099.7443231978 and delta : -219.15281178615987\n",
            "Iteration : 21 , Cost : 2714908.767510544 and delta : -190.9768126537092\n",
            "Iteration : 22 , Cost : 2714771.795976075 and delta : -136.9715344691649\n",
            "Iteration : 23 , Cost : 2714660.191404544 and delta : -111.60457153106108\n",
            "Iteration : 24 , Cost : 2714562.2245843234 and delta : -97.96682022046298\n",
            "Iteration : 25 , Cost : 2714492.282503022 and delta : -69.94208130147308\n",
            "Iteration : 26 , Cost : 2714445.3473550817 and delta : -46.935147940181196\n",
            "Iteration : 27 , Cost : 2714410.097714136 and delta : -35.249640945810825\n",
            "Iteration : 28 , Cost : 2714381.307430145 and delta : -28.790283991023898\n",
            "Iteration : 29 , Cost : 2714358.064805249 and delta : -23.242624895647168\n",
            "All Iterations done,Final Cost : 2714342.9187549315\n",
            "Cost with respect to K = 4 is 2714342.9187549315\n",
            "Iteration : 1 , Cost : 2909302.866010714 and delta : 2909302.866010714\n",
            "Iteration : 2 , Cost : 2554937.5249309223 and delta : -354365.34107979154\n",
            "Iteration : 3 , Cost : 2431254.128432828 and delta : -123683.39649809431\n",
            "Iteration : 4 , Cost : 2397201.5015551383 and delta : -34052.626877689734\n",
            "Iteration : 5 , Cost : 2389524.4785372177 and delta : -7677.023017920554\n",
            "Iteration : 6 , Cost : 2387635.1461660583 and delta : -1889.3323711594567\n",
            "Iteration : 7 , Cost : 2387061.817287508 and delta : -573.3288785503246\n",
            "Iteration : 8 , Cost : 2386826.7432277934 and delta : -235.0740597145632\n",
            "Iteration : 9 , Cost : 2386700.447558646 and delta : -126.29566914727911\n",
            "Iteration : 10 , Cost : 2386624.12120089 and delta : -76.32635775627568\n",
            "Iteration : 11 , Cost : 2386572.2360870903 and delta : -51.88511379947886\n",
            "Iteration : 12 , Cost : 2386533.9095201516 and delta : -38.32656693877652\n",
            "Iteration : 13 , Cost : 2386511.757029114 and delta : -22.152491037733853\n",
            "Iteration : 14 , Cost : 2386494.24456256 and delta : -17.512466553598642\n",
            "Iteration : 15 , Cost : 2386479.398637234 and delta : -14.84592532645911\n",
            "Iteration : 16 , Cost : 2386466.1194526833 and delta : -13.279184550512582\n",
            "Iteration : 17 , Cost : 2386460.154764834 and delta : -5.964687849394977\n",
            "Iteration : 18 , Cost : 2386456.463815524 and delta : -3.6909493100829422\n",
            "Iteration : 19 , Cost : 2386453.860860046 and delta : -2.6029554777778685\n",
            "Iteration : 20 , Cost : 2386450.678150504 and delta : -3.1827095421031117\n",
            "Iteration : 21 , Cost : 2386448.516929429 and delta : -2.161221074871719\n",
            "Iteration : 22 , Cost : 2386446.237502843 and delta : -2.279426585882902\n",
            "Iteration : 23 , Cost : 2386443.963969061 and delta : -2.273533781990409\n",
            "Iteration : 24 , Cost : 2386441.7553221723 and delta : -2.208646888844669\n",
            "Iteration : 25 , Cost : 2386440.00957807 and delta : -1.7457441021688282\n",
            "Iteration : 26 , Cost : 2386438.4191991454 and delta : -1.5903789247386158\n",
            "Iteration : 27 , Cost : 2386436.4672524724 and delta : -1.9519466729834676\n",
            "Iteration : 28 , Cost : 2386435.5786546445 and delta : -0.8885978278703988\n",
            "Iteration : 29 , Cost : 2386434.80207964 and delta : -0.7765750046819448\n",
            "All Iterations done,Final Cost : 2386433.8817896335\n",
            "Cost with respect to K = 6 is 2386433.8817896335\n",
            "Iteration : 1 , Cost : 2616894.7155978465 and delta : 2616894.7155978465\n",
            "Iteration : 2 , Cost : 2406730.00695059 and delta : -210164.70864725672\n",
            "Iteration : 3 , Cost : 2361524.72156856 and delta : -45205.2853820296\n",
            "Iteration : 4 , Cost : 2325894.1254774677 and delta : -35630.596091092564\n",
            "Iteration : 5 , Cost : 2289041.6021663602 and delta : -36852.52331110742\n",
            "Iteration : 6 , Cost : 2265035.272569655 and delta : -24006.32959670527\n",
            "Iteration : 7 , Cost : 2253045.2451365297 and delta : -11990.027433125302\n",
            "Iteration : 8 , Cost : 2247474.3979196353 and delta : -5570.8472168943845\n",
            "Iteration : 9 , Cost : 2244929.7681215233 and delta : -2544.6297981119715\n",
            "Iteration : 10 , Cost : 2243956.412887434 and delta : -973.3552340893075\n",
            "Iteration : 11 , Cost : 2243539.3113305504 and delta : -417.1015568836592\n",
            "Iteration : 12 , Cost : 2243190.389560151 and delta : -348.92177039943635\n",
            "Iteration : 13 , Cost : 2242730.4918217626 and delta : -459.89773838827386\n",
            "Iteration : 14 , Cost : 2241964.731290181 and delta : -765.7605315814726\n",
            "Iteration : 15 , Cost : 2240797.7996754376 and delta : -1166.9316147435457\n",
            "Iteration : 16 , Cost : 2238895.539562117 and delta : -1902.260113320779\n",
            "Iteration : 17 , Cost : 2237212.9095939477 and delta : -1682.6299681691453\n",
            "Iteration : 18 , Cost : 2236513.756004812 and delta : -699.1535891355015\n",
            "Iteration : 19 , Cost : 2236323.406423215 and delta : -190.3495815973729\n",
            "Iteration : 20 , Cost : 2236289.103408653 and delta : -34.30301456199959\n",
            "Iteration : 21 , Cost : 2236279.0082444283 and delta : -10.095164224505424\n",
            "Iteration : 22 , Cost : 2236273.911510143 and delta : -5.096734285354614\n",
            "Iteration : 23 , Cost : 2236271.670969199 and delta : -2.2405409440398216\n",
            "Iteration : 24 , Cost : 2236270.541123528 and delta : -1.129845670890063\n",
            "Iteration : 25 , Cost : 2236270.2668353077 and delta : -0.2742882203310728\n",
            "Iteration : 26 , Cost : 2236270.072194161 and delta : -0.1946411468088627\n",
            "Iteration : 27 , Cost : 2236269.889833806 and delta : -0.18236035481095314\n",
            "Iteration : 28 , Cost : 2236269.6924448265 and delta : -0.1973889796063304\n",
            "Iteration : 29 , Cost : 2236269.548575565 and delta : -0.14386926125735044\n",
            "All Iterations done,Final Cost : 2236269.499990955\n",
            "Cost with respect to K = 8 is 2236269.499990955\n",
            "Iteration : 1 , Cost : 2381814.9690679656 and delta : 2381814.9690679656\n",
            "Iteration : 2 , Cost : 2238148.7590725045 and delta : -143666.20999546116\n",
            "Iteration : 3 , Cost : 2189457.461076427 and delta : -48691.29799607769\n",
            "Iteration : 4 , Cost : 2164306.181240916 and delta : -25151.279835511\n",
            "Iteration : 5 , Cost : 2151579.9205377293 and delta : -12726.260703186505\n",
            "Iteration : 6 , Cost : 2147450.1620432884 and delta : -4129.758494440932\n",
            "Iteration : 7 , Cost : 2145832.9138717433 and delta : -1617.2481715450995\n",
            "Iteration : 8 , Cost : 2144827.450517779 and delta : -1005.4633539640345\n",
            "Iteration : 9 , Cost : 2143991.1044094246 and delta : -836.3461083546281\n",
            "Iteration : 10 , Cost : 2143184.2395695327 and delta : -806.8648398919031\n",
            "Iteration : 11 , Cost : 2142284.9170073746 and delta : -899.3225621581078\n",
            "Iteration : 12 , Cost : 2141198.70974404 and delta : -1086.2072633346543\n",
            "Iteration : 13 , Cost : 2139867.1494446876 and delta : -1331.560299352277\n",
            "Iteration : 14 , Cost : 2138195.6267533973 and delta : -1671.52269129036\n",
            "Iteration : 15 , Cost : 2136045.6255256715 and delta : -2150.001227725763\n",
            "Iteration : 16 , Cost : 2133098.9307277473 and delta : -2946.694797924254\n",
            "Iteration : 17 , Cost : 2129704.0845032674 and delta : -3394.846224479843\n",
            "Iteration : 18 , Cost : 2126470.1230469355 and delta : -3233.96145633189\n",
            "Iteration : 19 , Cost : 2123786.68612345 and delta : -2683.436923485715\n",
            "Iteration : 20 , Cost : 2121827.4911062666 and delta : -1959.1950171831995\n",
            "Iteration : 21 , Cost : 2120070.5915570073 and delta : -1756.8995492593385\n",
            "Iteration : 22 , Cost : 2118624.265842867 and delta : -1446.3257141401991\n",
            "Iteration : 23 , Cost : 2117531.393264878 and delta : -1092.8725779890083\n",
            "Iteration : 24 , Cost : 2116810.791194134 and delta : -720.6020707441494\n",
            "Iteration : 25 , Cost : 2116344.8385600606 and delta : -465.9526340733282\n",
            "Iteration : 26 , Cost : 2116072.0230841003 and delta : -272.8154759602621\n",
            "Iteration : 27 , Cost : 2115926.9794440805 and delta : -145.04364001983777\n",
            "Iteration : 28 , Cost : 2115835.755285597 and delta : -91.2241584835574\n",
            "Iteration : 29 , Cost : 2115773.3676732453 and delta : -62.38761235168204\n",
            "All Iterations done,Final Cost : 2115736.5726932436\n",
            "Cost with respect to K = 10 is 2115736.5726932436\n",
            "Iteration : 1 , Cost : 2283270.697557909 and delta : 2283270.697557909\n",
            "Iteration : 2 , Cost : 2081504.1414484894 and delta : -201766.55610941956\n",
            "Iteration : 3 , Cost : 2041976.4219462574 and delta : -39527.71950223204\n",
            "Iteration : 4 , Cost : 2026724.098726303 and delta : -15252.323219954269\n",
            "Iteration : 5 , Cost : 2015762.9359932616 and delta : -10961.162733041449\n",
            "Iteration : 6 , Cost : 2010180.5805658565 and delta : -5582.355427405098\n",
            "Iteration : 7 , Cost : 2006572.0097111983 and delta : -3608.570854658261\n",
            "Iteration : 8 , Cost : 2003538.266893792 and delta : -3033.7428174063098\n",
            "Iteration : 9 , Cost : 2000701.7909524452 and delta : -2836.4759413467254\n",
            "Iteration : 10 , Cost : 1998156.5741440495 and delta : -2545.216808395693\n",
            "Iteration : 11 , Cost : 1995705.1761662397 and delta : -2451.3979778098874\n",
            "Iteration : 12 , Cost : 1993457.1317359915 and delta : -2248.0444302482065\n",
            "Iteration : 13 , Cost : 1991734.7817912633 and delta : -1722.3499447281938\n",
            "Iteration : 14 , Cost : 1990506.9845851331 and delta : -1227.7972061301116\n",
            "Iteration : 15 , Cost : 1989681.4707981271 and delta : -825.513787006028\n",
            "Iteration : 16 , Cost : 1989074.1395953426 and delta : -607.3312027845532\n",
            "Iteration : 17 , Cost : 1988592.1044380616 and delta : -482.0351572809741\n",
            "Iteration : 18 , Cost : 1988243.6472363076 and delta : -348.4572017539758\n",
            "Iteration : 19 , Cost : 1987963.10813236 and delta : -280.53910394757986\n",
            "Iteration : 20 , Cost : 1987662.82098738 and delta : -300.2871449799277\n",
            "Iteration : 21 , Cost : 1987348.9001277923 and delta : -313.92085958784446\n",
            "Iteration : 22 , Cost : 1987048.183227452 and delta : -300.7169003402814\n",
            "Iteration : 23 , Cost : 1986730.8976667388 and delta : -317.2855607131496\n",
            "Iteration : 24 , Cost : 1986375.7222799202 and delta : -355.1753868185915\n",
            "Iteration : 25 , Cost : 1986014.4922610372 and delta : -361.23001888301224\n",
            "Iteration : 26 , Cost : 1985570.4034264425 and delta : -444.08883459470235\n",
            "Iteration : 27 , Cost : 1985060.5102455472 and delta : -509.8931808953639\n",
            "Iteration : 28 , Cost : 1984510.5732011753 and delta : -549.9370443718508\n",
            "Iteration : 29 , Cost : 1983832.4014103634 and delta : -678.1717908119317\n",
            "All Iterations done,Final Cost : 1982859.4638177978\n",
            "Cost with respect to K = 12 is 1982859.4638177978\n"
          ]
        },
        {
          "output_type": "display_data",
          "data": {
            "image/png": "[encoded data removed]",
            "text/plain": [
              "<Figure size 432x288 with 1 Axes>"
            ]
          },
          "metadata": {
            "needs_background": "light"
          }
        }
      ]
    },
    {
      "cell_type": "markdown",
      "metadata": {
        "id": "OXMbQfPh0v1G"
      },
      "source": [
        "Maybe 6 is the best cluster number\n"
      ]
    },
    {
      "cell_type": "code",
      "metadata": {
        "id": "32x9M36qq2fO"
      },
      "source": [
        "#implement silhouette method from scratch\n",
        "K_vals2 = [6,8,10,12,14]\n",
        "def silhouette(K_vals,initialisation,num_iter,eta,distance):\n",
        "  Y = []\n",
        "  for k in K_vals:\n",
        "    print(\"Starting to evaluate cluster size : {0}\".format(k))\n",
        "    clustered = Kmeans(flattened_data,k,initialisation,distance,num_iter,0.01)\n",
        "    a = []\n",
        "    b = []\n",
        "    sil = []\n",
        "    N = flattened_data.shape[0]\n",
        "    for i in range(N):\n",
        "      b = [0 for i in range(k)]\n",
        "      sa = 0\n",
        "      class_size = len(np.where(clustered.labels == i)[0])\n",
        "      if(class_size > 1):\n",
        "        for j in range(N):\n",
        "          if(i != j):\n",
        "            if(clustered.labels[i] == clustered.labels[j]):\n",
        "              p_i = flattened_data[i]\n",
        "              p_j = flattened_data[j]\n",
        "              dist = np.linalg.norm((p_i - p_j),2)\n",
        "              sa += dist\n",
        "            else :\n",
        "              j_class = clustered.labels[j]\n",
        "              p_i = flattened_data[i]\n",
        "              p_j = flattened_data[j]\n",
        "              dist = np.linalg.norm((p_i - p_j),2)\n",
        "              b[j_class] += dist\n",
        "        for r in range(k):\n",
        "            class_size = len(np.where(clustered.labels == r)[0])\n",
        "            if(r == clustered.labels[i]):\n",
        "              a.append(sa / (class_size - 1)) #not technically safe,doesn't handle cases when class size == 1 or class size == 0\n",
        "              b[r] = 1e18\n",
        "            else:\n",
        "              b[r] = b[r] / class_size #not technically safe,doesn't handle cases when class size == 0\n",
        "        b = min(b)\n",
        "        s = (b - a[i])/max(b,a[i])\n",
        "        sil.append(s)\n",
        "      else :\n",
        "        sil.append(0)\n",
        "    score = np.mean(sil)\n",
        "    print(\"Silhouette score for cluster size {0} is {1}\".format(k,score))\n",
        "    Y.append(score)\n",
        "  plt.plot(K_vals,Y)\n",
        "  plt.xlabel(\"K \")\n",
        "  plt.ylabel(\"Silhouette score\")  \n",
        "  plt.title(\"Silhouette plot for K means with distance metric \" + distance + \"Forgy Initialization\" )\n",
        "\n",
        "\n",
        "\n",
        "\n",
        "\n",
        "\n",
        "\n"
      ],
      "execution_count": null,
      "outputs": []
    },
    {
      "cell_type": "markdown",
      "metadata": {
        "id": "9VwTyiPwwSU-"
      },
      "source": [
        "  **1 A (ii)>Silhouette Method(Scroll down to the bottom of the output cell to see the graph )**"
      ]
    },
    {
      "cell_type": "code",
      "metadata": {
        "colab": {
          "base_uri": "https://localhost:8080/",
          "height": 1000
        },
        "id": "ApImGJj6t7aX",
        "outputId": "39e9ebda-5485-4a74-9a91-c392d4180ab3"
      },
      "source": [
        "silhouette(K_vals2,Forgy,20,0.01,\"Euclidean\")"
      ],
      "execution_count": null,
      "outputs": [
        {
          "output_type": "stream",
          "name": "stdout",
          "text": [
            "Starting to evaluate cluster size : 6\n",
            "Iteration : 1 , Cost : 3031092.856966045 and delta : 3031092.856966045\n",
            "Iteration : 2 , Cost : 2675583.8888946963 and delta : -355508.96807134897\n",
            "Iteration : 3 , Cost : 2594494.8609452415 and delta : -81089.02794945473\n",
            "Iteration : 4 , Cost : 2567828.0369709227 and delta : -26666.823974318802\n",
            "Iteration : 5 , Cost : 2558473.0338059515 and delta : -9355.003164971247\n",
            "Iteration : 6 , Cost : 2553249.83063712 and delta : -5223.2031688313\n",
            "Iteration : 7 , Cost : 2548834.835480784 and delta : -4414.99515633611\n",
            "Iteration : 8 , Cost : 2543098.988562466 and delta : -5735.846918317955\n",
            "Iteration : 9 , Cost : 2530537.703310792 and delta : -12561.285251674242\n",
            "Iteration : 10 , Cost : 2516094.97801329 and delta : -14442.725297501776\n",
            "Iteration : 11 , Cost : 2504954.1432679514 and delta : -11140.834745338652\n",
            "Iteration : 12 , Cost : 2490517.36418146 and delta : -14436.779086491559\n",
            "Iteration : 13 , Cost : 2466077.806519185 and delta : -24439.55766227469\n",
            "Iteration : 14 , Cost : 2441703.1731494293 and delta : -24374.63336975593\n",
            "Iteration : 15 , Cost : 2437307.97673776 and delta : -4395.196411669254\n",
            "Iteration : 16 , Cost : 2436296.68720776 and delta : -1011.2895300001837\n",
            "Iteration : 17 , Cost : 2435659.816292529 and delta : -636.8709152308293\n",
            "Iteration : 18 , Cost : 2435180.3476077463 and delta : -479.46868478273973\n",
            "Iteration : 19 , Cost : 2434754.669393988 and delta : -425.6782137583941\n",
            "All Iterations done,Final Cost : 2434395.361897317\n",
            "Silhouette score for cluster size 6 is 1.3871337774773166e-05\n",
            "Starting to evaluate cluster size : 8\n",
            "Iteration : 1 , Cost : 2472343.546737598 and delta : 2472343.546737598\n",
            "Iteration : 2 , Cost : 2254702.3149823467 and delta : -217641.23175525106\n",
            "Iteration : 3 , Cost : 2227723.3605597704 and delta : -26978.954422576353\n",
            "Iteration : 4 , Cost : 2222918.3397308234 and delta : -4805.020828946959\n",
            "Iteration : 5 , Cost : 2220748.1039771405 and delta : -2170.2357536829077\n",
            "Iteration : 6 , Cost : 2219197.8280709526 and delta : -1550.2759061879478\n",
            "Iteration : 7 , Cost : 2218073.956611953 and delta : -1123.871458999347\n",
            "Iteration : 8 , Cost : 2217282.1193194813 and delta : -791.8372924719006\n",
            "Iteration : 9 , Cost : 2216745.665625843 and delta : -536.45369363809\n",
            "Iteration : 10 , Cost : 2216452.5816603866 and delta : -293.0839654565789\n",
            "Iteration : 11 , Cost : 2216263.685219402 and delta : -188.89644098468125\n",
            "Iteration : 12 , Cost : 2216150.211422068 and delta : -113.47379733389243\n",
            "Iteration : 13 , Cost : 2216073.2875756402 and delta : -76.9238464278169\n",
            "Iteration : 14 , Cost : 2216003.9374855035 and delta : -69.35009013675153\n",
            "Iteration : 15 , Cost : 2215954.5189374182 and delta : -49.418548085261136\n",
            "Iteration : 16 , Cost : 2215914.487463511 and delta : -40.031473907176405\n",
            "Iteration : 17 , Cost : 2215892.2707253657 and delta : -22.216738145332783\n",
            "Iteration : 18 , Cost : 2215874.0172335566 and delta : -18.25349180912599\n",
            "Iteration : 19 , Cost : 2215859.0603793766 and delta : -14.956854179967195\n",
            "All Iterations done,Final Cost : 2215848.605499849\n",
            "Silhouette score for cluster size 8 is 1.8184833335072e-05\n",
            "Starting to evaluate cluster size : 10\n",
            "Iteration : 1 , Cost : 2520849.929305129 and delta : 2520849.929305129\n",
            "Iteration : 2 , Cost : 2248719.0114240493 and delta : -272130.91788107995\n",
            "Iteration : 3 , Cost : 2206579.2193916608 and delta : -42139.792032388505\n",
            "Iteration : 4 , Cost : 2182361.543146274 and delta : -24217.676245386712\n",
            "Iteration : 5 , Cost : 2162259.7127277437 and delta : -20101.830418530386\n",
            "Iteration : 6 , Cost : 2142374.453309515 and delta : -19885.25941822864\n",
            "Iteration : 7 , Cost : 2118363.005540946 and delta : -24011.447768568993\n",
            "Iteration : 8 , Cost : 2094137.8083154275 and delta : -24225.197225518525\n",
            "Iteration : 9 , Cost : 2083507.6520056785 and delta : -10630.156309749\n",
            "Iteration : 10 , Cost : 2079170.641280914 and delta : -4337.01072476455\n",
            "Iteration : 11 , Cost : 2077389.8499609916 and delta : -1780.7913199223112\n",
            "Iteration : 12 , Cost : 2076629.406054377 and delta : -760.4439066145569\n",
            "Iteration : 13 , Cost : 2076301.3461887417 and delta : -328.0598656353541\n",
            "Iteration : 14 , Cost : 2076117.8753543247 and delta : -183.4708344170358\n",
            "Iteration : 15 , Cost : 2076005.582502614 and delta : -112.29285171069205\n",
            "Iteration : 16 , Cost : 2075933.829917899 and delta : -71.75258471490815\n",
            "Iteration : 17 , Cost : 2075888.8547684203 and delta : -44.97514947876334\n",
            "Iteration : 18 , Cost : 2075860.3125316023 and delta : -28.542236818000674\n",
            "Iteration : 19 , Cost : 2075839.6326754878 and delta : -20.67985611455515\n",
            "All Iterations done,Final Cost : 2075822.063346486\n",
            "Silhouette score for cluster size 10 is 2.1691494136308714e-05\n",
            "Starting to evaluate cluster size : 12\n",
            "Iteration : 1 , Cost : 2357691.685695718 and delta : 2357691.685695718\n",
            "Iteration : 2 , Cost : 2186485.0011828262 and delta : -171206.6845128918\n",
            "Iteration : 3 , Cost : 2099754.655232596 and delta : -86730.34595023002\n",
            "Iteration : 4 , Cost : 2064139.410052873 and delta : -35615.24517972325\n",
            "Iteration : 5 , Cost : 2051796.780414277 and delta : -12342.629638595972\n",
            "Iteration : 6 , Cost : 2045076.2475070579 and delta : -6720.532907219138\n",
            "Iteration : 7 , Cost : 2040207.471423932 and delta : -4868.776083125966\n",
            "Iteration : 8 , Cost : 2036721.3616845035 and delta : -3486.109739428386\n",
            "Iteration : 9 , Cost : 2034675.858609147 and delta : -2045.5030753565952\n",
            "Iteration : 10 , Cost : 2033590.459442381 and delta : -1085.3991667658556\n",
            "Iteration : 11 , Cost : 2032825.6408411681 and delta : -764.8186012129299\n",
            "Iteration : 12 , Cost : 2032266.0649346877 and delta : -559.5759064804297\n",
            "Iteration : 13 , Cost : 2031749.543873594 and delta : -516.5210610937793\n",
            "Iteration : 14 , Cost : 2031234.966317134 and delta : -514.5775564599317\n",
            "Iteration : 15 , Cost : 2030809.4688678524 and delta : -425.49744928162545\n",
            "Iteration : 16 , Cost : 2030447.5171420318 and delta : -361.9517258205451\n",
            "Iteration : 17 , Cost : 2030143.0420379294 and delta : -304.4751041023992\n",
            "Iteration : 18 , Cost : 2029898.3668144767 and delta : -244.67522345273755\n",
            "Iteration : 19 , Cost : 2029663.2263335166 and delta : -235.1404809600208\n",
            "All Iterations done,Final Cost : 2029472.286613381\n",
            "Silhouette score for cluster size 12 is 2.5602285926011112e-05\n",
            "Starting to evaluate cluster size : 14\n",
            "Iteration : 1 , Cost : 2233434.081426121 and delta : 2233434.081426121\n",
            "Iteration : 2 , Cost : 2101520.1939674667 and delta : -131913.88745865412\n",
            "Iteration : 3 , Cost : 2058868.080055512 and delta : -42652.113911954686\n",
            "Iteration : 4 , Cost : 2028880.7232564397 and delta : -29987.356799072353\n",
            "Iteration : 5 , Cost : 2013761.566601113 and delta : -15119.156655326718\n",
            "Iteration : 6 , Cost : 2003761.6481056993 and delta : -9999.918495413614\n",
            "Iteration : 7 , Cost : 1994697.6555732046 and delta : -9063.99253249471\n",
            "Iteration : 8 , Cost : 1990377.1310079843 and delta : -4320.524565220345\n",
            "Iteration : 9 , Cost : 1988558.0568919752 and delta : -1819.0741160090547\n",
            "Iteration : 10 , Cost : 1987522.5839282954 and delta : -1035.4729636798147\n",
            "Iteration : 11 , Cost : 1986744.6028834777 and delta : -777.9810448177159\n",
            "Iteration : 12 , Cost : 1985995.281438008 and delta : -749.3214454697445\n",
            "Iteration : 13 , Cost : 1985188.4717429434 and delta : -806.8096950645559\n",
            "Iteration : 14 , Cost : 1984300.189804448 and delta : -888.2819384953473\n",
            "Iteration : 15 , Cost : 1983445.3616059592 and delta : -854.8281984888017\n",
            "Iteration : 16 , Cost : 1982624.0476322907 and delta : -821.313973668497\n",
            "Iteration : 17 , Cost : 1981764.2391248702 and delta : -859.8085074205883\n",
            "Iteration : 18 , Cost : 1980782.3543724914 and delta : -981.884752378799\n",
            "Iteration : 19 , Cost : 1979551.9931026062 and delta : -1230.3612698852085\n",
            "All Iterations done,Final Cost : 1977612.9003636728\n",
            "Silhouette score for cluster size 14 is 2.1281256470946143e-05\n"
          ]
        },
        {
          "output_type": "display_data",
          "data": {
            "image/png": "[encoded data removed]",
            "text/plain": [
              "<Figure size 432x288 with 1 Axes>"
            ]
          },
          "metadata": {
            "needs_background": "light"
          }
        }
      ]
    },
    {
      "cell_type": "markdown",
      "metadata": {
        "id": "ES8IBjMjvuag"
      },
      "source": [
        "The ideal cluster size for this particular method is size = 12\n"
      ]
    },
    {
      "cell_type": "code",
      "metadata": {
        "id": "oW8_5rfBtcTv"
      },
      "source": [
        ""
      ],
      "execution_count": null,
      "outputs": []
    },
    {
      "cell_type": "code",
      "metadata": {
        "colab": {
          "base_uri": "https://localhost:8080/"
        },
        "id": "E7E8FFY8t2BD",
        "outputId": "f5fbb446-1530-4fbb-8f6e-85c1892e4266"
      },
      "source": [
        "sample_data = np.random.randint(0,1000,(1000,2))\n",
        "print(sample_data.shape)"
      ],
      "execution_count": null,
      "outputs": [
        {
          "output_type": "stream",
          "name": "stdout",
          "text": [
            "(1000, 2)\n"
          ]
        }
      ]
    },
    {
      "cell_type": "code",
      "metadata": {
        "colab": {
          "base_uri": "https://localhost:8080/",
          "height": 282
        },
        "id": "wmz2JS5Yt2BD",
        "outputId": "998aff0f-3476-428d-d868-545f1c310f3a"
      },
      "source": [
        "plt.scatter(sample_data[:,0],sample_data[:,1])"
      ],
      "execution_count": null,
      "outputs": [
        {
          "output_type": "execute_result",
          "data": {
            "text/plain": [
              "<matplotlib.collections.PathCollection at 0x7f95731ac210>"
            ]
          },
          "metadata": {},
          "execution_count": 10
        },
        {
          "output_type": "display_data",
          "data": {
            "image/png": "[encoded data removed]",
            "text/plain": [
              "<Figure size 432x288 with 1 Axes>"
            ]
          },
          "metadata": {
            "needs_background": "light"
          }
        }
      ]
    },
    {
      "cell_type": "code",
      "metadata": {
        "id": "AW0iiyC6qDlb"
      },
      "source": [
        "#implement Kmeans from scratch\n",
        "class Kmeans:\n",
        "    \n",
        "    \n",
        "\n",
        "    def __init__(self,data,K,initialization,distance,num_iteration,eta):\n",
        "        #the data must be 2D (N,F) where F is the number of Features\n",
        "        self.centroids = initialization(data,K) #returns a point with dimension (N,28*28) and label i : (0,K)\n",
        "        self.data = data\n",
        "        self.F = data.shape[1]\n",
        "        self.N = data.shape[0]\n",
        "        self.K = K\n",
        "        #print(self.data.shape)\n",
        "        self.distance = distance\n",
        "        self.labels = np.random.randint(0,self.K,self.N)\n",
        "        #print(self.labels)\n",
        "        #print(\"\")\n",
        "        self.stop = True\n",
        "        \n",
        "        self.eta = eta\n",
        "        self.num_iteration = num_iteration\n",
        "        self.Cost = 1e18\n",
        "        self.cluster()\n",
        "        \n",
        "    \n",
        "    def compute_minimum_distance(self,x,current_id):\n",
        "        \n",
        "        if(self.distance == \"Euclidean\"):\n",
        "            r = (self.centroids - x)**2\n",
        "            val = np.sum(r,axis = 1)\n",
        "            mini = np.argmin(val)\n",
        "            #if(mini >= self.K):\n",
        "                #print(val.shape)\n",
        "                #print(val)\n",
        "            return mini\n",
        "        elif(self.distance == \"Manhattan\"):\n",
        "            r = np.abs(self.centroids - x)\n",
        "            val = np.sum(r,axis = 1)\n",
        "            return np.argmin(val)\n",
        "            \n",
        "        \n",
        "            \n",
        "                \n",
        "        \n",
        "    \n",
        "    \n",
        "    def find_new_centroids(self):\n",
        "        new_centroids = np.zeros((self.K,self.F))\n",
        "        Cost = 0\n",
        "        for i in range(self.K):\n",
        "            ind = np.where(self.labels == i)\n",
        "            arr = self.data[ind] # (R,F)\n",
        "            new_centroid = np.mean(arr,axis = 0)\n",
        "            #print(\"new_Centroid1 \",new_centroid.shape)\n",
        "            new_centroid = new_centroid.reshape((1,self.F))\n",
        "            new_centroids[i] = new_centroid\n",
        "            #print(\"new_Centroid \",new_centroid.shape)\n",
        "            C = np.sum((arr - new_centroid)**2)\n",
        "            Cost = Cost + C\n",
        "         \n",
        "        #print(np.sum(new_centroids - self.centroids))\n",
        "        #print(\"New Centroids\")\n",
        "        #print(new_centroids)\n",
        "        #print(new_centroids - self.centroids)\n",
        "        #print(\"\")\n",
        "        if(np.abs(np.sum(new_centroids - self.centroids)) >= self.eta):\n",
        "            \n",
        "            self.stop = False\n",
        "        self.centroids = new_centroids\n",
        "        \n",
        "        return Cost/self.N\n",
        "    \n",
        "    \n",
        "    \n",
        "    \n",
        "        \n",
        "        \n",
        "            \n",
        "            \n",
        "     #def get_final_cost(self):\n",
        "\n",
        "        \n",
        "        \n",
        "        \n",
        "    def cluster(self):\n",
        "        import time\n",
        "        old_cost = 0\n",
        "        for i in range(self.num_iteration):\n",
        "            #print(\"Centroids : \")\n",
        "            #print(self.centroids)\n",
        "            #print(\"\")\n",
        "            \n",
        "            #print(np.unique(self.labels))\n",
        "            t1 = time.time()\n",
        "            #print(\"Labels\")\n",
        "            #print(self.labels)\n",
        "            #print(\"\")\n",
        "            for j in range(self.N):\n",
        "                \n",
        "                #print(i,j)\n",
        "                x = self.data[j]\n",
        "                \n",
        "                new_id = self.compute_minimum_distance(x,self.labels[j])\n",
        "                self.labels[j] = new_id\n",
        "                #print(new_id)\n",
        "            #print(\"New Labels\")\n",
        "            #print(self.labels)\n",
        "            #print(\"\")\n",
        "            Cost = self.find_new_centroids()\n",
        "            Diff = Cost - old_cost\n",
        "            self.Cost = Cost\n",
        "            old_cost = Cost\n",
        "            if(Diff == 0):\n",
        "                self.stop = True\n",
        "            \n",
        "            #print(\"Time taken : {0}\".format(time.time() - t1))\n",
        "            if(self.stop == True ):\n",
        "                print(\"No change in centroids,stopping at iteration : {0} with cost {1} and delta {2} \".format(i,Cost,Diff))\n",
        "              \n",
        "                #return Cost\n",
        "                self.Cost = Cost\n",
        "            if(i == self.num_iteration - 1):\n",
        "                print(\"All Iterations done,Final Cost : {0}\".format(Cost))\n",
        "                #return Cost\n",
        "                self.Cost = Cost\n",
        "            else:\n",
        "                self.stop = False\n",
        "                print(\"Iteration : {0} , Cost : {1} and delta : {2}\".format(i + 1,Cost,Diff))\n",
        "            \n",
        "        \n",
        "        \n",
        "    \n",
        "    \n",
        "    \n",
        "\n",
        "\n",
        "  "
      ],
      "execution_count": null,
      "outputs": []
    },
    {
      "cell_type": "code",
      "metadata": {
        "colab": {
          "base_uri": "https://localhost:8080/"
        },
        "id": "DL7NMkprt2BH",
        "outputId": "00c87178-21a1-4b58-c5bd-5aefe9d68492"
      },
      "source": [
        "sample = Kmeans(sample_data,2,Forgy,'Euclidean',100,0.0001)"
      ],
      "execution_count": null,
      "outputs": [
        {
          "output_type": "stream",
          "name": "stdout",
          "text": [
            "Iteration : 1 , Cost : 112874.26476963394 and delta : 112874.26476963394\n",
            "Iteration : 2 , Cost : 109584.00285691694 and delta : -3290.2619127170037\n",
            "Iteration : 3 , Cost : 107400.24739790635 and delta : -2183.7554590105865\n",
            "Iteration : 4 , Cost : 105902.86637935173 and delta : -1497.3810185546172\n",
            "Iteration : 5 , Cost : 105176.27326882168 and delta : -726.5931105300551\n",
            "Iteration : 6 , Cost : 104868.17036879728 and delta : -308.1029000244016\n",
            "Iteration : 7 , Cost : 104827.93614421441 and delta : -40.234224582862225\n",
            "Iteration : 8 , Cost : 104822.28159996 and delta : -5.6545442544156685\n",
            "Iteration : 9 , Cost : 104820.55491552383 and delta : -1.7266844361729454\n",
            "No change in centroids,stopping at iteration : 9 with cost 104820.55491552383 and delta 0.0 \n"
          ]
        }
      ]
    },
    {
      "cell_type": "code",
      "metadata": {
        "colab": {
          "base_uri": "https://localhost:8080/",
          "height": 316
        },
        "id": "ZkQyN29_t2BH",
        "outputId": "98c003cb-130d-48f7-d31b-81fb14afaa87"
      },
      "source": [
        "colors = [\"red\",\"black\",\"blue\",\"green\",\"yellow\",\"grey\",\"pink\",\"violet\",\"brown\",\"orange\"]\n",
        "for i in range(sample.K):\n",
        "    n_indices = np.where(sample.labels == i)\n",
        "    data = sample.data[n_indices]\n",
        "    plt.scatter(data[:,0],data[:,1],color = colors[i])\n",
        "    \n",
        "    print(\"length of labels  {0} is {1}\".format(i,data.shape[0]))\n",
        "plt.legend()\n",
        "plt.show()"
      ],
      "execution_count": null,
      "outputs": [
        {
          "output_type": "stream",
          "name": "stderr",
          "text": [
            "No handles with labels found to put in legend.\n"
          ]
        },
        {
          "output_type": "stream",
          "name": "stdout",
          "text": [
            "length of labels  0 is 494\n",
            "length of labels  1 is 506\n"
          ]
        },
        {
          "output_type": "display_data",
          "data": {
            "image/png": "[encoded data removed]",
            "text/plain": [
              "<Figure size 432x288 with 1 Axes>"
            ]
          },
          "metadata": {
            "needs_background": "light"
          }
        }
      ]
    },
    {
      "cell_type": "markdown",
      "metadata": {
        "id": "fiTc24Qzw_cf"
      },
      "source": [
        "**FORGY AND EUCLIDEAN(SCROLL DOWN TO THE BOTTOM OF OUTPUT CELL TO VISUALIZE THE CLUSTERING)**"
      ]
    },
    {
      "cell_type": "code",
      "metadata": {
        "colab": {
          "base_uri": "https://localhost:8080/",
          "height": 1000
        },
        "id": "f8A22Wgqt2BL",
        "outputId": "0261b815-3743-42e1-bfe6-e7163fc89415"
      },
      "source": [
        "Clustering = Kmeans(flattened_data,10,Forgy,'Euclidean',50,0.0001)\n",
        "''' pick a random subset of data points for visualization as running TSNE in all of them takes a lot of them '''\n",
        "indices =  np.random.choice(range(0, 70000), replace = True, size = 10000)\n",
        "selected_data = flattened_data[indices]\n",
        "print(selected_data.shape,selected_data.dtype)\n",
        "''' visualizing the clusters formed'''\n",
        "from sklearn.manifold import TSNE\n",
        "import time\n",
        "t = time.time()\n",
        "embedded_data = TSNE(n_components=2,n_iter = 250,init='random').fit_transform(selected_data.astype(np.float64))\n",
        "t2 = time.time()\n",
        "print(\"Time taken for Dimensionality Reduction : {0}\".format(t2 - t))\n",
        "clustered_data = []\n",
        "labels = []\n",
        "for i in range(10000):\n",
        "    indice = indices[i]\n",
        "    data = embedded_data[i]\n",
        "    label = Clustering.labels[indice]\n",
        "    clustered_data.append(data)\n",
        "    labels.append(label)\n",
        "labels = np.array(labels).reshape((len(labels),1))\n",
        "labels = labels[:]\n",
        "\n",
        "clustered_data = np.array(clustered_data)\n",
        "print(labels.shape)\n",
        "print(clustered_data.shape)\n",
        "colors = [\"red\",\"black\",\"blue\",\"green\",\"yellow\",\"grey\",\"pink\",\"violet\",\"brown\",\"orange\"]\n",
        "for i in range(Clustering.K):\n",
        "    indices,_ = np.where(labels == i)\n",
        "    data = clustered_data[indices]\n",
        "    plt.scatter(data[:,0],data[:,1],color = colors[i])\n",
        "    \n",
        "    print(\"length of labels  {0} is {1}\".format(i,data.shape[0]))\n",
        "plt.title(\"Distance = Euclidean , Initialization = Forgy , K = 10\")\n",
        "plt.legend()\n",
        "plt.show()"
      ],
      "execution_count": null,
      "outputs": [
        {
          "output_type": "stream",
          "name": "stdout",
          "text": [
            "Iteration : 1 , Cost : 2546854.011482391 and delta : 2546854.011482391\n",
            "Iteration : 2 , Cost : 2315325.725061612 and delta : -231528.28642077884\n",
            "Iteration : 3 , Cost : 2238670.060302577 and delta : -76655.66475903522\n",
            "Iteration : 4 , Cost : 2181556.4807282076 and delta : -57113.57957436936\n",
            "Iteration : 5 , Cost : 2152744.2232057494 and delta : -28812.25752245821\n",
            "Iteration : 6 , Cost : 2135832.027557604 and delta : -16912.195648145396\n",
            "Iteration : 7 , Cost : 2125888.3590333983 and delta : -9943.668524205685\n",
            "Iteration : 8 , Cost : 2120698.377897129 and delta : -5189.981136269402\n",
            "Iteration : 9 , Cost : 2118273.9969253046 and delta : -2424.3809718242846\n",
            "Iteration : 10 , Cost : 2117120.9816375617 and delta : -1153.01528774295\n",
            "Iteration : 11 , Cost : 2116471.0120598082 and delta : -649.9695777534507\n",
            "Iteration : 12 , Cost : 2115970.0069171055 and delta : -501.00514270272106\n",
            "Iteration : 13 , Cost : 2115459.540589472 and delta : -510.4663276337087\n",
            "Iteration : 14 , Cost : 2114846.0045633195 and delta : -613.5360261523165\n",
            "Iteration : 15 , Cost : 2114086.1977516674 and delta : -759.8068116521463\n",
            "Iteration : 16 , Cost : 2112933.777577907 and delta : -1152.4201737605035\n",
            "Iteration : 17 , Cost : 2110964.325836676 and delta : -1969.451741230674\n",
            "Iteration : 18 , Cost : 2107516.317882411 and delta : -3448.007954264991\n",
            "Iteration : 19 , Cost : 2102749.6710605547 and delta : -4766.646821856499\n",
            "Iteration : 20 , Cost : 2097785.0006727003 and delta : -4964.670387854334\n",
            "Iteration : 21 , Cost : 2093451.2682376103 and delta : -4333.732435090002\n",
            "Iteration : 22 , Cost : 2089572.1605933611 and delta : -3879.1076442492194\n",
            "Iteration : 23 , Cost : 2085196.721028417 and delta : -4375.439564944012\n",
            "Iteration : 24 , Cost : 2080584.1258594468 and delta : -4612.595168970292\n",
            "Iteration : 25 , Cost : 2076801.3539345087 and delta : -3782.7719249380752\n",
            "Iteration : 26 , Cost : 2074715.0001566515 and delta : -2086.3537778572645\n",
            "Iteration : 27 , Cost : 2073750.1546929828 and delta : -964.8454636686947\n",
            "Iteration : 28 , Cost : 2073378.1066475054 and delta : -372.0480454773642\n",
            "Iteration : 29 , Cost : 2073183.694046252 and delta : -194.41260125348344\n",
            "Iteration : 30 , Cost : 2073051.0388249713 and delta : -132.65522128064185\n",
            "Iteration : 31 , Cost : 2072957.4095556932 and delta : -93.6292692781426\n",
            "Iteration : 32 , Cost : 2072880.4180404192 and delta : -76.99151527392678\n",
            "Iteration : 33 , Cost : 2072822.6722346984 and delta : -57.74580572079867\n",
            "Iteration : 34 , Cost : 2072762.7617776669 and delta : -59.91045703156851\n",
            "Iteration : 35 , Cost : 2072686.9832284786 and delta : -75.77854918828234\n",
            "Iteration : 36 , Cost : 2072582.5686672546 and delta : -104.4145612239372\n",
            "Iteration : 37 , Cost : 2072478.841107751 and delta : -103.72755950363353\n",
            "Iteration : 38 , Cost : 2072349.5788561995 and delta : -129.26225155149586\n",
            "Iteration : 39 , Cost : 2072177.2938183907 and delta : -172.28503780881874\n",
            "Iteration : 40 , Cost : 2071963.5670596247 and delta : -213.72675876598805\n",
            "Iteration : 41 , Cost : 2071700.1295313472 and delta : -263.4375282775145\n",
            "Iteration : 42 , Cost : 2071332.3712947327 and delta : -367.7582366145216\n",
            "Iteration : 43 , Cost : 2070845.8919009164 and delta : -486.4793938163202\n",
            "Iteration : 44 , Cost : 2070260.013653715 and delta : -585.8782472014427\n",
            "Iteration : 45 , Cost : 2069573.4356364175 and delta : -686.5780172974337\n",
            "Iteration : 46 , Cost : 2068906.4542780854 and delta : -666.9813583320938\n",
            "Iteration : 47 , Cost : 2068288.0154995283 and delta : -618.4387785571162\n",
            "Iteration : 48 , Cost : 2067726.6474995282 and delta : -561.3680000000168\n",
            "Iteration : 49 , Cost : 2067258.621610567 and delta : -468.0258889612742\n",
            "All Iterations done,Final Cost : 2066910.2875237304\n",
            "(10000, 784) float64\n"
          ]
        },
        {
          "output_type": "stream",
          "name": "stderr",
          "text": [
            "/usr/local/lib/python3.7/dist-packages/sklearn/manifold/_t_sne.py:793: FutureWarning: The default learning rate in TSNE will change from 200.0 to 'auto' in 1.2.\n",
            "  FutureWarning,\n",
            "No handles with labels found to put in legend.\n"
          ]
        },
        {
          "output_type": "stream",
          "name": "stdout",
          "text": [
            "Time taken for Dimensionality Reduction : 28.961234092712402\n",
            "(10000, 1)\n",
            "(10000, 2)\n",
            "length of labels  0 is 1232\n",
            "length of labels  1 is 1583\n",
            "length of labels  2 is 1489\n",
            "length of labels  3 is 1316\n",
            "length of labels  4 is 1194\n",
            "length of labels  5 is 455\n",
            "length of labels  6 is 415\n",
            "length of labels  7 is 701\n",
            "length of labels  8 is 1194\n",
            "length of labels  9 is 421\n"
          ]
        },
        {
          "output_type": "display_data",
          "data": {
            "image/png": "[encoded data removed]",
            "text/plain": [
              "<Figure size 432x288 with 1 Axes>"
            ]
          },
          "metadata": {
            "needs_background": "light"
          }
        }
      ]
    },
    {
      "cell_type": "markdown",
      "metadata": {
        "id": "ia4b9t-dxUpq"
      },
      "source": [
        "**FORGY AND MANHATTAN(SCROLL DOWN TO THE BOTTOM OF OUTPUT CELL TO VISUALIZE THE CLUSTERING)**"
      ]
    },
    {
      "cell_type": "code",
      "metadata": {
        "colab": {
          "base_uri": "https://localhost:8080/",
          "height": 1000
        },
        "id": "4PFXi_G_05-q",
        "outputId": "5d8eb55b-e5cb-48e0-8946-20f2e53ce79f"
      },
      "source": [
        "Clustering1 = Kmeans(flattened_data,10,Forgy,'Manhattan',50,0.0001)\n",
        "t = time.time()\n",
        "''' pick a random subset of data points for visualization as running TSNE in all of them takes a lot of them '''\n",
        "indices =  np.random.choice(range(0, 70000), replace = True, size = 10000)\n",
        "selected_data = flattened_data[indices]\n",
        "print(selected_data.shape,selected_data.dtype)\n",
        "embedded_data = TSNE(n_components=2,n_iter = 250,init='random').fit_transform(selected_data.astype(np.float64))\n",
        "t2 = time.time()\n",
        "print(\"Time taken for Dimensionality Reduction : {0}\".format(t2 - t))\n",
        "clustered_data = []\n",
        "labels = []\n",
        "for i in range(10000):\n",
        "    indice = indices[i]\n",
        "    data = embedded_data[i]\n",
        "    label = Clustering1.labels[indice]\n",
        "    clustered_data.append(data)\n",
        "    labels.append(label)\n",
        "labels = np.array(labels).reshape((len(labels),1))\n",
        "labels = labels[:]\n",
        "\n",
        "clustered_data = np.array(clustered_data)\n",
        "print(labels.shape)\n",
        "print(clustered_data.shape)\n",
        "colors = [\"red\",\"black\",\"blue\",\"green\",\"yellow\",\"grey\",\"pink\",\"violet\",\"brown\",\"orange\"]\n",
        "for i in range(Clustering1.K):\n",
        "    indices,_ = np.where(labels == i)\n",
        "    data = clustered_data[indices]\n",
        "    plt.scatter(data[:,0],data[:,1],color = colors[i])\n",
        "    \n",
        "    print(\"length of labels  {0} is {1}\".format(i,data.shape[0]))\n",
        "plt.title(\"Distance = Manhattan , Initialization = Forgy , K = 10\")\n",
        "plt.legend()\n",
        "plt.show()"
      ],
      "execution_count": null,
      "outputs": [
        {
          "output_type": "stream",
          "name": "stdout",
          "text": [
            "Iteration : 1 , Cost : 2336401.006326724 and delta : 2336401.006326724\n",
            "Iteration : 2 , Cost : 2223377.514303415 and delta : -113023.49202330876\n",
            "Iteration : 3 , Cost : 2211181.861457316 and delta : -12195.652846098877\n",
            "Iteration : 4 , Cost : 2199668.529699741 and delta : -11513.331757575274\n",
            "Iteration : 5 , Cost : 2190031.5291139395 and delta : -9637.000585801434\n",
            "Iteration : 6 , Cost : 2183263.917986604 and delta : -6767.611127335578\n",
            "Iteration : 7 , Cost : 2178247.201543335 and delta : -5016.716443269048\n",
            "Iteration : 8 , Cost : 2174924.5319524207 and delta : -3322.6695909141563\n",
            "Iteration : 9 , Cost : 2172399.8578544753 and delta : -2524.674097945448\n",
            "Iteration : 10 , Cost : 2172095.9017729564 and delta : -303.9560815189034\n",
            "Iteration : 11 , Cost : 2173091.3425509743 and delta : 995.4407780179754\n",
            "Iteration : 12 , Cost : 2174139.2181284134 and delta : 1047.8755774390884\n",
            "Iteration : 13 , Cost : 2175526.034088888 and delta : 1386.815960474778\n",
            "Iteration : 14 , Cost : 2175213.1477233195 and delta : -312.886365568731\n",
            "Iteration : 15 , Cost : 2171774.144960493 and delta : -3439.0027628266253\n",
            "Iteration : 16 , Cost : 2166546.2629513233 and delta : -5227.8820091695525\n",
            "Iteration : 17 , Cost : 2163981.8401102703 and delta : -2564.4228410529904\n",
            "Iteration : 18 , Cost : 2163454.9281723527 and delta : -526.9119379175827\n",
            "Iteration : 19 , Cost : 2163617.7407457284 and delta : 162.81257337564602\n",
            "Iteration : 20 , Cost : 2164273.9193953257 and delta : 656.1786495973356\n",
            "Iteration : 21 , Cost : 2164549.913459475 and delta : 275.9940641494468\n",
            "Iteration : 22 , Cost : 2164737.5651355567 and delta : 187.65167608158663\n",
            "Iteration : 23 , Cost : 2164975.4990291204 and delta : 237.93389356369153\n",
            "Iteration : 24 , Cost : 2165114.4265617034 and delta : 138.92753258300945\n",
            "Iteration : 25 , Cost : 2165109.7313724924 and delta : -4.695189211051911\n",
            "Iteration : 26 , Cost : 2165027.8372502006 and delta : -81.89412229182199\n",
            "Iteration : 27 , Cost : 2164964.631651583 and delta : -63.20559861743823\n",
            "Iteration : 28 , Cost : 2164960.9089764548 and delta : -3.7226751283742487\n",
            "Iteration : 29 , Cost : 2164773.2688059667 and delta : -187.6401704880409\n",
            "Iteration : 30 , Cost : 2164618.4555653026 and delta : -154.81324066407979\n",
            "Iteration : 31 , Cost : 2164408.9081276627 and delta : -209.547437639907\n",
            "Iteration : 32 , Cost : 2164261.4093557773 and delta : -147.49877188540995\n",
            "Iteration : 33 , Cost : 2163922.045051949 and delta : -339.3643038282171\n",
            "Iteration : 34 , Cost : 2163773.346080088 and delta : -148.69897186104208\n",
            "Iteration : 35 , Cost : 2163747.648823064 and delta : -25.697257024236023\n",
            "Iteration : 36 , Cost : 2163682.8551223893 and delta : -64.79370067454875\n",
            "Iteration : 37 , Cost : 2163894.5824290677 and delta : 211.72730667842552\n",
            "Iteration : 38 , Cost : 2164040.7309652143 and delta : 146.14853614661843\n",
            "Iteration : 39 , Cost : 2164363.4543745476 and delta : 322.7234093332663\n",
            "Iteration : 40 , Cost : 2164351.4639550587 and delta : -11.990419488865882\n",
            "Iteration : 41 , Cost : 2163096.375633106 and delta : -1255.088321952615\n",
            "Iteration : 42 , Cost : 2159442.321836211 and delta : -3654.053796895314\n",
            "Iteration : 43 , Cost : 2156600.179942452 and delta : -2842.141893758904\n",
            "Iteration : 44 , Cost : 2155965.015600124 and delta : -635.1643423279747\n",
            "Iteration : 45 , Cost : 2155775.0353609216 and delta : -189.98023920226842\n",
            "Iteration : 46 , Cost : 2155524.5716652907 and delta : -250.46369563089684\n",
            "Iteration : 47 , Cost : 2155399.8047073833 and delta : -124.7669579074718\n",
            "Iteration : 48 , Cost : 2155307.6147630354 and delta : -92.18994434783235\n",
            "Iteration : 49 , Cost : 2155236.905811772 and delta : -70.70895126322284\n",
            "All Iterations done,Final Cost : 2155189.6539425375\n",
            "(10000, 784) float64\n"
          ]
        },
        {
          "output_type": "stream",
          "name": "stderr",
          "text": [
            "/usr/local/lib/python3.7/dist-packages/sklearn/manifold/_t_sne.py:793: FutureWarning: The default learning rate in TSNE will change from 200.0 to 'auto' in 1.2.\n",
            "  FutureWarning,\n",
            "No handles with labels found to put in legend.\n"
          ]
        },
        {
          "output_type": "stream",
          "name": "stdout",
          "text": [
            "Time taken for Dimensionality Reduction : 29.68704342842102\n",
            "(10000, 1)\n",
            "(10000, 2)\n",
            "length of labels  0 is 855\n",
            "length of labels  1 is 420\n",
            "length of labels  2 is 2186\n",
            "length of labels  3 is 382\n",
            "length of labels  4 is 1351\n",
            "length of labels  5 is 584\n",
            "length of labels  6 is 375\n",
            "length of labels  7 is 1098\n",
            "length of labels  8 is 907\n",
            "length of labels  9 is 1842\n"
          ]
        },
        {
          "output_type": "display_data",
          "data": {
            "image/png": "[encoded data removed]",
            "text/plain": [
              "<Figure size 432x288 with 1 Axes>"
            ]
          },
          "metadata": {
            "needs_background": "light"
          }
        }
      ]
    },
    {
      "cell_type": "markdown",
      "metadata": {
        "id": "0osyrEUQxZwk"
      },
      "source": [
        "**RANDOM PARTITION AND EUCLIDEAN(SCROLL DOWN TO THE BOTTOM OF OUTPUT CELL TO VISUALIZE THE CLUSTERING)**"
      ]
    },
    {
      "cell_type": "code",
      "metadata": {
        "colab": {
          "base_uri": "https://localhost:8080/",
          "height": 1000
        },
        "id": "4u9qH9cf5PPi",
        "outputId": "de77bc76-5ea0-4d31-f4b1-dad3176f26fc"
      },
      "source": [
        "Clustering1 = Kmeans(flattened_data,10,Random_Partition,'Euclidean',50,0.0001)\n",
        "t = time.time()\n",
        "''' pick a random subset of data points for visualization as running TSNE in all of them takes a lot of them '''\n",
        "indices =  np.random.choice(range(0, 70000), replace = True, size = 10000)\n",
        "selected_data = flattened_data[indices]\n",
        "print(selected_data.shape,selected_data.dtype)\n",
        "embedded_data = TSNE(n_components=2,n_iter = 250,init='random').fit_transform(selected_data.astype(np.float64))\n",
        "t2 = time.time()\n",
        "print(\"Time taken for Dimensionality Reduction : {0}\".format(t2 - t))\n",
        "clustered_data = []\n",
        "labels = []\n",
        "for i in range(10000):\n",
        "    indice = indices[i]\n",
        "    data = embedded_data[i]\n",
        "    label = Clustering1.labels[indice]\n",
        "    clustered_data.append(data)\n",
        "    labels.append(label)\n",
        "labels = np.array(labels).reshape((len(labels),1))\n",
        "labels = labels[:]\n",
        "\n",
        "clustered_data = np.array(clustered_data)\n",
        "print(labels.shape)\n",
        "print(clustered_data.shape)\n",
        "colors = [\"red\",\"black\",\"blue\",\"green\",\"yellow\",\"grey\",\"pink\",\"violet\",\"brown\",\"orange\"]\n",
        "for i in range(Clustering1.K):\n",
        "    indices,_ = np.where(labels == i)\n",
        "    data = clustered_data[indices]\n",
        "    plt.scatter(data[:,0],data[:,1],color = colors[i])\n",
        "    \n",
        "    print(\"length of labels  {0} is {1}\".format(i,data.shape[0]))\n",
        "plt.title(\"Distance = Euclidean , Initialization = Random Partition , K = 10\")\n",
        "plt.legend()\n",
        "plt.show()"
      ],
      "execution_count": null,
      "outputs": [
        {
          "output_type": "stream",
          "name": "stdout",
          "text": [
            "Iteration : 1 , Cost : 2893897.9891707883 and delta : 2893897.9891707883\n",
            "Iteration : 2 , Cost : 2355064.924384083 and delta : -538833.0647867052\n",
            "Iteration : 3 , Cost : 2257656.533559371 and delta : -97408.39082471235\n",
            "Iteration : 4 , Cost : 2208027.258471343 and delta : -49629.275088027585\n",
            "Iteration : 5 , Cost : 2168233.8800600916 and delta : -39793.378411251586\n",
            "Iteration : 6 , Cost : 2133684.1569097545 and delta : -34549.723150337115\n",
            "Iteration : 7 , Cost : 2114126.3312878436 and delta : -19557.82562191086\n",
            "Iteration : 8 , Cost : 2108141.1660410916 and delta : -5985.165246752091\n",
            "Iteration : 9 , Cost : 2104595.5341362883 and delta : -3545.6319048032165\n",
            "Iteration : 10 , Cost : 2102154.3792369235 and delta : -2441.154899364803\n",
            "Iteration : 11 , Cost : 2100393.03276582 and delta : -1761.346471103374\n",
            "Iteration : 12 , Cost : 2098942.1676937453 and delta : -1450.865072074812\n",
            "Iteration : 13 , Cost : 2097601.979610988 and delta : -1340.188082757406\n",
            "Iteration : 14 , Cost : 2096265.2762237175 and delta : -1336.7033872704487\n",
            "Iteration : 15 , Cost : 2094843.9530718152 and delta : -1421.3231519022956\n",
            "Iteration : 16 , Cost : 2092926.2684252607 and delta : -1917.684646554524\n",
            "Iteration : 17 , Cost : 2089995.8781017265 and delta : -2930.390323534142\n",
            "Iteration : 18 , Cost : 2085457.6817878305 and delta : -4538.196313895984\n",
            "Iteration : 19 , Cost : 2079842.2609145674 and delta : -5615.420873263152\n",
            "Iteration : 20 , Cost : 2076672.486901926 and delta : -3169.7740126412828\n",
            "Iteration : 21 , Cost : 2075811.7825973283 and delta : -860.7043045978062\n",
            "Iteration : 22 , Cost : 2075585.6173685892 and delta : -226.165228739148\n",
            "Iteration : 23 , Cost : 2075444.4347552084 and delta : -141.18261338071898\n",
            "Iteration : 24 , Cost : 2075331.936046501 and delta : -112.49870870751329\n",
            "Iteration : 25 , Cost : 2075219.4958178806 and delta : -112.44022862031125\n",
            "Iteration : 26 , Cost : 2075132.4695494785 and delta : -87.02626840211451\n",
            "Iteration : 27 , Cost : 2075068.214939828 and delta : -64.25460965046659\n",
            "Iteration : 28 , Cost : 2075012.300102959 and delta : -55.91483686910942\n",
            "Iteration : 29 , Cost : 2074975.1157152753 and delta : -37.18438768363558\n",
            "Iteration : 30 , Cost : 2074949.8594681222 and delta : -25.25624715304002\n",
            "Iteration : 31 , Cost : 2074928.4629097614 and delta : -21.396558360895142\n",
            "Iteration : 32 , Cost : 2074907.3079633415 and delta : -21.15494641987607\n",
            "Iteration : 33 , Cost : 2074889.5769745319 and delta : -17.73098880960606\n",
            "Iteration : 34 , Cost : 2074867.417916316 and delta : -22.159058215795085\n",
            "Iteration : 35 , Cost : 2074846.0239514052 and delta : -21.39396491087973\n",
            "Iteration : 36 , Cost : 2074827.9432910627 and delta : -18.080660342471674\n",
            "Iteration : 37 , Cost : 2074816.6632153618 and delta : -11.280075700953603\n",
            "Iteration : 38 , Cost : 2074806.6899261724 and delta : -9.973289189394563\n",
            "Iteration : 39 , Cost : 2074796.9401760807 and delta : -9.749750091694295\n",
            "Iteration : 40 , Cost : 2074790.1199084679 and delta : -6.820267612813041\n",
            "Iteration : 41 , Cost : 2074784.1321668741 and delta : -5.987741593737155\n",
            "Iteration : 42 , Cost : 2074779.629614662 and delta : -4.50255221221596\n",
            "Iteration : 43 , Cost : 2074776.0475982914 and delta : -3.582016370492056\n",
            "Iteration : 44 , Cost : 2074772.9727493187 and delta : -3.0748489727266133\n",
            "Iteration : 45 , Cost : 2074770.6252097138 and delta : -2.347539604874328\n",
            "Iteration : 46 , Cost : 2074768.808246875 and delta : -1.8169628388714045\n",
            "Iteration : 47 , Cost : 2074767.0325448448 and delta : -1.775702030165121\n",
            "Iteration : 48 , Cost : 2074765.6795315996 and delta : -1.3530132451560348\n",
            "Iteration : 49 , Cost : 2074764.1051306655 and delta : -1.574400934157893\n",
            "All Iterations done,Final Cost : 2074762.032568637\n",
            "(10000, 784) float64\n"
          ]
        },
        {
          "output_type": "stream",
          "name": "stderr",
          "text": [
            "/usr/local/lib/python3.7/dist-packages/sklearn/manifold/_t_sne.py:793: FutureWarning: The default learning rate in TSNE will change from 200.0 to 'auto' in 1.2.\n",
            "  FutureWarning,\n",
            "No handles with labels found to put in legend.\n"
          ]
        },
        {
          "output_type": "stream",
          "name": "stdout",
          "text": [
            "Time taken for Dimensionality Reduction : 29.65386652946472\n",
            "(10000, 1)\n",
            "(10000, 2)\n",
            "length of labels  0 is 1278\n",
            "length of labels  1 is 1036\n",
            "length of labels  2 is 390\n",
            "length of labels  3 is 1026\n",
            "length of labels  4 is 1272\n",
            "length of labels  5 is 1211\n",
            "length of labels  6 is 1225\n",
            "length of labels  7 is 1471\n",
            "length of labels  8 is 676\n",
            "length of labels  9 is 415\n"
          ]
        },
        {
          "output_type": "display_data",
          "data": {
            "image/png": "[encoded data removed]",
            "text/plain": [
              "<Figure size 432x288 with 1 Axes>"
            ]
          },
          "metadata": {
            "needs_background": "light"
          }
        }
      ]
    },
    {
      "cell_type": "markdown",
      "metadata": {
        "id": "y4xDlZiaxs56"
      },
      "source": [
        "Hierarchical clustering"
      ]
    },
    {
      "cell_type": "code",
      "metadata": {
        "colab": {
          "base_uri": "https://localhost:8080/"
        },
        "id": "dNwKSiTi5mpv",
        "outputId": "948c6c86-55c9-474e-8ef3-4cf321daf151"
      },
      "source": [
        "!pip3 install sklearn"
      ],
      "execution_count": null,
      "outputs": [
        {
          "output_type": "stream",
          "name": "stdout",
          "text": [
            "Requirement already satisfied: sklearn in /usr/local/lib/python3.7/dist-packages (0.0)\n",
            "Requirement already satisfied: scikit-learn in /usr/local/lib/python3.7/dist-packages (from sklearn) (1.0.1)\n",
            "Requirement already satisfied: threadpoolctl>=2.0.0 in /usr/local/lib/python3.7/dist-packages (from scikit-learn->sklearn) (3.0.0)\n",
            "Requirement already satisfied: joblib>=0.11 in /usr/local/lib/python3.7/dist-packages (from scikit-learn->sklearn) (1.1.0)\n",
            "Requirement already satisfied: scipy>=1.1.0 in /usr/local/lib/python3.7/dist-packages (from scikit-learn->sklearn) (1.4.1)\n",
            "Requirement already satisfied: numpy>=1.14.6 in /usr/local/lib/python3.7/dist-packages (from scikit-learn->sklearn) (1.19.5)\n"
          ]
        }
      ]
    },
    {
      "cell_type": "code",
      "metadata": {
        "colab": {
          "base_uri": "https://localhost:8080/"
        },
        "id": "9ACNoSTsD_xr",
        "outputId": "716fe568-f8f7-4eee-8bbf-3b315ac13cf2"
      },
      "source": [
        "pip install -U scikit-learn"
      ],
      "execution_count": 28,
      "outputs": [
        {
          "output_type": "stream",
          "name": "stdout",
          "text": [
            "Requirement already satisfied: scikit-learn in /usr/local/lib/python3.7/dist-packages (1.0.1)\n",
            "Requirement already satisfied: threadpoolctl>=2.0.0 in /usr/local/lib/python3.7/dist-packages (from scikit-learn) (3.0.0)\n",
            "Requirement already satisfied: joblib>=0.11 in /usr/local/lib/python3.7/dist-packages (from scikit-learn) (1.1.0)\n",
            "Requirement already satisfied: numpy>=1.14.6 in /usr/local/lib/python3.7/dist-packages (from scikit-learn) (1.19.5)\n",
            "Requirement already satisfied: scipy>=1.1.0 in /usr/local/lib/python3.7/dist-packages (from scikit-learn) (1.4.1)\n"
          ]
        }
      ]
    },
    {
      "cell_type": "code",
      "metadata": {
        "colab": {
          "base_uri": "https://localhost:8080/"
        },
        "id": "Lv9tFoAT93gy",
        "outputId": "bbf07b24-ddee-4713-daaa-c1d5f2d1b504"
      },
      "source": [
        "#print(flattened_data.shape)\n",
        "new_size = 3000\n",
        "indices = np.random.choice(flattened_data.shape[0],new_size, replace = False)\n",
        "new_data = flattened_data[indices]\n",
        "#print(new_data.shape)\n",
        "#print(indices.shape,len(np.unique(indices)),np.max(indices),np.min(indices))\n"
      ],
      "execution_count": 11,
      "outputs": [
        {
          "output_type": "stream",
          "name": "stdout",
          "text": [
            "(3000, 784)\n"
          ]
        }
      ]
    },
    {
      "cell_type": "code",
      "metadata": {
        "id": "3teXlnf1xZZF"
      },
      "source": [
        "# implement hierarchical clustering ( you can use scikit module)\n",
        "from sklearn.cluster import AgglomerativeClustering as HCluster\n",
        "from scipy.cluster.hierarchy import dendrogram\n",
        "#euclidean affinity is used as default\n",
        "#reduce data size for faster computation \n",
        "\n",
        "def hierarchical_clustering(thresh,Linkage = \"single\"):\n",
        "  model1 = HCluster(distance_threshold = thresh, n_clusters = None,linkage = Linkage)\n",
        "  model1 = model1.fit(new_data)\n",
        "  print(\"Clustering done\")\n",
        "  print(\"Number of clusters found : {0}\".format(model1.n_clusters_))\n",
        "  plt.title(\"Dendogram\")\n",
        "  dendogram(model1)\n",
        "  return model1\n",
        "\n",
        "\n"
      ],
      "execution_count": 69,
      "outputs": []
    },
    {
      "cell_type": "code",
      "metadata": {
        "id": "wmTODerdxlht"
      },
      "source": [
        "#visualize a dendogram\n",
        "# the code is heavily borrowed from sklearn docs.\n",
        "\n",
        "\n",
        "def dendogram(model,**kwargs):\n",
        "  # create a linkage matrix\n",
        "  # create the counts of samples under each node\n",
        "    counts = np.zeros(model.children_.shape[0]) \n",
        "    n_samples = len(model.labels_) # total number of samples\n",
        "    for i, merge in enumerate(model.children_):\n",
        "        current_count = 0\n",
        "        for child_idx in merge:\n",
        "            if child_idx < n_samples:\n",
        "                current_count += 1  # leaf node\n",
        "            else:\n",
        "                current_count += counts[child_idx - n_samples]\n",
        "        counts[i] = current_count\n",
        "    #final linkage matrix\n",
        "    linkage_matrix = np.column_stack(\n",
        "        [model.children_, model.distances_, counts]\n",
        "    ).astype(float)\n",
        "\n",
        "    # Plot the corresponding dendrogram\n",
        "    dendrogram(linkage_matrix, **kwargs)\n",
        "\n",
        "\n",
        "  "
      ],
      "execution_count": 64,
      "outputs": []
    },
    {
      "cell_type": "code",
      "metadata": {
        "id": "CB6CfLBb8xhL"
      },
      "source": [
        "#visualisation of clusters using single linkage and complete linkage"
      ],
      "execution_count": null,
      "outputs": []
    },
    {
      "cell_type": "code",
      "metadata": {
        "id": "LdmelF-AVlIw"
      },
      "source": [
        "from sklearn.manifold import TSNE\n"
      ],
      "execution_count": 80,
      "outputs": []
    },
    {
      "cell_type": "markdown",
      "metadata": {
        "id": "d-q8WT8rGpdT"
      },
      "source": [
        "Single Linkage Visualization"
      ]
    },
    {
      "cell_type": "code",
      "metadata": {
        "id": "81Sc1vMe5w48",
        "colab": {
          "base_uri": "https://localhost:8080/",
          "height": 318
        },
        "outputId": "838b7dee-6c01-4fbe-f182-2d44dbc5cdbf"
      },
      "source": [
        "import sys\n",
        "sys.setrecursionlimit(10**8)\n",
        "\n",
        "model1 = hierarchical_clustering(2000,Linkage = \"single\")"
      ],
      "execution_count": 78,
      "outputs": [
        {
          "output_type": "stream",
          "name": "stdout",
          "text": [
            "Clustering done\n",
            "Number of clusters found : 23\n"
          ]
        },
        {
          "output_type": "display_data",
          "data": {
            "image/png": "[encoded data removed]",
            "text/plain": [
              "<Figure size 432x288 with 1 Axes>"
            ]
          },
          "metadata": {
            "needs_background": "light"
          }
        }
      ]
    },
    {
      "cell_type": "markdown",
      "metadata": {
        "id": "5tgsd-02Gxw3"
      },
      "source": [
        "Complete Linkage Visualization Using Dendogram"
      ]
    },
    {
      "cell_type": "code",
      "metadata": {
        "colab": {
          "base_uri": "https://localhost:8080/",
          "height": 318
        },
        "id": "A_xY3X_uGtKs",
        "outputId": "c6e20127-683a-432e-c025-889661545c77"
      },
      "source": [
        "model2 = hierarchical_clustering(4000,Linkage = \"complete\")"
      ],
      "execution_count": 92,
      "outputs": [
        {
          "output_type": "stream",
          "name": "stdout",
          "text": [
            "Clustering done\n",
            "Number of clusters found : 10\n"
          ]
        },
        {
          "output_type": "display_data",
          "data": {
            "image/png": "[encoded data removed]",
            "text/plain": [
              "<Figure size 432x288 with 1 Axes>"
            ]
          },
          "metadata": {
            "needs_background": "light"
          }
        }
      ]
    },
    {
      "cell_type": "markdown",
      "metadata": {
        "id": "zhYTSCC-xx4T"
      },
      "source": [
        "**Question**: Explain the procedure to find the optimal number of clusters using dendogram\n",
        "\n",
        "Answer: \n",
        "The way to compute the optimal number of cluster is to look at the maximum vertical distances between the nodes.The optimal number of cluster is the number of vertical lines that you can see in the distance\n",
        "\n",
        "\n"
      ]
    },
    {
      "cell_type": "markdown",
      "metadata": {
        "id": "WU459HN1yYHj"
      },
      "source": [
        "**Question:** Mention the differences observed using single and complete linkage:\n",
        "\n",
        "Answer: One gets more number of cluster for similar distance threshold in Complete Linkage than simple Linkage."
      ]
    },
    {
      "cell_type": "code",
      "metadata": {
        "id": "Ov_ZNPZLfvXh"
      },
      "source": [
        ""
      ],
      "execution_count": null,
      "outputs": []
    }
  ]
}