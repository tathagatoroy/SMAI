{
 "cells": [
  {
   "cell_type": "markdown",
   "metadata": {
    "id": "Q0_wToNFHMN3"
   },
   "source": [
    "# **Decision Trees**\n",
    "\n",
    "The Wisconsin Breast Cancer Dataset(WBCD) can be found here(https://archive.ics.uci.edu/ml/machine-learning-databases/breast-cancer-wisconsin/breast-cancer-wisconsin.data)\n",
    "\n",
    "This dataset describes the characteristics of the cell nuclei of various patients with and without breast cancer. The task is to classify a decision tree to predict if a patient has a benign or a malignant tumour based on these features.\n",
    "\n",
    "Attribute Information:\n",
    "```\n",
    "#  Attribute                     Domain\n",
    "   -- -----------------------------------------\n",
    "   1. Sample code number            id number\n",
    "   2. Clump Thickness               1 - 10\n",
    "   3. Uniformity of Cell Size       1 - 10\n",
    "   4. Uniformity of Cell Shape      1 - 10\n",
    "   5. Marginal Adhesion             1 - 10\n",
    "   6. Single Epithelial Cell Size   1 - 10\n",
    "   7. Bare Nuclei                   1 - 10\n",
    "   8. Bland Chromatin               1 - 10\n",
    "   9. Normal Nucleoli               1 - 10\n",
    "  10. Mitoses                       1 - 10\n",
    "  11. Class:                        (2 for benign, 4 for malignant)\n",
    "```"
   ]
  },
  {
   "cell_type": "code",
   "execution_count": 1,
   "metadata": {
    "id": "qYdlWpUVHMOB"
   },
   "outputs": [
    {
     "data": {
      "text/html": [
       "<div>\n",
       "<style scoped>\n",
       "    .dataframe tbody tr th:only-of-type {\n",
       "        vertical-align: middle;\n",
       "    }\n",
       "\n",
       "    .dataframe tbody tr th {\n",
       "        vertical-align: top;\n",
       "    }\n",
       "\n",
       "    .dataframe thead th {\n",
       "        text-align: right;\n",
       "    }\n",
       "</style>\n",
       "<table border=\"1\" class=\"dataframe\">\n",
       "  <thead>\n",
       "    <tr style=\"text-align: right;\">\n",
       "      <th></th>\n",
       "      <th>CT</th>\n",
       "      <th>UCSize</th>\n",
       "      <th>UCShape</th>\n",
       "      <th>MA</th>\n",
       "      <th>SECSize</th>\n",
       "      <th>BN</th>\n",
       "      <th>BC</th>\n",
       "      <th>NN</th>\n",
       "      <th>Mitoses</th>\n",
       "      <th>Diagnosis</th>\n",
       "    </tr>\n",
       "  </thead>\n",
       "  <tbody>\n",
       "    <tr>\n",
       "      <th>count</th>\n",
       "      <td>699.000000</td>\n",
       "      <td>699.000000</td>\n",
       "      <td>699.000000</td>\n",
       "      <td>699.000000</td>\n",
       "      <td>699.000000</td>\n",
       "      <td>699.000000</td>\n",
       "      <td>699.000000</td>\n",
       "      <td>699.000000</td>\n",
       "      <td>699.000000</td>\n",
       "      <td>699.000000</td>\n",
       "    </tr>\n",
       "    <tr>\n",
       "      <th>mean</th>\n",
       "      <td>4.417740</td>\n",
       "      <td>3.134478</td>\n",
       "      <td>3.207439</td>\n",
       "      <td>2.806867</td>\n",
       "      <td>3.216023</td>\n",
       "      <td>3.463519</td>\n",
       "      <td>3.437768</td>\n",
       "      <td>2.866953</td>\n",
       "      <td>1.589413</td>\n",
       "      <td>2.689557</td>\n",
       "    </tr>\n",
       "    <tr>\n",
       "      <th>std</th>\n",
       "      <td>2.815741</td>\n",
       "      <td>3.051459</td>\n",
       "      <td>2.971913</td>\n",
       "      <td>2.855379</td>\n",
       "      <td>2.214300</td>\n",
       "      <td>3.640708</td>\n",
       "      <td>2.438364</td>\n",
       "      <td>3.053634</td>\n",
       "      <td>1.715078</td>\n",
       "      <td>0.951273</td>\n",
       "    </tr>\n",
       "    <tr>\n",
       "      <th>min</th>\n",
       "      <td>1.000000</td>\n",
       "      <td>1.000000</td>\n",
       "      <td>1.000000</td>\n",
       "      <td>1.000000</td>\n",
       "      <td>1.000000</td>\n",
       "      <td>0.000000</td>\n",
       "      <td>1.000000</td>\n",
       "      <td>1.000000</td>\n",
       "      <td>1.000000</td>\n",
       "      <td>2.000000</td>\n",
       "    </tr>\n",
       "    <tr>\n",
       "      <th>25%</th>\n",
       "      <td>2.000000</td>\n",
       "      <td>1.000000</td>\n",
       "      <td>1.000000</td>\n",
       "      <td>1.000000</td>\n",
       "      <td>2.000000</td>\n",
       "      <td>1.000000</td>\n",
       "      <td>2.000000</td>\n",
       "      <td>1.000000</td>\n",
       "      <td>1.000000</td>\n",
       "      <td>2.000000</td>\n",
       "    </tr>\n",
       "    <tr>\n",
       "      <th>50%</th>\n",
       "      <td>4.000000</td>\n",
       "      <td>1.000000</td>\n",
       "      <td>1.000000</td>\n",
       "      <td>1.000000</td>\n",
       "      <td>2.000000</td>\n",
       "      <td>1.000000</td>\n",
       "      <td>3.000000</td>\n",
       "      <td>1.000000</td>\n",
       "      <td>1.000000</td>\n",
       "      <td>2.000000</td>\n",
       "    </tr>\n",
       "    <tr>\n",
       "      <th>75%</th>\n",
       "      <td>6.000000</td>\n",
       "      <td>5.000000</td>\n",
       "      <td>5.000000</td>\n",
       "      <td>4.000000</td>\n",
       "      <td>4.000000</td>\n",
       "      <td>5.000000</td>\n",
       "      <td>5.000000</td>\n",
       "      <td>4.000000</td>\n",
       "      <td>1.000000</td>\n",
       "      <td>4.000000</td>\n",
       "    </tr>\n",
       "    <tr>\n",
       "      <th>max</th>\n",
       "      <td>10.000000</td>\n",
       "      <td>10.000000</td>\n",
       "      <td>10.000000</td>\n",
       "      <td>10.000000</td>\n",
       "      <td>10.000000</td>\n",
       "      <td>10.000000</td>\n",
       "      <td>10.000000</td>\n",
       "      <td>10.000000</td>\n",
       "      <td>10.000000</td>\n",
       "      <td>4.000000</td>\n",
       "    </tr>\n",
       "  </tbody>\n",
       "</table>\n",
       "</div>"
      ],
      "text/plain": [
       "               CT      UCSize     UCShape          MA     SECSize          BN  \\\n",
       "count  699.000000  699.000000  699.000000  699.000000  699.000000  699.000000   \n",
       "mean     4.417740    3.134478    3.207439    2.806867    3.216023    3.463519   \n",
       "std      2.815741    3.051459    2.971913    2.855379    2.214300    3.640708   \n",
       "min      1.000000    1.000000    1.000000    1.000000    1.000000    0.000000   \n",
       "25%      2.000000    1.000000    1.000000    1.000000    2.000000    1.000000   \n",
       "50%      4.000000    1.000000    1.000000    1.000000    2.000000    1.000000   \n",
       "75%      6.000000    5.000000    5.000000    4.000000    4.000000    5.000000   \n",
       "max     10.000000   10.000000   10.000000   10.000000   10.000000   10.000000   \n",
       "\n",
       "               BC          NN     Mitoses   Diagnosis  \n",
       "count  699.000000  699.000000  699.000000  699.000000  \n",
       "mean     3.437768    2.866953    1.589413    2.689557  \n",
       "std      2.438364    3.053634    1.715078    0.951273  \n",
       "min      1.000000    1.000000    1.000000    2.000000  \n",
       "25%      2.000000    1.000000    1.000000    2.000000  \n",
       "50%      3.000000    1.000000    1.000000    2.000000  \n",
       "75%      5.000000    4.000000    1.000000    4.000000  \n",
       "max     10.000000   10.000000   10.000000    4.000000  "
      ]
     },
     "execution_count": 1,
     "metadata": {},
     "output_type": "execute_result"
    }
   ],
   "source": [
    "import pandas as pd\n",
    "headers = [\"ID\",\"CT\",\"UCSize\",\"UCShape\",\"MA\",\"SECSize\",\"BN\",\"BC\",\"NN\",\"Mitoses\",\"Diagnosis\"]\n",
    "data = pd.read_csv('./data/breast-cancer-wisconsin.data', na_values='?',    \n",
    "         header=None, index_col=['ID'], names = headers) \n",
    "data = data.reset_index(drop=True)\n",
    "data = data.fillna(0)\n",
    "data.describe()"
   ]
  },
  {
   "cell_type": "code",
   "execution_count": 28,
   "metadata": {},
   "outputs": [
    {
     "name": "stdout",
     "output_type": "stream",
     "text": [
      "(699, 9)\n"
     ]
    }
   ],
   "source": [
    "\n",
    "print(data.loc[:698,data.columns != \"Diagnosis\"].shape)"
   ]
  },
  {
   "cell_type": "code",
   "execution_count": 36,
   "metadata": {},
   "outputs": [
    {
     "name": "stdout",
     "output_type": "stream",
     "text": [
      "(600, 9)\n",
      "(99,)\n",
      "(99, 9)\n",
      "(99,)\n"
     ]
    }
   ],
   "source": [
    "train_X  = data.loc[:599,data.columns != \"Diagnosis\"]\n",
    "train_Y  = data.loc[:599:,\"Diagnosis\"]\n",
    "test_X = data.loc[600 :,data.columns != \"Diagnosis\"]\n",
    "test_Y = data.loc[600 :,\"Diagnosis\"]\n",
    "print(train_X.shape)\n",
    "print(test_Y.shape)\n",
    "print(test_X.shape)\n",
    "print(test_Y.shape)"
   ]
  },
  {
   "cell_type": "markdown",
   "metadata": {
    "id": "x_gQq5qrHMOG"
   },
   "source": [
    "1. a) Implement a decision tree (you can use decision tree implementation from existing libraries)."
   ]
  },
  {
   "cell_type": "code",
   "execution_count": 40,
   "metadata": {
    "id": "g6R3GmzBHMOH"
   },
   "outputs": [],
   "source": [
    "from sklearn.model_selection import cross_val_score\n",
    "from sklearn.metrics import accuracy_score\n",
    "from sklearn.tree import DecisionTreeClassifier\n",
    "tree_gini = DecisionTreeClassifier(criterion = \"gini\",random_state=0)\n",
    "tree_entropy = DecisionTreeClassifier(criterion = \"entropy\",random_state=0)"
   ]
  },
  {
   "cell_type": "markdown",
   "metadata": {
    "id": "VZ7N9m_mHMOJ"
   },
   "source": [
    "1. b) Train a decision tree object of the above class on the WBC dataset using misclassification rate, entropy and Gini as the splitting metrics."
   ]
  },
  {
   "cell_type": "code",
   "execution_count": 41,
   "metadata": {
    "id": "eHFij6PaHMOJ"
   },
   "outputs": [
    {
     "name": "stdout",
     "output_type": "stream",
     "text": [
      "Time to train gini Tree : 0.014591455459594727 and entropy Tree : 0.009618043899536133\n"
     ]
    }
   ],
   "source": [
    "import time\n",
    "t1 = time.time()\n",
    "tree_gini.fit(train_X,train_Y)\n",
    "t2 = time.time()\n",
    "tree_entropy.fit(train_X,train_Y)\n",
    "t3 = time.time()\n",
    "print(\"Time to train gini Tree : {0} and entropy Tree : {1}\".format(t2 - t1,t3 - t2))"
   ]
  },
  {
   "cell_type": "markdown",
   "metadata": {
    "id": "eXEjInvmHMOK"
   },
   "source": [
    "1. c) Report the accuracies in each of the above splitting metrics and give the best result. "
   ]
  },
  {
   "cell_type": "code",
   "execution_count": 45,
   "metadata": {
    "id": "49QZvmgNHMOL"
   },
   "outputs": [
    {
     "name": "stdout",
     "output_type": "stream",
     "text": [
      "Train Accuracy for gini:  1.0\n",
      "Train Accuracy for entropy:  1.0\n",
      "Test Accuracy for gini:  0.9696969696969697\n",
      "Test Accuracy for entropy:  0.9595959595959596\n"
     ]
    }
   ],
   "source": [
    "print(\"Train Accuracy for gini: \",accuracy_score(tree_gini.predict(train_X), train_Y))\n",
    "print(\"Train Accuracy for entropy: \",accuracy_score(tree_entropy.predict(train_X),train_Y))\n",
    "print(\"Test Accuracy for gini: \",accuracy_score(tree_gini.predict(test_X), test_Y))\n",
    "print(\"Test Accuracy for entropy: \",accuracy_score(tree_entropy.predict(test_X),test_Y))\n"
   ]
  },
  {
   "cell_type": "markdown",
   "metadata": {},
   "source": [
    "Gini gives slightly better results"
   ]
  },
  {
   "cell_type": "markdown",
   "metadata": {
    "id": "Bz_7nYxPHMON"
   },
   "source": [
    "1. d) Experiment with different approaches to decide when to terminate the tree (number of layers, purity measure, etc). Report and give explanations for all approaches. "
   ]
  },
  {
   "cell_type": "code",
   "execution_count": 51,
   "metadata": {
    "id": "yLRI0niJHMOP"
   },
   "outputs": [
    {
     "name": "stdout",
     "output_type": "stream",
     "text": [
      "Maximum Depth : 2\n",
      "Train Accuracy for gini:  0.9483333333333334\n",
      "Train Accuracy for entropy:  0.9183333333333333\n",
      "Test Accuracy for gini:  0.9595959595959596\n",
      "Test Accuracy for entropy:  0.9595959595959596\n",
      "Maximum Depth : 3\n",
      "Train Accuracy for gini:  0.9583333333333334\n",
      "Train Accuracy for entropy:  0.9616666666666667\n",
      "Test Accuracy for gini:  0.9595959595959596\n",
      "Test Accuracy for entropy:  0.9393939393939394\n",
      "Maximum Depth : 4\n",
      "Train Accuracy for gini:  0.9733333333333334\n",
      "Train Accuracy for entropy:  0.9683333333333334\n",
      "Test Accuracy for gini:  0.9696969696969697\n",
      "Test Accuracy for entropy:  0.9797979797979798\n",
      "Maximum Depth : 5\n",
      "Train Accuracy for gini:  0.975\n",
      "Train Accuracy for entropy:  0.9766666666666667\n",
      "Test Accuracy for gini:  0.9696969696969697\n",
      "Test Accuracy for entropy:  0.9797979797979798\n",
      "Maximum Depth : 6\n",
      "Train Accuracy for gini:  0.9866666666666667\n",
      "Train Accuracy for entropy:  0.9833333333333333\n",
      "Test Accuracy for gini:  0.9696969696969697\n",
      "Test Accuracy for entropy:  0.9797979797979798\n",
      "Maximum Depth : 7\n",
      "Train Accuracy for gini:  0.9916666666666667\n",
      "Train Accuracy for entropy:  0.9933333333333333\n",
      "Test Accuracy for gini:  0.9595959595959596\n",
      "Test Accuracy for entropy:  0.9595959595959596\n",
      "Maximum Depth : 8\n",
      "Train Accuracy for gini:  0.9983333333333333\n",
      "Train Accuracy for entropy:  0.9966666666666667\n",
      "Test Accuracy for gini:  0.9696969696969697\n",
      "Test Accuracy for entropy:  0.9696969696969697\n",
      "Maximum Depth : 9\n",
      "Train Accuracy for gini:  0.9983333333333333\n",
      "Train Accuracy for entropy:  1.0\n",
      "Test Accuracy for gini:  0.9797979797979798\n",
      "Test Accuracy for entropy:  0.9595959595959596\n",
      "Maximum Depth : 10\n",
      "Train Accuracy for gini:  1.0\n",
      "Train Accuracy for entropy:  1.0\n",
      "Test Accuracy for gini:  0.9696969696969697\n",
      "Test Accuracy for entropy:  0.9595959595959596\n",
      "Maximum Depth : 11\n",
      "Train Accuracy for gini:  1.0\n",
      "Train Accuracy for entropy:  1.0\n",
      "Test Accuracy for gini:  0.9595959595959596\n",
      "Test Accuracy for entropy:  0.9595959595959596\n",
      "Maximum Depth : 12\n",
      "Train Accuracy for gini:  1.0\n",
      "Train Accuracy for entropy:  1.0\n",
      "Test Accuracy for gini:  0.9595959595959596\n",
      "Test Accuracy for entropy:  0.9696969696969697\n",
      "Maximum Depth : 13\n",
      "Train Accuracy for gini:  1.0\n",
      "Train Accuracy for entropy:  1.0\n",
      "Test Accuracy for gini:  0.9696969696969697\n",
      "Test Accuracy for entropy:  0.9797979797979798\n",
      "Maximum Depth : 14\n",
      "Train Accuracy for gini:  1.0\n",
      "Train Accuracy for entropy:  1.0\n",
      "Test Accuracy for gini:  0.9696969696969697\n",
      "Test Accuracy for entropy:  0.9595959595959596\n"
     ]
    }
   ],
   "source": [
    "#Number of Layes \n",
    "depth = [i for i in range(2,15)]\n",
    "entropy_test = []\n",
    "gini_test = []\n",
    "gini_train = []\n",
    "entropy_train = []\n",
    "\n",
    "for d in depth:\n",
    "    new_tree_entropy = DecisionTreeClassifier(criterion=\"entropy\",max_depth=d)\n",
    "    new_tree_gini = DecisionTreeClassifier(criterion=\"gini\",max_depth=d)\n",
    "    new_tree_entropy.fit(train_X,train_Y)\n",
    "    new_tree_gini.fit(train_X,train_Y)\n",
    "    etest = accuracy_score(new_tree_entropy.predict(test_X),test_Y)\n",
    "    gtest = accuracy_score(new_tree_gini.predict(test_X),test_Y)\n",
    "    etrain = accuracy_score(new_tree_entropy.predict(train_X),train_Y)\n",
    "    gtrain = accuracy_score(new_tree_gini.predict(train_X), train_Y)\n",
    "    print(\"Maximum Depth : {0}\".format(d))\n",
    "    print(\"Train Accuracy for gini: \",gtrain)\n",
    "    print(\"Train Accuracy for entropy: \",etrain)\n",
    "    print(\"Test Accuracy for gini: \",gtest)\n",
    "    print(\"Test Accuracy for entropy: \",etest)\n",
    "    entropy_test.append(etest)\n",
    "    entropy_train.append(etrain)\n",
    "    gini_test.append(gtest)\n",
    "    gini_train.append(gtrain)\n",
    "\n",
    "            \n",
    "\n",
    "\n",
    "    \n",
    "\n",
    "    \n",
    "\n",
    "    \n"
   ]
  },
  {
   "cell_type": "code",
   "execution_count": 53,
   "metadata": {},
   "outputs": [
    {
     "data": {
      "text/plain": [
       "<matplotlib.legend.Legend at 0x7fab77c3dd90>"
      ]
     },
     "execution_count": 53,
     "metadata": {},
     "output_type": "execute_result"
    },
    {
     "data": {
      "image/png": "[encoded data removed]",
      "text/plain": [
       "<Figure size 432x288 with 1 Axes>"
      ]
     },
     "metadata": {
      "needs_background": "light"
     },
     "output_type": "display_data"
    }
   ],
   "source": [
    "import matplotlib.pyplot as plt\n",
    "plt.plot(depth,entropy_test,'g--',label = \"Test Accuracy of Tree using Gini\")\n",
    "plt.plot(depth,gini_test,'b--',label = \"Test Accuracy of Tree using Entropy\")\n",
    "plt.title(\"Test Accuracy vs Max Depth\")\n",
    "plt.xlabel(\"Maximum Depth\")\n",
    "plt.ylabel(\"Accuracy\")\n",
    "plt.legend()"
   ]
  },
  {
   "cell_type": "markdown",
   "metadata": {},
   "source": [
    "Depth 9 is optimal for using Entropy.While 4-5 depth is the optimal range when using Gini."
   ]
  },
  {
   "cell_type": "code",
   "execution_count": 58,
   "metadata": {},
   "outputs": [
    {
     "name": "stdout",
     "output_type": "stream",
     "text": [
      "Test Accuracy for entropy:  0.9494949494949495\n",
      "Test Accuracy for entropy:  0.9797979797979798\n",
      "Test Accuracy for entropy:  0.9797979797979798\n",
      "Test Accuracy for entropy:  0.9393939393939394\n",
      "Test Accuracy for entropy:  0.9595959595959596\n",
      "Test Accuracy for entropy:  0.9595959595959596\n",
      "Test Accuracy for entropy:  0.9595959595959596\n",
      "Test Accuracy for entropy:  0.9595959595959596\n",
      "Test Accuracy for entropy:  0.7878787878787878\n",
      "Test Accuracy for entropy:  0.7878787878787878\n",
      "[0.9494949494949495, 0.9797979797979798, 0.9797979797979798, 0.9393939393939394, 0.9595959595959596, 0.9595959595959596, 0.9595959595959596, 0.9595959595959596, 0.7878787878787878, 0.7878787878787878]\n",
      "[0.001, 0.005, 0.01, 0.02, 0.04, 0.05, 0.1, 0.5, 1, 2]\n"
     ]
    },
    {
     "data": {
      "text/plain": [
       "<matplotlib.legend.Legend at 0x7fab77a95220>"
      ]
     },
     "execution_count": 58,
     "metadata": {},
     "output_type": "execute_result"
    },
    {
     "data": {
      "image/png": "[encoded data removed]",
      "text/plain": [
       "<Figure size 432x288 with 1 Axes>"
      ]
     },
     "metadata": {
      "needs_background": "light"
     },
     "output_type": "display_data"
    }
   ],
   "source": [
    "#using impurity to stop\n",
    "impurity_val = [0.001,0.005,0.01,0.02,0.04,0.05,0.1,0.5,1,2]\n",
    "test_acc = []\n",
    "for impurity in impurity_val:\n",
    "    new_tree = DecisionTreeClassifier(criterion=\"entropy\",min_impurity_decrease= impurity)\n",
    "    new_tree.fit(train_X,train_Y)\n",
    "    etest = accuracy_score(new_tree.predict(test_X),test_Y)\n",
    "    print(\"Test Accuracy for entropy: \",etest)\n",
    "    test_acc.append(etest)\n",
    "\n",
    "print(test_acc)\n",
    "print(impurity_val)\n",
    "plt.plot(impurity_val,test_acc,label = \"Test Accuracy\")\n",
    "plt.xlabel(\"Max Inpurity\")\n",
    "plt.ylabel(\"Accuracy\")\n",
    "plt.legend()\n",
    "\n",
    "\n",
    "    \n",
    "    "
   ]
  },
  {
   "cell_type": "markdown",
   "metadata": {},
   "source": [
    "Best Value for min_impurity change is 0.005 and 0.01 which gives 97 % Accuracy"
   ]
  },
  {
   "cell_type": "markdown",
   "metadata": {
    "id": "uWAN_wWXHMOQ"
   },
   "source": [
    "2. What is boosting, bagging and  stacking?\n",
    "Which class does random forests belong to and why?"
   ]
  },
  {
   "cell_type": "markdown",
   "metadata": {
    "id": "LnO5uqHlHMOR"
   },
   "source": [
    "Answer:\n",
    "Boosting , bagging and stacking are different methods to perform ensembling.The key idea behind ensembling is that while one model can be prone to biases,or high variance,combining a x number of model together to arrive at  a decision gives a more robust and more accurate performance\n",
    "\n",
    "Bagging : In bagging a multiple editions of training data is created with typically the same size of original training data.This is done by allowing repetitions of data points in each set.Then a model typically of the same type(Homogenous) is trained for eachs set of the created training edition.Finally decisions are taken by some sort of deterministic voting mechanism.This prevents Variance as each model is dependent on the training data,but together they can come to a more reasonable and more robust outcomes.\n",
    "\n",
    "Boosting :Boosting in contrast to Bagging focusses more on reducing bias although it can decrease variances as well.In Boosting the constituent models are not trained independently of each other,the model at any point is trained with a special focus on data points which are misclassified uptil that point.Hence models are dependent on the base models.\n",
    "\n",
    "Stacking : In stacking multiple model is trained on the data independently ,but unlike other methods they are combined by using another \"meta model\" which learns how to weight the weaker model's output for each data point.Essentially the meta model learns which model are accurate for which data points.\n",
    "\n",
    "Random Forest is a Bagging Method."
   ]
  },
  {
   "cell_type": "markdown",
   "metadata": {
    "id": "pihvGbqLHMOS"
   },
   "source": [
    "3. Implement random forest algorithm using different decision trees . "
   ]
  },
  {
   "cell_type": "code",
   "execution_count": 80,
   "metadata": {
    "id": "dXdPP2aIHMOT"
   },
   "outputs": [],
   "source": [
    "class Random_Forest:\n",
    "    def __init__(self,n_trees = 50, n_features = 2 , max_depth = 10, min_size = 2,criterion = \"gini\"):\n",
    "        self.n_features = n_features\n",
    "        self.n_trees = n_trees\n",
    "        self.max_depth = max_depth\n",
    "        self.min_size = min_size\n",
    "        self.criterion = \"gini\"\n",
    "        self.model = []\n",
    "    def train(self,test_X,test_Y):\n",
    "        for i in range(self.n_trees):\n",
    "            cur_tree =  DecisionTreeClassifier(criterion = self.criterion,max_depth = self.max_depth, min_samples_split = self.min_size,\n",
    "                                         max_features = self.n_features)\n",
    "            cur_tree.fit(train_X,train_Y)\n",
    "            self.model.append(cur_tree)\n",
    "    \n",
    "    def predict(self,test_X):\n",
    "        votes = [{} for i in range(test_X.shape[0])]\n",
    "        max_vote = [0 for i in range(test_X.shape[0])]\n",
    "        max_label = [-1 for i in range(test_X.shape[0])]\n",
    "        sz = len(votes)\n",
    "        for i in range(self.n_trees):\n",
    "            pred = self.model[i].predict(test_X)\n",
    "            for j in range(sz):\n",
    "                if pred[j] in votes[j].keys():\n",
    "                    votes[j][pred[j]] += 1\n",
    "                else:\n",
    "                    votes[j][pred[j]] = 1\n",
    "                if votes[j][pred[j]] > max_vote[j]:\n",
    "                    max_vote[j] = votes[j][pred[j]]\n",
    "                    max_label[j] = pred[j]\n",
    "        return max_label\n",
    "            \n",
    "        \n"
   ]
  },
  {
   "cell_type": "code",
   "execution_count": 89,
   "metadata": {},
   "outputs": [
    {
     "name": "stdout",
     "output_type": "stream",
     "text": [
      "Time taken for training : 0.3517577648162842\n"
     ]
    }
   ],
   "source": [
    "model = Random_Forest(n_trees = 100, n_features = 2 , max_depth = 6, min_size = 2,criterion = \"entropy\")\n",
    "t1 = time.time()\n",
    "model.train(train_X,train_Y)\n",
    "t2 = time.time()\n",
    "print(\"Time taken for training : {0}\".format(t2 - t1))\n",
    "#print(test_X[1])\n",
    "#print(model.predict(test_X[1]))\n",
    "#results = [model.predict(data) for data in test_X]\n",
    "#accuracy_score = accuracy_score(results,test_Y)"
   ]
  },
  {
   "cell_type": "code",
   "execution_count": 90,
   "metadata": {},
   "outputs": [
    {
     "name": "stdout",
     "output_type": "stream",
     "text": [
      "The Accuracy Score is 0.98989898989899\n"
     ]
    }
   ],
   "source": [
    "print(\"The Accuracy Score is {0}\".format(accuracy_score(model.predict(test_X),test_Y)))"
   ]
  },
  {
   "cell_type": "markdown",
   "metadata": {
    "id": "zJOn5nNZHMOU"
   },
   "source": [
    "4. Report the accuracies obtained after using the Random forest algorithm and compare it with the best accuracies obtained with the decision trees. "
   ]
  },
  {
   "cell_type": "markdown",
   "metadata": {},
   "source": [
    "As can be seen above the Random Forest gives the highest scored seen till now of 0.989898 of roughly 99% accuracy"
   ]
  },
  {
   "cell_type": "code",
   "execution_count": null,
   "metadata": {
    "id": "Ce4KiiIGHMOV"
   },
   "outputs": [],
   "source": []
  },
  {
   "cell_type": "markdown",
   "metadata": {
    "id": "yj-vNvsYHMOX"
   },
   "source": [
    "5. Submit your solution as a separate pdf in the final zip file of your submission\n",
    "\n",
    "\n",
    "Compute a decision tree with the goal to predict the food review based on its smell, taste and portion size.\n",
    "\n",
    "(a) Compute the entropy of each rule in the first stage.\n",
    "\n",
    "(b) Show the final decision tree. Clearly draw it.\n",
    "\n",
    "Submit a handwritten response. Clearly show all the steps.\n",
    "\n"
   ]
  }
 ],
 "metadata": {
  "colab": {
   "name": "Decision_trees.ipynb",
   "provenance": []
  },
  "interpreter": {
   "hash": "1f8d80d535cfd832283e4e3a1095d2ce45fe6627336684f2622a1965babb2f1c"
  },
  "kernelspec": {
   "display_name": "Python 3",
   "language": "python",
   "name": "python3"
  },
  "language_info": {
   "codemirror_mode": {
    "name": "ipython",
    "version": 3
   },
   "file_extension": ".py",
   "mimetype": "text/x-python",
   "name": "python",
   "nbconvert_exporter": "python",
   "pygments_lexer": "ipython3",
   "version": "3.9.4"
  }
 },
 "nbformat": 4,
 "nbformat_minor": 1
}
