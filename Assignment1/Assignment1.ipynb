{
 "cells": [
  {
   "cell_type": "markdown",
   "id": "0e6862e2",
   "metadata": {},
   "source": [
    "<h1>Course : Statistical Methods in Artificial Intelligence </h1>\n",
    "<p><h2>Assignment 1 : Random Variables and Density Functions</h2>\n",
    "<h3>Tathagato Roy(2019111020)</h3></p>"
   ]
  },
  {
   "cell_type": "markdown",
   "id": "06c09330",
   "metadata": {},
   "source": [
    "## Q1"
   ]
  },
  {
   "cell_type": "markdown",
   "id": "1ba32742",
   "metadata": {},
   "source": [
    "Consider the Experiment where you toss a coin N times.Let X be a random variable such that it indicates the number \n",
    "the number of heads in those N coin toss.\n",
    "The Range of the Random Variable X is given by by the set S : \n",
    "\n",
    "$S = \\{0, 1, 2, 3, \\dots N\\}\\ $  \n",
    "$|S| = N + 1 $\n",
    "\n",
    "\n",
    "Hence the range of the Random Variable is Finite.  \n",
    "Now the Probability Mass Function of the above Binomial Random Variable is given by :  \n",
    "$$Pr[X = x] = P(x) = {N\\choose x} p^x(1-p)^{(N-x)}$$&emsp; where p is the probability of getting heads in a single trial<br>\n",
    "\n",
    "1.To Prove : $$ P(x) \\geqslant 0 \\: \\forall x \\in S $$ </pre><br>\n",
    " We have $$ {N\\choose x } \\geqslant 0 \\: \\textrm{ By definition of Binomial Coefficients } $$<br>\n",
    " We also have $$ 0 \\leqslant p \\leqslant 1 \\: \\textrm{Definition of Probability} $$<br>\n",
    " $$ \\implies 0 \\leqslant p^x \\leqslant 1 \\: \\forall x \\in S $$ <br>\n",
    " $$ \\implies 0 \\leqslant (1-p) \\leqslant 1 \\: $$ <br>\n",
    " $$ \\implies 0 \\leqslant (1-p)^x \\leqslant 1 \\: \\forall x \\in S $$ <br>\n",
    " <br>\n",
    " Hence we get $$ P(x) \\geqslant 0  $$<br>\n",
    " Hence proved<br>\n",
    " <br>\n",
    " <br>\n",
    "2.To prove : $$ \\sum_{x \\in S}P(x) = 1 $$<br>\n",
    "  From Binomial Theorem $$ (a + b)^N = \\sum_{k = 0}^{k = N}{{N\\choose k}a^kb^{N-k}} $$<br>\n",
    "  $$\\text{Let} \\: \\: a = p \\: \\: \\text{and} \\: \\: b = (1-p) \\: \\:\\text{and} \\:\\: k = x $$<br>\n",
    "  $$ \\implies (1)^N = \\sum_{x = 0}^{x = N}{{N\\choose x}p^x(1-p)^{N-x}} $$<br>\n",
    "  $$ \\implies 1 = \\sum_{x \\in S}P(x) $$ <br>\n",
    "  Hence Proved\n",
    "  <br>\n",
    "  <br>\n",
    " \n",
    " \n",
    " Consider a Experiment where we keep on flipping a coin till we get Head,where probability of a head in any trial is given independently of other trials to be p.Let Y be a random variable which denote the number of coins tosses that we had to perform before we got head.\n",
    " The set of Natural Whole Numbers W is the range of the Random Variable Y.W is obviously a non-finite set.\n",
    " Y is a geometric Random Variable.\n",
    " The probability Mass function of Y is given by :  \n",
    " $$ Pr[Y = y] = P(y) = (1-p)^{y}p $$<br>\n",
    " \n",
    " 1.To Prove : $$P(y) \\geqslant 0 \\: \\forall x \\in W $$<br>\n",
    " We know from earlier <br>\n",
    " $$ 0 \\leqslant (1-p)^y \\leqslant 1 \\: \\forall y \\in W $$<br>\n",
    " $$ 0 \\leqslant p \\leqslant 1 $$<br>\n",
    " $$\\implies 0 \\leqslant (1-p)^{y}p \\leqslant 1 \\: \\forall y \\in W \\textrm{Product of two non-negative numbers is non-negative} $$<br>\n",
    " Hence proved<br>\n",
    " \n",
    " 2.To Prove: $$ \\sum_{y \\in W} P(y) = 0 $$<br>\n",
    " $$ \\sum_{y \\in W}P(y) = \\sum_{y = 0}^{y = \\infty} p(1-p)^y \\: \\textrm{This is an infinite GP series with r = (1-p) and} \\: \\: a_0 = p$$<br> \n",
    " $$ \\implies \\sum_{y \\in W}P(y) = \\frac{p}{1-(1-p)} \\: \\: \\textrm{The sum of infinite GP series is given by} \\frac{a_0}{1-r} $$<br>\n",
    " $$ \\implies \\sum_{y \\in W}P(y) = \\frac{p}{p} $$ <br>\n",
    " $$ \\implies \\sum_{y \\in W}P(y) = 1 $$<br>\n",
    " Hence Proved\n",
    " \n",
    " \n",
    " \n",
    " \n",
    "\n"
   ]
  },
  {
   "cell_type": "markdown",
   "id": "89b9f90e",
   "metadata": {},
   "source": [
    "## Q2"
   ]
  },
  {
   "cell_type": "markdown",
   "id": "de5b3ce6",
   "metadata": {},
   "source": [
    "Let the X be a Uniform Random Variable in the range [a,b].<br>\n",
    "Let the PDF of X be given by : <br>\n",
    "\n",
    "   \n",
    "f(x) = \n",
    "     \\begin{cases}\n",
    "        \\frac{1}{b-a} \\:\\:\\: a \\leqslant x \\leqslant b \\\\\n",
    "         0  \\:\\:\\: \\text{Otherwise}\n",
    "     \\end{cases}\n",
    "     \n",
    "<br>\n",
    "To Prove :\n",
    "$$ \\sigma^2 = \\frac{b-a}{12} $$<br>\n",
    "Variance is given by :<br>\n",
    "$$ \\sigma^2 = \\int_{-\\infty}^{\\infty}{f(x)({x-\\mu})^2}dx \\: \\: \\text{where} \\: \\mu \\:\\text{is the Expectation}$$<br>\n",
    "$$ \\implies \\sigma^2 = \\int_{-\\infty}^{a}{f(x)({x-\\mu})^2}dx \\: \\: + \\:\\: \\int_{a}^{b}{f(x)({x-\\mu})^2}dx \\:\\: + \\:\\: \\int_{b}^{\\infty}{f(x)({x-\\mu})^2}dx $$<br>\n",
    "$$ \\implies \\sigma^2 = \\int_{-\\infty}^{a}{0({x-\\mu})^2}dx \\: \\: + \\:\\: \\int_{a}^{b}{\\frac{1}{b-a}({x-\\mu})^2}dx \\:\\: + \\:\\: \\int_{b}^{\\infty}{0({x-\\mu})^2}dx $$<br>\n",
    "$$ \\implies \\sigma^2 = \\int_{a}^{b}\\frac{1}{b-a}(x - \\mu)^2dx $$<br>\n",
    "<br>\n",
    "We know : $$ \\mu = \\int_{-\\infty}^{\\infty}f(x)xdx $$ <br>\n",
    "$$ \\implies \\mu = \\int_{-\\infty}^{a}f(x)xdx \\: + \\: \\int_{a}{b}f(x)xdx \\: + \\: \\int_{b}^{\\infty}f(x)xdx $$<br>\n",
    "$$ \\implies \\mu  = \\int_{-\\infty}^{a}0xdx \\: + \\: \\int_{a}{b}\\frac{1}{b-a}xdx \\: + \\: \\int_{b}^{\\infty}0xdx $$<br>\n",
    "$$ \\implies \\mu = \\int_{a}^{b}\\frac{1}{b-a}xdx $$<br>\n",
    "$$ \\implies \\mu = \\frac{x^2}{2(b-a)}\\Big|_a^b \\ $$<br>\n",
    "$$ \\implies \\mu = \\frac{b^2 -a^2}{2(b-a)} $$<br>\n",
    "$$ \\implies \\mu = \\frac{(b-a)(b+a)}{2(b-a)} $$<br>\n",
    "$$ \\implies \\mu = \\frac{b+a}{2} $$ <br>\n",
    "\n",
    "<br>\n",
    "\n",
    "Using the above we results we get : <br>\n",
    "$$ \\sigma^2 = \\int_{a}^{b}{\\frac{1}{b-a}({x-\\frac{b+a}{2}})^2}dx $$<br>\n",
    "$$ \\implies \\sigma^2 = \\int_{a}^{b}\\frac{x^2}{b-a}dx \\:\\: - \\:\\: \\int_{a}^{b}\\frac{(b+a)x}{b-a}dx \\:\\: + \\:\\: \\int_{a}^{b}\\frac{b^2 + a^2 + 2ab}{4(b-a)}dx $$<br>\n",
    "\n",
    "$$\\implies \\sigma^2 = \\frac{1}{b-a}\\{\\frac{x^3}{3}\\Big|_a^b \\ \\:\\: - \\:\\: (b+a)x^2\\Big|_a^b \\  \\:\\: + \\:\\: \\frac{(b^2+a^2+2ab)x}{4}\\Big|_a^b \\ \\} $$<br>\n",
    "\n",
    "$$\\implies \\sigma^2 = \\frac{1}{b-a} \\{ \\frac{b^3}{3} - \\frac{a^3}{3}  \\:\\: - \\:\\: \\frac{(b+a)(b^2-a^2)}{2} \\:\\: + \\:\\: \\frac{(b+a)^2(b-a)}{4} \\} $$<br>\n",
    "$$\\implies \\sigma^2 = \\frac{1}{b-a} \\{ \\frac{(b-a)(b^2+a^2+ab)}{3}  \\:\\: - \\:\\: \\frac{(b+a)(b-a)(b+a)}{2} \\:\\: + \\:\\: \\frac{(b+a)^2(b-a)}{4} \\} \\:\\: \\text{as} \\:\\: \\{b^3 - a^3 = (b-a)(b^2+a^2+ab)\\} $$<br>\n",
    "$$ \\implies \\sigma^2 = \\frac{b-a}{b-a}\\{ \\frac{b^2}{3} + \\frac{a^2}{3} + \\frac{ab}{3} + (b+a)^2(\\frac{-1}{2} + \\frac{1}{4})\\}$$<br>\n",
    "$$\\implies \\sigma^2 = \\frac{b^2 + a^2 +ab}{3} + \\frac{-1(a^2+b^2+2ab)}{4} $$<br>\n",
    "$$\\implies \\sigma^2 = \\frac{4b^2-3b^2 +4a^2-3b^2 +4ab-6ab}{12}  $$<br>\n",
    "$$\\implies \\sigma^2 = \\frac{b^2+a^2-2ab}{12} $$<br>\n",
    "$$\\implies \\sigma^2 = \\frac{(b-a)^2}{12} $$<br>\n",
    "Hence Proved<br>\n",
    "\n"
   ]
  },
  {
   "cell_type": "markdown",
   "id": "1223836f",
   "metadata": {},
   "source": [
    "# Q3"
   ]
  },
  {
   "cell_type": "markdown",
   "id": "e5dbfa5b",
   "metadata": {},
   "source": [
    "Consider a Normal Random Variable X with $$ \\mu = 0 ,\\sigma^2 = 3 $$\n",
    "The PDF of X is given by :\n",
    "$$ f(x) = \\frac{1}{\\sqrt{2\\pi}\\sigma}e^{\\frac{-(x-\\mu)^2}{2\\sigma^2}}$$<br>\n",
    "$$ \\text{ using } \\:\\: \\sigma = \\sqrt(3) \\:\\: \\text{and} \\:\\: \\mu = 0, $$\n",
    "$$ f(x) = \\frac{1}{\\sqrt{6\\pi}}e^{\\frac{-(x)^2}{6}}$$<br>\n",
    "\n",
    "Consider a Continous Uniform Random Variable Y in the range [-3,3] <br>\n",
    "The PDF of Y is given by :\n",
    "f(x) = \n",
    "     \\begin{cases}\n",
    "        \\frac{1}{b-a} \\:\\:\\: a \\leqslant x \\leqslant b \\\\\n",
    "         0  \\:\\:\\: \\text{Otherwise}\n",
    "     \\end{cases}\n",
    "Using above(Q2) proven results we get :<br>\n",
    "\n",
    "$$ \\mu = \\frac{b+a}{2} $$<br> \n",
    "$$ \\sigma^2 = \\frac{(b-a)^2}{12} $$<br>\n",
    "$$ \\text{ using } \\:\\: b = 3 \\:\\: \\text{and} \\:\\: a = -3, $$\n",
    " f(x) = \n",
    "     \\begin{cases}\n",
    "        \\frac{1}{6} \\:\\:\\: -3 \\leqslant x \\leqslant 3 \\\\\n",
    "         0  \\:\\:\\: \\text{Otherwise}\n",
    "     \\end{cases}\n",
    "$$ \\implies \\mu = \\frac{3-3}{2} = 0$$<br> \n",
    "$$ \\implies \\sigma^2 = \\frac{(3-(-3))^2}{12} = \\frac{6^2}{12} = 3 $$<br>\n",
    "\n",
    "Hence X and Y have the same mean and variance but different distributions"
   ]
  },
  {
   "cell_type": "markdown",
   "id": "04ca8127",
   "metadata": {},
   "source": [
    "Now lets plot the two\n"
   ]
  },
  {
   "cell_type": "code",
   "execution_count": 8,
   "id": "6e6726c3",
   "metadata": {},
   "outputs": [],
   "source": [
    "import numpy as np\n",
    "import matplotlib.pyplot as plt\n",
    "import math "
   ]
  },
  {
   "cell_type": "code",
   "execution_count": 31,
   "id": "1e529184",
   "metadata": {},
   "outputs": [],
   "source": [
    "#compute the pdf of a Uniform Random Variable at point x having range (a,b)\n",
    "def Uniform(a,b,x):\n",
    "    if(x >= a and x <= b):\n",
    "        return 1/(b-a)\n",
    "    else:\n",
    "        return 0"
   ]
  },
  {
   "cell_type": "code",
   "execution_count": 32,
   "id": "5945f331",
   "metadata": {},
   "outputs": [],
   "source": [
    "#compute the pdf of a Normal Random Variable at point x having mean = u and variance = s\n",
    "def Normal(u,s,x):\n",
    "    normalization_factor = np.sqrt(2*math.pi*s)\n",
    "    e_power = -((x-u)**2)/(2*s)\n",
    "    #print(e_power)\n",
    "    num = math.exp(e_power)\n",
    "    return num/normalization_factor"
   ]
  },
  {
   "cell_type": "code",
   "execution_count": 33,
   "id": "37b19dfc",
   "metadata": {},
   "outputs": [],
   "source": [
    "#map ith point out of n+1 point to a real line in range(a,b)\n",
    "def scale(a,b,n,i):\n",
    "    return (i*(b-a))/n + a"
   ]
  },
  {
   "cell_type": "code",
   "execution_count": 36,
   "id": "115f4828",
   "metadata": {},
   "outputs": [
    {
     "data": {
      "image/png": "[encoded data removed]",
      "text/plain": [
       "<Figure size 432x288 with 1 Axes>"
      ]
     },
     "metadata": {
      "needs_background": "light"
     },
     "output_type": "display_data"
    }
   ],
   "source": [
    "#Sample 2001 points between [-10,10]\n",
    "n = 200000\n",
    "a = -10\n",
    "b = 10\n",
    "X = [scale(a,b,n,i) for i in range(n+1)]\n",
    "Y1 = [Uniform(-3,3,scale(a,b,n,i)) for i in range(n+1)]\n",
    "Y2 = [Normal(0,3,scale(a,b,n,i)) for i in range(n+1)]\n",
    "plt.plot(X,Y1,'g')\n",
    "plt.plot(X,Y2,'b')\n",
    "plt.title(\"Different Distributions with same mean and Variance\")\n",
    "plt.xlabel(\"x\")\n",
    "plt.ylabel(\"PDF(x)\")\n",
    "plt.legend([\"Uniform\",\"Normal\"])\n",
    "plt.show()"
   ]
  },
  {
   "cell_type": "markdown",
   "id": "8319ea7d",
   "metadata": {},
   "source": [
    "## Q4"
   ]
  },
  {
   "cell_type": "markdown",
   "id": "e4f6a7de",
   "metadata": {},
   "source": [
    "Variance is defined by :\n",
    "$$ \\sigma^2 = E[(X-E[X])^2] $$ <br>\n",
    "To Prove :\n",
    "$$ \\sigma^2 = E[X^2] - E[X]^2 \\text{for a discrete Random Variable} $$<br>\n",
    "\n",
    "Proof: <br>\n",
    "$$ \\sigma^2 = E[(X-E[X])^2] $$<br>\n",
    "$$ \\implies \\sigma^2 = E[X^2 -2XE[X] + E[X]^2] $$<br>\n",
    "$$\\text{Using Linearity of Expectation}$$<br>\n",
    "$$\\implies \\sigma^2 = E[X^2] -2E[XE[X]] + E[E[X]^2] $$<br>\n",
    "$$\\text{As E[X] is a constant, and using Linearity of Expectation We get : }$$<br>\n",
    "$$\\:\\: E[XE[X]] = E[X]E[X] \\:\\: \\text{and} \\:\\: E[E[X]^2] = E[X]^2 \\:\\: \\text{\\{Expectation of a constant value is the same constant value\\}}$$<br>\n",
    "$$\\implies \\sigma^2 = E[X^2] -2(E[X])^2 + E[X]^2 $$<br>\n",
    "$$\\implies \\sigma^2 = E[X^2] - E[X]^2 $$<br>\n",
    "\n",
    "Hence Using the Definition of Variance and Properties Like Linearity of Expectation and Expection of an Constant value is Constant we can prove the above property without requiring the Variable to be Contionous.<br>\n",
    "Hence Proved\n"
   ]
  },
  {
   "cell_type": "markdown",
   "id": "159e60a6",
   "metadata": {},
   "source": [
    "# Q4"
   ]
  },
  {
   "cell_type": "markdown",
   "id": "8ce397b7",
   "metadata": {},
   "source": [
    "$$\\text{Consider a Normal Random Variable}\\:X \\sim N(\\mu,\\sigma^2) $$\n",
    "$$\\text{The PDF of X is given by :} \\: f(x) = \\frac{1}{\\sqrt{2\\pi}\\sigma}e^{\\frac{-(x-\\mu)^2}{2\\sigma^2}}$$<br>\n",
    "$$ E[X] = \\int_{-\\infty}^{\\infty}f(x)xdx $$<br>\n"
   ]
  },
  {
   "cell_type": "markdown",
   "id": "7d8f91c1",
   "metadata": {},
   "source": [
    "$$ \\text{The Moment Generating Function is defined by}\\: M_x(t) = E[e^{tx}] $$<br>\n",
    "$$ \\implies M_x(t) = \\int_{-\\infty}^{\\infty}f(x)e^{tx}dx $$<br>\n",
    "$$\\implies M_x(t) =  \\int_{-\\infty}^{\\infty}\\frac{1}{\\sqrt{2\\pi\\sigma^2}}e^{tx-\\frac{(x-\\mu)^2}{2\\sigma^2}}dx $$<br>"
   ]
  },
  {
   "cell_type": "markdown",
   "id": "5860d1bc",
   "metadata": {},
   "source": [
    "$$\\text{substituting} \\: u = \\frac{x-\\mu}{\\sqrt2\\sigma} \\: \\text{We get} \\: x = \\sqrt2u\\sigma +\\mu \\: \\text{and} \\: dx = \\sqrt2u\\sigma dv  $$"
   ]
  },
  {
   "cell_type": "markdown",
   "id": "42b090c4",
   "metadata": {},
   "source": [
    "$$ \\implies M_x(t) = \\frac{1}{\\sqrt{\\pi}}\\int_{-\\infty}^{\\infty}e^{-u^2 + t\\mu + t\\sqrt{2}u\\sigma}du $$"
   ]
  },
  {
   "cell_type": "markdown",
   "id": "66dc49a5",
   "metadata": {},
   "source": [
    "$$\\implies M_x(t) = \\frac{e^{t\\mu}}{\\sqrt{\\pi}}\\int_{-\\infty}^{\\infty}e^{-u^2  + t\\sqrt{2}u\\sigma}du $$"
   ]
  },
  {
   "cell_type": "markdown",
   "id": "f8ba646b",
   "metadata": {},
   "source": [
    "$$ \\implies M_x(t) = \\frac{e^{t\\mu}}{\\sqrt{\\pi}}\\int_{-\\infty}^{\\infty}e^{-u^2  + t\\sqrt{2}u\\sigma + \\frac{\\sigma^2t^2}{2} - \\frac{\\sigma^2t^2}{2}}du $$"
   ]
  },
  {
   "cell_type": "markdown",
   "id": "fdd50741",
   "metadata": {},
   "source": [
    "$$ \\implies M_x(t) = \\frac{e^{t\\mu}}{\\sqrt{\\pi}}\\int_{-\\infty}^{\\infty}e^{-\\{u^2  - 2(\\frac{t\\sigma}{\\sqrt2})(u) + (\\frac{t\\sigma}{\\sqrt2})^2 \\} + \\frac{\\sigma^2t^2}{2}}du $$"
   ]
  },
  {
   "cell_type": "markdown",
   "id": "5cff4721",
   "metadata": {},
   "source": [
    "$$ \\implies M_x(t) = \\frac{e^{t\\mu}}{\\sqrt{\\pi}}\\int_{-\\infty}^{\\infty}e^{-\\{u -\\frac{t\\sigma}{\\sqrt2} \\}^2 + \\frac{\\sigma^2t^2}{2}}du $$"
   ]
  },
  {
   "cell_type": "markdown",
   "id": "d6b81df0",
   "metadata": {},
   "source": [
    "$$  \\text{Substituting }\\: v = u - \\frac{t\\sigma}{\\sqrt2}\\: \\text{we get} \\: dv = du \\: \\text{and} \\: u = v + \\frac{t\\sigma}{\\sqrt2} $$"
   ]
  },
  {
   "cell_type": "markdown",
   "id": "379fbebd",
   "metadata": {},
   "source": [
    "$$ \\implies M_x(t) = \\frac{e^{t\\mu +\\frac{\\sigma^2t^2}{2}}}{\\sqrt{\\pi}}\\int_{-\\infty}^{\\infty}e^{v^2}dv $$"
   ]
  },
  {
   "cell_type": "markdown",
   "id": "abf82179",
   "metadata": {},
   "source": [
    "$$ \\int_{-\\infty}^{\\infty}e^{v^2}dv \\: \\text{is called the gaussian integral and is equal to} \\: \\frac{1}{\\sqrt\\pi}$$"
   ]
  },
  {
   "cell_type": "markdown",
   "id": "e250be0a",
   "metadata": {},
   "source": [
    "$$ \\implies M_x(t) = \\frac{\\sqrt{\\pi}e^{t\\mu + \\frac{\\sigma^2t^2}{2}}}{\\sqrt\\pi} $$"
   ]
  },
  {
   "cell_type": "markdown",
   "id": "29c81013",
   "metadata": {},
   "source": [
    "$$ \\implies M_x(t) = e^{t\\mu + \\frac{\\sigma^2t^2}{2}} $$"
   ]
  },
  {
   "cell_type": "markdown",
   "id": "1a8656d1",
   "metadata": {},
   "source": [
    "$$ E[X] = M_x^'(t) $$"
   ]
  },
  {
   "cell_type": "code",
   "execution_count": null,
   "id": "f00472a9",
   "metadata": {},
   "outputs": [],
   "source": []
  }
 ],
 "metadata": {
  "kernelspec": {
   "display_name": "Python (myenv)",
   "language": "python",
   "name": "myenv"
  },
  "language_info": {
   "codemirror_mode": {
    "name": "ipython",
    "version": 3
   },
   "file_extension": ".py",
   "mimetype": "text/x-python",
   "name": "python",
   "nbconvert_exporter": "python",
   "pygments_lexer": "ipython3",
   "version": "3.9.4"
  }
 },
 "nbformat": 4,
 "nbformat_minor": 5
}
